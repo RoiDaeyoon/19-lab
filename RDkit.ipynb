{
  "nbformat": 4,
  "nbformat_minor": 0,
  "metadata": {
    "colab": {
      "name": "RDkit.ipynb",
      "provenance": [],
      "collapsed_sections": [],
      "include_colab_link": true
    },
    "kernelspec": {
      "name": "python3",
      "display_name": "Python 3"
    },
    "accelerator": "GPU"
  },
  "cells": [
    {
      "cell_type": "markdown",
      "metadata": {
        "id": "view-in-github",
        "colab_type": "text"
      },
      "source": [
        "<a href=\"https://colab.research.google.com/github/brianshin12/19-lab/blob/master/RDkit.ipynb\" target=\"_parent\"><img src=\"https://colab.research.google.com/assets/colab-badge.svg\" alt=\"Open In Colab\"/></a>"
      ]
    },
    {
      "cell_type": "markdown",
      "metadata": {
        "id": "gd3NMbu_OVe9",
        "colab_type": "text"
      },
      "source": [
        "# RDkit    \n",
        "화학정보학, 가장 잘알려진 오픈소스 프로그램.  \n",
        "RD: Rational Discovery(회사명) 현재는 문 닫음.  \n",
        "* 기능  \n",
        "여러가지 포맷의 파일 읽음, similarity, scketch, 전하 계산, 안정화  \n",
        "* 11가지 패키지  \n",
        "Cehm, DataManip, DataStructs, Dbase, DistanceGeometry, forceField, Geometry, ML, Numerics, SimDivFiters, Vlib  \n",
        "* 270가지 이상 모듈, 서브 패키지  \n",
        "\n",
        "### 0장 \n",
        "RDkit colab으로 불러오기"
      ]
    },
    {
      "cell_type": "code",
      "metadata": {
        "id": "vHaIDUDR5nsI",
        "colab_type": "code",
        "colab": {
          "base_uri": "https://localhost:8080/",
          "height": 1000
        },
        "outputId": "9f887f20-0f54-4982-c8e3-f13e8267ee28"
      },
      "source": [
        "!wget -c https://repo.continuum.io/miniconda/Miniconda3-latest-Linux-x86_64.sh\n",
        "!chmod +x Miniconda3-latest-Linux-x86_64.sh\n",
        "!time bash ./Miniconda3-latest-Linux-x86_64.sh -b -f -p /usr/local\n",
        "!time conda install -q -y -c conda-forge rdkit"
      ],
      "execution_count": 1,
      "outputs": [
        {
          "output_type": "stream",
          "text": [
            "--2019-12-02 15:26:07--  https://repo.continuum.io/miniconda/Miniconda3-latest-Linux-x86_64.sh\n",
            "Resolving repo.continuum.io (repo.continuum.io)... 104.18.200.79, 104.18.201.79, 2606:4700::6812:c84f, ...\n",
            "Connecting to repo.continuum.io (repo.continuum.io)|104.18.200.79|:443... connected.\n",
            "HTTP request sent, awaiting response... 416 Requested Range Not Satisfiable\n",
            "\n",
            "    The file is already fully retrieved; nothing to do.\n",
            "\n",
            "PREFIX=/usr/local\n",
            "Unpacking payload ...\n",
            "Collecting package metadata (current_repodata.json): - \b\b\\ \b\b| \b\b/ \b\b- \b\bdone\n",
            "Solving environment: | \b\b/ \b\b- \b\b\\ \b\b| \b\b/ \b\b- \b\b\\ \b\b| \b\b/ \b\b- \b\b\\ \b\b| \b\bdone\n",
            "\n",
            "## Package Plan ##\n",
            "\n",
            "  environment location: /usr/local\n",
            "\n",
            "  added / updated specs:\n",
            "    - _libgcc_mutex==0.1=main\n",
            "    - asn1crypto==1.2.0=py37_0\n",
            "    - ca-certificates==2019.10.16=0\n",
            "    - certifi==2019.9.11=py37_0\n",
            "    - cffi==1.13.0=py37h2e261b9_0\n",
            "    - chardet==3.0.4=py37_1003\n",
            "    - conda-package-handling==1.6.0=py37h7b6447c_0\n",
            "    - conda==4.7.12=py37_0\n",
            "    - cryptography==2.8=py37h1ba5d50_0\n",
            "    - idna==2.8=py37_0\n",
            "    - libedit==3.1.20181209=hc058e9b_0\n",
            "    - libffi==3.2.1=hd88cf55_4\n",
            "    - libgcc-ng==9.1.0=hdf63c60_0\n",
            "    - libstdcxx-ng==9.1.0=hdf63c60_0\n",
            "    - ncurses==6.1=he6710b0_1\n",
            "    - openssl==1.1.1d=h7b6447c_3\n",
            "    - pip==19.3.1=py37_0\n",
            "    - pycosat==0.6.3=py37h14c3975_0\n",
            "    - pycparser==2.19=py37_0\n",
            "    - pyopenssl==19.0.0=py37_0\n",
            "    - pysocks==1.7.1=py37_0\n",
            "    - python==3.7.4=h265db76_1\n",
            "    - readline==7.0=h7b6447c_5\n",
            "    - requests==2.22.0=py37_0\n",
            "    - ruamel_yaml==0.15.46=py37h14c3975_0\n",
            "    - setuptools==41.4.0=py37_0\n",
            "    - six==1.12.0=py37_0\n",
            "    - sqlite==3.30.0=h7b6447c_0\n",
            "    - tk==8.6.8=hbc83047_0\n",
            "    - tqdm==4.36.1=py_0\n",
            "    - urllib3==1.24.2=py37_0\n",
            "    - wheel==0.33.6=py37_0\n",
            "    - xz==5.2.4=h14c3975_4\n",
            "    - yaml==0.1.7=had09818_2\n",
            "    - zlib==1.2.11=h7b6447c_3\n",
            "\n",
            "\n",
            "The following packages will be UPDATED:\n",
            "\n",
            "  openssl            conda-forge::openssl-1.1.1d-h516909a_0 --> pkgs/main::openssl-1.1.1d-h7b6447c_3\n",
            "\n",
            "The following packages will be SUPERSEDED by a higher-priority channel:\n",
            "\n",
            "  ca-certificates    conda-forge::ca-certificates-2019.11.~ --> pkgs/main::ca-certificates-2019.10.16-0\n",
            "  certifi            conda-forge::certifi-2019.11.28-py37_0 --> pkgs/main::certifi-2019.9.11-py37_0\n",
            "  conda                                         conda-forge --> pkgs/main\n",
            "\n",
            "\n",
            "Preparing transaction: - \b\bdone\n",
            "Executing transaction: | \b\b/ \b\bdone\n",
            "installation finished.\n",
            "WARNING:\n",
            "    You currently have a PYTHONPATH environment variable set. This may cause\n",
            "    unexpected behavior when running the Python interpreter in Miniconda3.\n",
            "    For best results, please verify that your PYTHONPATH only points to\n",
            "    directories of packages that are compatible with the Python interpreter\n",
            "    in Miniconda3: /usr/local\n",
            "\n",
            "real\t0m22.729s\n",
            "user\t0m28.745s\n",
            "sys\t0m4.165s\n",
            "Collecting package metadata (current_repodata.json): ...working... done\n",
            "Solving environment: ...working... done\n",
            "\n",
            "## Package Plan ##\n",
            "\n",
            "  environment location: /usr/local\n",
            "\n",
            "  added / updated specs:\n",
            "    - rdkit\n",
            "\n",
            "\n",
            "The following packages will be downloaded:\n",
            "\n",
            "    package                    |            build\n",
            "    ---------------------------|-----------------\n",
            "    conda-4.7.12               |           py37_0         3.0 MB  conda-forge\n",
            "    ------------------------------------------------------------\n",
            "                                           Total:         3.0 MB\n",
            "\n",
            "The following packages will be UPDATED:\n",
            "\n",
            "  ca-certificates    pkgs/main::ca-certificates-2019.10.16~ --> conda-forge::ca-certificates-2019.11.28-hecc5488_0\n",
            "  certifi               pkgs/main::certifi-2019.9.11-py37_0 --> conda-forge::certifi-2019.11.28-py37_0\n",
            "\n",
            "The following packages will be SUPERSEDED by a higher-priority channel:\n",
            "\n",
            "  conda                                           pkgs/main --> conda-forge\n",
            "  openssl              pkgs/main::openssl-1.1.1d-h7b6447c_3 --> conda-forge::openssl-1.1.1d-h516909a_0\n",
            "\n",
            "\n",
            "Preparing transaction: ...working... done\n",
            "Verifying transaction: ...working... done\n",
            "Executing transaction: ...working... done\n",
            "\n",
            "real\t0m9.411s\n",
            "user\t0m8.388s\n",
            "sys\t0m0.886s\n"
          ],
          "name": "stdout"
        }
      ]
    },
    {
      "cell_type": "code",
      "metadata": {
        "id": "1gQ4NCv86DVs",
        "colab_type": "code",
        "colab": {}
      },
      "source": [
        "%matplotlib inline\n",
        "import sys\n",
        "import os\n",
        "sys.path.append('/usr/local/lib/python3.7/site-packages/')"
      ],
      "execution_count": 0,
      "outputs": []
    },
    {
      "cell_type": "code",
      "metadata": {
        "id": "L0NaZUhe8rFI",
        "colab_type": "code",
        "colab": {}
      },
      "source": [
        "#여러가지 파일 변환시키기\n",
        "from rdkit import Chem\n",
        "from rdkit.Chem import AllChem\n",
        "ala='CC(C(=O)O)N'\n",
        "m=Chem.MolFromSmiles(ala)\n",
        "#m이라는 mol object에 스마일에서 가져와서 넣는다"
      ],
      "execution_count": 0,
      "outputs": []
    },
    {
      "cell_type": "code",
      "metadata": {
        "id": "ZHUBsZwl-dFV",
        "colab_type": "code",
        "colab": {
          "base_uri": "https://localhost:8080/",
          "height": 36
        },
        "outputId": "7eba6e2c-0e67-4901-c7ec-527543d816c1"
      },
      "source": [
        "m\n",
        "#주소가 나온다"
      ],
      "execution_count": 4,
      "outputs": [
        {
          "output_type": "execute_result",
          "data": {
            "text/plain": [
              "<rdkit.Chem.rdchem.Mol at 0x7f5124648120>"
            ]
          },
          "metadata": {
            "tags": []
          },
          "execution_count": 4
        }
      ]
    },
    {
      "cell_type": "code",
      "metadata": {
        "id": "Sz_AykDk-6A9",
        "colab_type": "code",
        "colab": {
          "base_uri": "https://localhost:8080/",
          "height": 335
        },
        "outputId": "ab41606f-129f-4fa3-af81-e912bd2430a8"
      },
      "source": [
        "print (Chem.MolToMolBlock(m))\n",
        "#m이라는 mol object를 몰 블록의 형식으로 출력"
      ],
      "execution_count": 5,
      "outputs": [
        {
          "output_type": "stream",
          "text": [
            "\n",
            "     RDKit          2D\n",
            "\n",
            "  6  5  0  0  0  0  0  0  0  0999 V2000\n",
            "    0.0000    0.0000    0.0000 C   0  0  0  0  0  0  0  0  0  0  0  0\n",
            "    1.2990    0.7500    0.0000 C   0  0  0  0  0  0  0  0  0  0  0  0\n",
            "    2.5981   -0.0000    0.0000 C   0  0  0  0  0  0  0  0  0  0  0  0\n",
            "    2.5981   -1.5000    0.0000 O   0  0  0  0  0  0  0  0  0  0  0  0\n",
            "    3.8971    0.7500    0.0000 O   0  0  0  0  0  0  0  0  0  0  0  0\n",
            "    1.2990    2.2500    0.0000 N   0  0  0  0  0  0  0  0  0  0  0  0\n",
            "  1  2  1  0\n",
            "  2  3  1  0\n",
            "  3  4  2  0\n",
            "  3  5  1  0\n",
            "  2  6  1  0\n",
            "M  END\n",
            "\n"
          ],
          "name": "stdout"
        }
      ]
    },
    {
      "cell_type": "markdown",
      "metadata": {
        "id": "erPtTWPI_Xa8",
        "colab_type": "text"
      },
      "source": [
        "6개의 원자 5개의 bond"
      ]
    },
    {
      "cell_type": "code",
      "metadata": {
        "id": "Fj4hPMW9_Rgg",
        "colab_type": "code",
        "colab": {
          "base_uri": "https://localhost:8080/",
          "height": 36
        },
        "outputId": "3c302804-ccb3-47cb-cc16-387bde3b07fa"
      },
      "source": [
        "print (Chem.MolToSmiles(m))"
      ],
      "execution_count": 6,
      "outputs": [
        {
          "output_type": "stream",
          "text": [
            "CC(N)C(=O)O\n"
          ],
          "name": "stdout"
        }
      ]
    },
    {
      "cell_type": "code",
      "metadata": {
        "id": "3EKAJWr5_0fE",
        "colab_type": "code",
        "colab": {
          "base_uri": "https://localhost:8080/",
          "height": 36
        },
        "outputId": "f62fcc78-1ff1-44f9-e662-260b5bc10e42"
      },
      "source": [
        "print(ala)"
      ],
      "execution_count": 7,
      "outputs": [
        {
          "output_type": "stream",
          "text": [
            "CC(C(=O)O)N\n"
          ],
          "name": "stdout"
        }
      ]
    },
    {
      "cell_type": "markdown",
      "metadata": {
        "id": "qQ0Z6Xsm_4iG",
        "colab_type": "text"
      },
      "source": [
        "같은 물질이지만 다른 코드로 나타날 수 있다. "
      ]
    },
    {
      "cell_type": "code",
      "metadata": {
        "id": "oB5aIJ9f_3VS",
        "colab_type": "code",
        "colab": {
          "base_uri": "https://localhost:8080/",
          "height": 36
        },
        "outputId": "f5670705-960e-4910-a9ba-8e13c5cecaab"
      },
      "source": [
        "print (Chem.MolToSmarts(m))\n",
        "#Smarts로 표현"
      ],
      "execution_count": 8,
      "outputs": [
        {
          "output_type": "stream",
          "text": [
            "[#6]-[#6](-[#6](=[#8])-[#8])-[#7]\n"
          ],
          "name": "stdout"
        }
      ]
    },
    {
      "cell_type": "code",
      "metadata": {
        "id": "UhCLzVeHAT7x",
        "colab_type": "code",
        "colab": {}
      },
      "source": [
        "from rdkit.Chem.Draw import IPythonConsole\n",
        "from rdkit.Chem import Draw"
      ],
      "execution_count": 0,
      "outputs": []
    },
    {
      "cell_type": "code",
      "metadata": {
        "id": "rIXl-6A0A8y-",
        "colab_type": "code",
        "colab": {
          "base_uri": "https://localhost:8080/",
          "height": 167
        },
        "outputId": "8694a080-db7e-4889-df70-0ad315d35c58"
      },
      "source": [
        "m\n",
        "# 위 두 코드를 입력하면 다음과 같이 그림으로 나타낼 수 있다."
      ],
      "execution_count": 10,
      "outputs": [
        {
          "output_type": "execute_result",
          "data": {
            "image/png": "[encoded data removed]",
            "text/plain": [
              "<rdkit.Chem.rdchem.Mol at 0x7f5124648120>"
            ]
          },
          "metadata": {
            "tags": []
          },
          "execution_count": 10
        }
      ]
    },
    {
      "cell_type": "code",
      "metadata": {
        "id": "ZErFG40HBmD-",
        "colab_type": "code",
        "colab": {}
      },
      "source": [
        "mh=AllChem.AddHs(m)\n",
        "#m이라는 분자에다 수소를 붙여서 mh에 넣어라"
      ],
      "execution_count": 0,
      "outputs": []
    },
    {
      "cell_type": "code",
      "metadata": {
        "id": "xkj9BWE5CqZ-",
        "colab_type": "code",
        "colab": {
          "base_uri": "https://localhost:8080/",
          "height": 167
        },
        "outputId": "d98fc1ce-f44a-45f9-dc9d-01a04d8ff75a"
      },
      "source": [
        "mh"
      ],
      "execution_count": 12,
      "outputs": [
        {
          "output_type": "execute_result",
          "data": {
            "image/png": "[encoded data removed]",
            "text/plain": [
              "<rdkit.Chem.rdchem.Mol at 0x7f511fa41df0>"
            ]
          },
          "metadata": {
            "tags": []
          },
          "execution_count": 12
        }
      ]
    },
    {
      "cell_type": "code",
      "metadata": {
        "id": "GSBDFToqCrQc",
        "colab_type": "code",
        "colab": {
          "base_uri": "https://localhost:8080/",
          "height": 596
        },
        "outputId": "4e9dbf2c-0c45-49a4-f306-374e96d84963"
      },
      "source": [
        "print(Chem.MolToMolBlock(mh))"
      ],
      "execution_count": 13,
      "outputs": [
        {
          "output_type": "stream",
          "text": [
            "\n",
            "     RDKit          2D\n",
            "\n",
            " 13 12  0  0  0  0  0  0  0  0999 V2000\n",
            "    2.5981    1.5000    0.0000 C   0  0  0  0  0  0  0  0  0  0  0  0\n",
            "    1.2990    0.7500    0.0000 C   0  0  0  0  0  0  0  0  0  0  0  0\n",
            "    0.0000    0.0000    0.0000 C   0  0  0  0  0  0  0  0  0  0  0  0\n",
            "   -1.2990    0.7500    0.0000 O   0  0  0  0  0  0  0  0  0  0  0  0\n",
            "   -0.0000   -1.5000    0.0000 O   0  0  0  0  0  0  0  0  0  0  0  0\n",
            "    2.0490   -0.5490    0.0000 N   0  0  0  0  0  0  0  0  0  0  0  0\n",
            "    3.8971    2.2500    0.0000 H   0  0  0  0  0  0  0  0  0  0  0  0\n",
            "    1.8481    2.7990    0.0000 H   0  0  0  0  0  0  0  0  0  0  0  0\n",
            "    3.5008    0.3021    0.0000 H   0  0  0  0  0  0  0  0  0  0  0  0\n",
            "    0.5490    2.0490    0.0000 H   0  0  0  0  0  0  0  0  0  0  0  0\n",
            "   -1.2990   -2.2500    0.0000 H   0  0  0  0  0  0  0  0  0  0  0  0\n",
            "    1.2990   -1.8481    0.0000 H   0  0  0  0  0  0  0  0  0  0  0  0\n",
            "    3.5379   -0.7319    0.0000 H   0  0  0  0  0  0  0  0  0  0  0  0\n",
            "  1  2  1  0\n",
            "  2  3  1  0\n",
            "  3  4  2  0\n",
            "  3  5  1  0\n",
            "  2  6  1  0\n",
            "  1  7  1  0\n",
            "  1  8  1  0\n",
            "  1  9  1  0\n",
            "  2 10  1  0\n",
            "  5 11  1  0\n",
            "  6 12  1  0\n",
            "  6 13  1  0\n",
            "M  END\n",
            "\n"
          ],
          "name": "stdout"
        }
      ]
    },
    {
      "cell_type": "code",
      "metadata": {
        "id": "cOYZBnsTCz_q",
        "colab_type": "code",
        "colab": {
          "base_uri": "https://localhost:8080/",
          "height": 36
        },
        "outputId": "80117334-3498-4fa9-f04d-41f07e089ae5"
      },
      "source": [
        "AllChem.EmbedMolecule(mh)\n",
        "#좌표를 3d형태로 바꿔줌"
      ],
      "execution_count": 14,
      "outputs": [
        {
          "output_type": "execute_result",
          "data": {
            "text/plain": [
              "0"
            ]
          },
          "metadata": {
            "tags": []
          },
          "execution_count": 14
        }
      ]
    },
    {
      "cell_type": "code",
      "metadata": {
        "id": "39gfcqRMC__2",
        "colab_type": "code",
        "colab": {
          "base_uri": "https://localhost:8080/",
          "height": 596
        },
        "outputId": "1a14ec96-da16-4ffa-aff2-356b521ca5ac"
      },
      "source": [
        "print(Chem.MolToMolBlock(mh))"
      ],
      "execution_count": 15,
      "outputs": [
        {
          "output_type": "stream",
          "text": [
            "\n",
            "     RDKit          3D\n",
            "\n",
            " 13 12  0  0  0  0  0  0  0  0999 V2000\n",
            "   -1.1360   -0.5956   -0.7037 C   0  0  0  0  0  0  0  0  0  0  0  0\n",
            "   -0.0566   -0.2631    0.3291 C   0  0  0  0  0  0  0  0  0  0  0  0\n",
            "    1.0543    0.5060   -0.2786 C   0  0  0  0  0  0  0  0  0  0  0  0\n",
            "    1.3057    1.6577    0.1536 O   0  0  0  0  0  0  0  0  0  0  0  0\n",
            "    1.8520    0.0341   -1.3116 O   0  0  0  0  0  0  0  0  0  0  0  0\n",
            "   -0.6728    0.5054    1.3627 N   0  0  0  0  0  0  0  0  0  0  0  0\n",
            "   -0.7606   -0.4837   -1.7266 H   0  0  0  0  0  0  0  0  0  0  0  0\n",
            "   -1.9943    0.1156   -0.6051 H   0  0  0  0  0  0  0  0  0  0  0  0\n",
            "   -1.5393   -1.5992   -0.4831 H   0  0  0  0  0  0  0  0  0  0  0  0\n",
            "    0.3586   -1.1936    0.7782 H   0  0  0  0  0  0  0  0  0  0  0  0\n",
            "    2.7503   -0.3498   -1.0703 H   0  0  0  0  0  0  0  0  0  0  0  0\n",
            "   -0.5727    0.1444    2.3140 H   0  0  0  0  0  0  0  0  0  0  0  0\n",
            "   -0.5887    1.5217    1.2413 H   0  0  0  0  0  0  0  0  0  0  0  0\n",
            "  1  2  1  0\n",
            "  2  3  1  0\n",
            "  3  4  2  0\n",
            "  3  5  1  0\n",
            "  2  6  1  0\n",
            "  1  7  1  0\n",
            "  1  8  1  0\n",
            "  1  9  1  0\n",
            "  2 10  1  0\n",
            "  5 11  1  0\n",
            "  6 12  1  0\n",
            "  6 13  1  0\n",
            "M  END\n",
            "\n"
          ],
          "name": "stdout"
        }
      ]
    },
    {
      "cell_type": "code",
      "metadata": {
        "id": "rLRMk1-wDKVD",
        "colab_type": "code",
        "colab": {}
      },
      "source": [
        "ll = AllChem.UFFGetMoleculeForceField(mh)"
      ],
      "execution_count": 0,
      "outputs": []
    },
    {
      "cell_type": "code",
      "metadata": {
        "id": "LzPGOWVOD2Ws",
        "colab_type": "code",
        "colab": {
          "base_uri": "https://localhost:8080/",
          "height": 36
        },
        "outputId": "750664d2-d4ef-477c-c428-d752e02d3988"
      },
      "source": [
        "print (ll.CalcEnergy())\n",
        "#에너지 계산"
      ],
      "execution_count": 17,
      "outputs": [
        {
          "output_type": "stream",
          "text": [
            "29.879420233707375\n"
          ],
          "name": "stdout"
        }
      ]
    },
    {
      "cell_type": "code",
      "metadata": {
        "id": "LZSGWtbmD7xD",
        "colab_type": "code",
        "colab": {
          "base_uri": "https://localhost:8080/",
          "height": 36
        },
        "outputId": "2a3de494-aa32-4ee3-ecfe-b3a45b7831cc"
      },
      "source": [
        "AllChem.UFFOptimizeMolecule(mh)\n",
        "#안정한 구조"
      ],
      "execution_count": 18,
      "outputs": [
        {
          "output_type": "execute_result",
          "data": {
            "text/plain": [
              "0"
            ]
          },
          "metadata": {
            "tags": []
          },
          "execution_count": 18
        }
      ]
    },
    {
      "cell_type": "code",
      "metadata": {
        "id": "ZShLmO_nEL4-",
        "colab_type": "code",
        "colab": {
          "base_uri": "https://localhost:8080/",
          "height": 36
        },
        "outputId": "6dd4b36c-b664-4e9d-b58a-725437eddb0d"
      },
      "source": [
        "print(ll.CalcEnergy())"
      ],
      "execution_count": 19,
      "outputs": [
        {
          "output_type": "stream",
          "text": [
            "12.77722598582374\n"
          ],
          "name": "stdout"
        }
      ]
    },
    {
      "cell_type": "code",
      "metadata": {
        "id": "ykPk5ggBEH4Z",
        "colab_type": "code",
        "colab": {
          "base_uri": "https://localhost:8080/",
          "height": 167
        },
        "outputId": "64508b9d-69e0-4dad-9907-83d72332e46b"
      },
      "source": [
        "mh"
      ],
      "execution_count": 20,
      "outputs": [
        {
          "output_type": "execute_result",
          "data": {
            "image/png": "[encoded data removed]",
            "text/plain": [
              "<rdkit.Chem.rdchem.Mol at 0x7f511fa41df0>"
            ]
          },
          "metadata": {
            "tags": []
          },
          "execution_count": 20
        }
      ]
    },
    {
      "cell_type": "code",
      "metadata": {
        "id": "9lFnnYgLEKIf",
        "colab_type": "code",
        "colab": {
          "base_uri": "https://localhost:8080/",
          "height": 596
        },
        "outputId": "70201498-bed5-45e9-d82e-39e6570d5374"
      },
      "source": [
        "print(Chem.MolToMolBlock(mh))"
      ],
      "execution_count": 21,
      "outputs": [
        {
          "output_type": "stream",
          "text": [
            "\n",
            "     RDKit          3D\n",
            "\n",
            " 13 12  0  0  0  0  0  0  0  0999 V2000\n",
            "   -1.1105   -0.3872   -0.8689 C   0  0  0  0  0  0  0  0  0  0  0  0\n",
            "   -0.1619   -0.3914    0.3310 C   0  0  0  0  0  0  0  0  0  0  0  0\n",
            "    1.1155    0.3399   -0.0051 C   0  0  0  0  0  0  0  0  0  0  0  0\n",
            "    1.4566    1.3767    0.6268 O   0  0  0  0  0  0  0  0  0  0  0  0\n",
            "    1.9329   -0.1443   -1.0222 O   0  0  0  0  0  0  0  0  0  0  0  0\n",
            "   -0.8378    0.1838    1.4976 N   0  0  0  0  0  0  0  0  0  0  0  0\n",
            "   -0.6379   -0.8947   -1.7370 H   0  0  0  0  0  0  0  0  0  0  0  0\n",
            "   -1.3707    0.6542   -1.1569 H   0  0  0  0  0  0  0  0  0  0  0  0\n",
            "   -2.0445   -0.9317   -0.6136 H   0  0  0  0  0  0  0  0  0  0  0  0\n",
            "    0.0975   -1.4477    0.5624 H   0  0  0  0  0  0  0  0  0  0  0  0\n",
            "    2.7960    0.3275   -1.2646 H   0  0  0  0  0  0  0  0  0  0  0  0\n",
            "   -0.2000    0.1176    2.3244 H   0  0  0  0  0  0  0  0  0  0  0  0\n",
            "   -1.0352    1.1973    1.3260 H   0  0  0  0  0  0  0  0  0  0  0  0\n",
            "  1  2  1  0\n",
            "  2  3  1  0\n",
            "  3  4  2  0\n",
            "  3  5  1  0\n",
            "  2  6  1  0\n",
            "  1  7  1  0\n",
            "  1  8  1  0\n",
            "  1  9  1  0\n",
            "  2 10  1  0\n",
            "  5 11  1  0\n",
            "  6 12  1  0\n",
            "  6 13  1  0\n",
            "M  END\n",
            "\n"
          ],
          "name": "stdout"
        }
      ]
    },
    {
      "cell_type": "code",
      "metadata": {
        "id": "NXJMWg1xFXJe",
        "colab_type": "code",
        "colab": {}
      },
      "source": [
        "from rdkit.Chem import Descriptors"
      ],
      "execution_count": 0,
      "outputs": []
    },
    {
      "cell_type": "code",
      "metadata": {
        "id": "vpPCFEMHFy5m",
        "colab_type": "code",
        "colab": {
          "base_uri": "https://localhost:8080/",
          "height": 36
        },
        "outputId": "f451b364-8d16-440d-92bc-a08d8c4c5c77"
      },
      "source": [
        "#분자량 계산\n",
        "print(Descriptors.MolWt(mh))"
      ],
      "execution_count": 23,
      "outputs": [
        {
          "output_type": "stream",
          "text": [
            "89.09399999999998\n"
          ],
          "name": "stdout"
        }
      ]
    },
    {
      "cell_type": "code",
      "metadata": {
        "id": "02heOE-XF_ST",
        "colab_type": "code",
        "colab": {
          "base_uri": "https://localhost:8080/",
          "height": 36
        },
        "outputId": "078d2d57-5f8a-45cf-ff63-c4b93d64363b"
      },
      "source": [
        "#고리 수 계산\n",
        "print(Descriptors.RingCount(mh))"
      ],
      "execution_count": 24,
      "outputs": [
        {
          "output_type": "stream",
          "text": [
            "0\n"
          ],
          "name": "stdout"
        }
      ]
    },
    {
      "cell_type": "code",
      "metadata": {
        "id": "nbzg1o4FGMt4",
        "colab_type": "code",
        "colab": {}
      },
      "source": [
        "a=Chem.MolFromSmiles('C1CCCCC1')"
      ],
      "execution_count": 0,
      "outputs": []
    },
    {
      "cell_type": "code",
      "metadata": {
        "id": "OmXbTc6tGQsh",
        "colab_type": "code",
        "colab": {
          "base_uri": "https://localhost:8080/",
          "height": 167
        },
        "outputId": "831155e6-edc4-4c9d-bf92-fb45f6bcb8c7"
      },
      "source": [
        "a"
      ],
      "execution_count": 26,
      "outputs": [
        {
          "output_type": "execute_result",
          "data": {
            "image/png": "[encoded data removed]",
            "text/plain": [
              "<rdkit.Chem.rdchem.Mol at 0x7f511f9f6850>"
            ]
          },
          "metadata": {
            "tags": []
          },
          "execution_count": 26
        }
      ]
    },
    {
      "cell_type": "code",
      "metadata": {
        "id": "oyeD2m7tGTIo",
        "colab_type": "code",
        "colab": {
          "base_uri": "https://localhost:8080/",
          "height": 36
        },
        "outputId": "662d0d92-2ebc-441f-f28f-bcb74a3a9f29"
      },
      "source": [
        "Descriptors.RingCount(a)"
      ],
      "execution_count": 27,
      "outputs": [
        {
          "output_type": "execute_result",
          "data": {
            "text/plain": [
              "1"
            ]
          },
          "metadata": {
            "tags": []
          },
          "execution_count": 27
        }
      ]
    },
    {
      "cell_type": "code",
      "metadata": {
        "id": "sYdj5LqqJZeO",
        "colab_type": "code",
        "colab": {}
      },
      "source": [
        "#similarity 비슷한 성질 분자\n",
        "from rdkit.Chem.Fingerprints import FingerprintMols"
      ],
      "execution_count": 0,
      "outputs": []
    },
    {
      "cell_type": "code",
      "metadata": {
        "id": "GeLy7Nf2Jx6L",
        "colab_type": "code",
        "colab": {}
      },
      "source": [
        "ms = [Chem.MolFromSmiles('CCOC'), Chem.MolFromSmiles('CCO'), Chem.MolFromSmiles('COC')]\n",
        "fps = [FingerprintMols.FingerprintMol(x) for x in ms]"
      ],
      "execution_count": 0,
      "outputs": []
    },
    {
      "cell_type": "code",
      "metadata": {
        "id": "t6RpA157KX__",
        "colab_type": "code",
        "colab": {
          "base_uri": "https://localhost:8080/",
          "height": 73
        },
        "outputId": "ddbc7161-b1bd-4aae-f001-80691cba80fd"
      },
      "source": [
        "#Tanimoto similarity\n",
        "from rdkit import DataStructs\n",
        "for i in range (len(fps)): print(DataStructs.FingerprintSimilarity(fps[0], fps[i])) #자기 자신부터 끝까지"
      ],
      "execution_count": 30,
      "outputs": [
        {
          "output_type": "stream",
          "text": [
            "1.0\n",
            "0.6\n",
            "0.4\n"
          ],
          "name": "stdout"
        }
      ]
    },
    {
      "cell_type": "code",
      "metadata": {
        "id": "-EaEkZzuMohh",
        "colab_type": "code",
        "colab": {
          "base_uri": "https://localhost:8080/",
          "height": 75
        },
        "outputId": "8a7f1473-12d6-4ff5-b33a-6acfd64e8dd9"
      },
      "source": [
        "#공통적인 structure 찾기\n",
        "from rdkit.Chem import MCS\n",
        "#실행은 못 해봤습니다."
      ],
      "execution_count": 31,
      "outputs": [
        {
          "output_type": "stream",
          "text": [
            "/usr/local/lib/python3.6/dist-packages/ipykernel_launcher.py:1: DeprecationWarning: The rdkit.Chem.MCS module is deprecated; please use rdkit.Chem.rdFMCS instead.\n",
            "  \"\"\"Entry point for launching an IPython kernel.\n"
          ],
          "name": "stderr"
        }
      ]
    }
  ]
}