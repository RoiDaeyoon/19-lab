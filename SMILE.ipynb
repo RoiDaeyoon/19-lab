{
  "nbformat": 4,
  "nbformat_minor": 0,
  "metadata": {
    "colab": {
      "name": "SMILE.ipynb",
      "provenance": [],
      "collapsed_sections": [],
      "include_colab_link": true
    },
    "kernelspec": {
      "name": "python3",
      "display_name": "Python 3"
    }
  },
  "cells": [
    {
      "cell_type": "markdown",
      "metadata": {
        "id": "view-in-github",
        "colab_type": "text"
      },
      "source": [
        "<a href=\"https://colab.research.google.com/github/brianshin12/19-lab/blob/master/SMILE.ipynb\" target=\"_parent\"><img src=\"https://colab.research.google.com/assets/colab-badge.svg\" alt=\"Open In Colab\"/></a>"
      ]
    },
    {
      "cell_type": "markdown",
      "metadata": {
        "id": "WeIrXVVtsiYo",
        "colab_type": "text"
      },
      "source": [
        "# SMILES\n",
        "* SMILES는 Simplified Molecular Input Line Entry System의 약어로  \n",
        "분자와 화학반응을 문자로 표기하는 간단하면서 포괄적인 화학언어이다.  \n",
        "* SMILES는 연구자들의 화학정보를 간단한 문자로 변환해주는 메커니즘 및  \n",
        "화학 전문 시스템이나 AI를 위한 언어로 사용된다.  \n",
        "  \n",
        "* SMILES의 간단한 예시  \n",
        "\n",
        "SMILES | Name | SMILES | Name\n",
        "---- | ---- | ---- | ----\n",
        "CC |ethane(에테인)| [OH3+] | hydronium ion(수산화 이온)\n",
        "O=C=O |carbon dioxide(이산화탄소)| [2H]O[2H] | deuterium oxide(중수:$^{2}H_{2}Water, D_{2}O$)\n",
        "C#N |hydrogen cyanide(사이안화 수소,HCN)| [235U] | uranium-235\n",
        "CCN(CC)CC |triethylamine(트리에틸아민,$C_{6}H_{15}N$)| F/C=C/F | E-difluoroethene($C_{2}H_{4}F_{2}$)\n",
        "CC(=O)O |acetic acid(아세트산)| F/C=C\\F | Z-difluoroethene($C_{2}H_{4}F_{2}$)\n",
        "C1CCCCC1 |cyclohexane(사이클로 헥세인,$C_{6}H_{12}$)| N'['C@@H']'(C)C(=O)O | L-alanine ($CH_{3}CH(NH_{3})COOH$)\n",
        "c1ccccc1 |benzene(벤젠)| N'['C@H']'(C)C(=O)O | D-alanine (D-알라닌)  \n",
        "  \n",
        "* SMILES는 한 분자를 여러가지 방법으로 표현할 수 있다.  \n",
        "  여러가지 표현법들 중 유일한 표현,unique SMILES을 형성하기위한 알고리즘이 존재한다.  \n",
        "\n",
        "파이썬 오픈소스 RDkit으로 이러한 SMILES를 표현할 수 있다. \n",
        "\n",
        "## SMILES Sepcification Rules (SMILES 규칙)\n",
        "* SMILE는 띄어쓰기를 사용하지 않고 원자들을 일렬로 나열하여 표현한다.\n",
        "* 수소원자는 생략하거나, 포함해도 된다.\n",
        "* 대표적으로 5가지의 규칙이 있다. ( 원자(atom), 결합(bond), 가지(branch), 고리(ring), 단절(disconnection) )  \n",
        "\n",
        "### Atoms(원자)\n",
        "1. 수소를 포함하지 않는 단일원자는 대괄호 [ ]를 사용한다.\n",
        "2. 유기물질들는 [  ] 없이 쓰이기도 한다.\n",
        "3. 원자들을 기본 값으로 최소원자가 전자를 갖는다.\n",
        "\n",
        "### Bonds(결합)  \n",
        "1. 단일결합은 -, 이중결합은 =, 삼중결합은 #, 방향족 결합은 :으로 표기하며 단일결합과 방향족 결합은 거의 생략한다.\n",
        "\n",
        "### Branches(가지; 치환기, 작용기)\n",
        "1. 가지들은 중첩되거나 쌓일 수 있으며, 소괄호( )로 묶어 결합 원소의 오른쪽에 써준다.\n",
        "\n",
        "### Cyclic Structures (고리형 구조)\n",
        "1. 고리형 구조는 고리에서 하나의 결합을 끊어 선형적으로 표시하고, 결합을 끊은 원자 바로 뒤에 숫자를 이용해 고리형 구조를 표현한다.\n",
        "\n",
        "### Disconnected Structures (단절된 구조)\n",
        "1. 혼합물은 '.'을 사용하여 각각의 구조들을 분리시킨다.\n",
        "2. 이온 혹은`리간드(ligands)의 연결은 순서에 상관없이 사용가능하다.  \n",
        "한 전하가 다른 전하로의 연결을 의미하는 것도 아니고, 알짜 전하를 반드시 0으로 가질 필요도 없다.\n"
      ]
    },
    {
      "cell_type": "markdown",
      "metadata": {
        "id": "9FkYx5uOA26d",
        "colab_type": "text"
      },
      "source": [
        "### 예시"
      ]
    },
    {
      "cell_type": "code",
      "metadata": {
        "id": "mTiczVL_Beza",
        "colab_type": "code",
        "colab": {}
      },
      "source": [
        "#원자\n",
        "H2O = Chem.MolFromSmiles('O')"
      ],
      "execution_count": 0,
      "outputs": []
    },
    {
      "cell_type": "code",
      "metadata": {
        "id": "bYD3_9huBerY",
        "colab_type": "code",
        "colab": {
          "base_uri": "https://localhost:8080/",
          "height": 167
        },
        "outputId": "fca5c95f-3b00-427a-dfe1-8ee379ad19f7"
      },
      "source": [
        "H2O"
      ],
      "execution_count": 35,
      "outputs": [
        {
          "output_type": "execute_result",
          "data": {
            "image/png": "[encoded data removed]",
            "text/plain": [
              "<rdkit.Chem.rdchem.Mol at 0x7f2a63b10850>"
            ]
          },
          "metadata": {
            "tags": []
          },
          "execution_count": 35
        }
      ]
    },
    {
      "cell_type": "code",
      "metadata": {
        "id": "llmu6frhBeid",
        "colab_type": "code",
        "colab": {}
      },
      "source": [
        "O = Chem.MolFromSmiles('[O]')"
      ],
      "execution_count": 0,
      "outputs": []
    },
    {
      "cell_type": "code",
      "metadata": {
        "id": "dYHhZsXyBeUO",
        "colab_type": "code",
        "colab": {
          "base_uri": "https://localhost:8080/",
          "height": 167
        },
        "outputId": "2c37def8-f0ed-438e-e4ab-b50937f44f6b"
      },
      "source": [
        "O"
      ],
      "execution_count": 37,
      "outputs": [
        {
          "output_type": "execute_result",
          "data": {
            "image/png": "[encoded data removed]",
            "text/plain": [
              "<rdkit.Chem.rdchem.Mol at 0x7f2a63a343a0>"
            ]
          },
          "metadata": {
            "tags": []
          },
          "execution_count": 37
        }
      ]
    },
    {
      "cell_type": "code",
      "metadata": {
        "id": "Vl4YCcA3B9Zh",
        "colab_type": "code",
        "colab": {}
      },
      "source": [
        "#결합\n",
        "CO2 = Chem.MolFromSmiles('O=C=O')"
      ],
      "execution_count": 0,
      "outputs": []
    },
    {
      "cell_type": "code",
      "metadata": {
        "id": "-OLIMrTbB9Wr",
        "colab_type": "code",
        "colab": {
          "base_uri": "https://localhost:8080/",
          "height": 167
        },
        "outputId": "6d2458ef-21f9-4438-bdb8-a22495e26813"
      },
      "source": [
        "CO2"
      ],
      "execution_count": 41,
      "outputs": [
        {
          "output_type": "execute_result",
          "data": {
            "image/png": "[encoded data removed]",
            "text/plain": [
              "<rdkit.Chem.rdchem.Mol at 0x7f2a63a3ae40>"
            ]
          },
          "metadata": {
            "tags": []
          },
          "execution_count": 41
        }
      ]
    },
    {
      "cell_type": "code",
      "metadata": {
        "id": "NSU8D7PHB9T4",
        "colab_type": "code",
        "colab": {}
      },
      "source": [
        "#가지\n",
        "HeptanoicAcid = Chem.MolFromSmiles('CCCC(C(=O)O)CCC')"
      ],
      "execution_count": 0,
      "outputs": []
    },
    {
      "cell_type": "code",
      "metadata": {
        "id": "UUsulhpAB9NX",
        "colab_type": "code",
        "colab": {
          "base_uri": "https://localhost:8080/",
          "height": 167
        },
        "outputId": "4433c51e-8457-4888-add2-3ddb82bd9a57"
      },
      "source": [
        "HeptanoicAcid"
      ],
      "execution_count": 45,
      "outputs": [
        {
          "output_type": "execute_result",
          "data": {
            "image/png": "[encoded data removed]",
            "text/plain": [
              "<rdkit.Chem.rdchem.Mol at 0x7f2a639ecd00>"
            ]
          },
          "metadata": {
            "tags": []
          },
          "execution_count": 45
        }
      ]
    },
    {
      "cell_type": "code",
      "metadata": {
        "id": "uLpfH5DBBd59",
        "colab_type": "code",
        "colab": {}
      },
      "source": [
        "#고리\n",
        "Decaline = Chem.MolFromSmiles('C12CCCCC1CCCC2')"
      ],
      "execution_count": 0,
      "outputs": []
    },
    {
      "cell_type": "code",
      "metadata": {
        "id": "2g67xZKgDVXJ",
        "colab_type": "code",
        "colab": {
          "base_uri": "https://localhost:8080/",
          "height": 167
        },
        "outputId": "7a298246-fa0b-41e9-81f4-6317b2303070"
      },
      "source": [
        "Decaline"
      ],
      "execution_count": 47,
      "outputs": [
        {
          "output_type": "execute_result",
          "data": {
            "image/png": "[encoded data removed]",
            "text/plain": [
              "<rdkit.Chem.rdchem.Mol at 0x7f2a639ecf30>"
            ]
          },
          "metadata": {
            "tags": []
          },
          "execution_count": 47
        }
      ]
    },
    {
      "cell_type": "code",
      "metadata": {
        "id": "V2eexZx6DXyq",
        "colab_type": "code",
        "colab": {}
      },
      "source": [
        "#단절\n",
        "N1 = Chem.MolFromSmiles('[Na+].[O-]CCC')"
      ],
      "execution_count": 0,
      "outputs": []
    },
    {
      "cell_type": "code",
      "metadata": {
        "id": "PyuY11ITDXux",
        "colab_type": "code",
        "colab": {
          "base_uri": "https://localhost:8080/",
          "height": 167
        },
        "outputId": "0a05b4bc-f413-4291-ee77-4394bddb07d8"
      },
      "source": [
        "N1"
      ],
      "execution_count": 67,
      "outputs": [
        {
          "output_type": "execute_result",
          "data": {
            "image/png": "[encoded data removed]",
            "text/plain": [
              "<rdkit.Chem.rdchem.Mol at 0x7f2a639f3350>"
            ]
          },
          "metadata": {
            "tags": []
          },
          "execution_count": 67
        }
      ]
    },
    {
      "cell_type": "markdown",
      "metadata": {
        "id": "J_xmM26Py8HR",
        "colab_type": "text"
      },
      "source": [
        "# RDkit    \n",
        "* 화학정보학에서 가장 잘 알려진 오픈소스 프로그램이다.  \n",
        "    앞에 예시에서 보았듯이 SMILES규칙을 이용하여 분자를 코드로 표현하여 입력할 수 있다.\n",
        "* 기능  \n",
        "여러가지 포맷의 파일 읽음, similarity, scketch, 전하 계산, 안정화  \n",
        "* 11가지 패키지  \n",
        "Cehm, DataManip, DataStructs, Dbase, DistanceGeometry, forceField, Geometry, ML, Numerics, SimDivFiters, Vlib  \n",
        "* 270가지 이상 모듈, 서브 패키지가 존재한다.  \n",
        "<br>\n",
        "<br>\n",
        "<br>\n",
        "* RDkit의 간단한 코드들을 소개하겠다.  \n"
      ]
    },
    {
      "cell_type": "markdown",
      "metadata": {
        "id": "_TKUb1nH2C9T",
        "colab_type": "text"
      },
      "source": [
        "### RDkit colab으로 불러오기"
      ]
    },
    {
      "cell_type": "code",
      "metadata": {
        "id": "jR5ywIJfuSRs",
        "colab_type": "code",
        "colab": {}
      },
      "source": [
        "def DownloadRDkit():\n",
        "  !wget -c https://repo.continuum.io/miniconda/Miniconda3-latest-Linux-x86_64.sh\n",
        "  !chmod +x Miniconda3-latest-Linux-x86_64.sh\n",
        "  !time bash ./Miniconda3-latest-Linux-x86_64.sh -b -f -p /usr/local\n",
        "  !time conda install -q -y -c conda-forge rdkit"
      ],
      "execution_count": 0,
      "outputs": []
    },
    {
      "cell_type": "code",
      "metadata": {
        "id": "1am2iFnlz9J-",
        "colab_type": "code",
        "colab": {}
      },
      "source": [
        "DownloadRDkit()"
      ],
      "execution_count": 0,
      "outputs": []
    },
    {
      "cell_type": "code",
      "metadata": {
        "id": "XQpT02lH0AKx",
        "colab_type": "code",
        "colab": {}
      },
      "source": [
        "%matplotlib inline\n",
        "import sys\n",
        "import os\n",
        "sys.path.append('/usr/local/lib/python3.7/site-packages/')"
      ],
      "execution_count": 0,
      "outputs": []
    },
    {
      "cell_type": "markdown",
      "metadata": {
        "id": "E2mLdRA70f3t",
        "colab_type": "text"
      },
      "source": [
        "### 여러가지 파일 변환시키기"
      ]
    },
    {
      "cell_type": "code",
      "metadata": {
        "id": "DxhaspFL0fhU",
        "colab_type": "code",
        "colab": {}
      },
      "source": [
        "#m이라는 mol object에 스마일에서 가져와서 넣음\n",
        "from rdkit import Chem\n",
        "from rdkit.Chem import AllChem\n",
        "ala='CC(C(=O)O)N'\n",
        "m=Chem.MolFromSmiles(ala)"
      ],
      "execution_count": 0,
      "outputs": []
    },
    {
      "cell_type": "code",
      "metadata": {
        "id": "8ajYWgYJ0eOT",
        "colab_type": "code",
        "outputId": "08eed84b-3a1e-401a-efd1-24c8da50ed38",
        "colab": {
          "base_uri": "https://localhost:8080/",
          "height": 36
        }
      },
      "source": [
        "#m을 출력하면 저장되어 있는 주소가 나옴\n",
        "m"
      ],
      "execution_count": 5,
      "outputs": [
        {
          "output_type": "execute_result",
          "data": {
            "text/plain": [
              "<rdkit.Chem.rdchem.Mol at 0x7f2a687cb760>"
            ]
          },
          "metadata": {
            "tags": []
          },
          "execution_count": 5
        }
      ]
    },
    {
      "cell_type": "markdown",
      "metadata": {
        "id": "PGZezp041YPi",
        "colab_type": "text"
      },
      "source": [
        "### 분자의 특성 보기"
      ]
    },
    {
      "cell_type": "code",
      "metadata": {
        "id": "1-x6vKja0xuV",
        "colab_type": "code",
        "outputId": "7357a609-f75b-4a91-ad3a-7c0d4552167f",
        "colab": {
          "base_uri": "https://localhost:8080/",
          "height": 335
        }
      },
      "source": [
        "#m이라는 mol object를 몰 블록의 형식으로 출력\n",
        "print (Chem.MolToMolBlock(m))"
      ],
      "execution_count": 6,
      "outputs": [
        {
          "output_type": "stream",
          "text": [
            "\n",
            "     RDKit          2D\n",
            "\n",
            "  6  5  0  0  0  0  0  0  0  0999 V2000\n",
            "    0.0000    0.0000    0.0000 C   0  0  0  0  0  0  0  0  0  0  0  0\n",
            "    1.2990    0.7500    0.0000 C   0  0  0  0  0  0  0  0  0  0  0  0\n",
            "    2.5981   -0.0000    0.0000 C   0  0  0  0  0  0  0  0  0  0  0  0\n",
            "    2.5981   -1.5000    0.0000 O   0  0  0  0  0  0  0  0  0  0  0  0\n",
            "    3.8971    0.7500    0.0000 O   0  0  0  0  0  0  0  0  0  0  0  0\n",
            "    1.2990    2.2500    0.0000 N   0  0  0  0  0  0  0  0  0  0  0  0\n",
            "  1  2  1  0\n",
            "  2  3  1  0\n",
            "  3  4  2  0\n",
            "  3  5  1  0\n",
            "  2  6  1  0\n",
            "M  END\n",
            "\n"
          ],
          "name": "stdout"
        }
      ]
    },
    {
      "cell_type": "markdown",
      "metadata": {
        "id": "I4Jtnf-m1lTB",
        "colab_type": "text"
      },
      "source": [
        "6개의 원자 5개의 결합, 2차원 평면상의 좌표를 확인할 수 있다."
      ]
    },
    {
      "cell_type": "markdown",
      "metadata": {
        "id": "bsqd6I72166A",
        "colab_type": "text"
      },
      "source": [
        "### 분자식 확인하기"
      ]
    },
    {
      "cell_type": "code",
      "metadata": {
        "id": "Bf789QHU1gNI",
        "colab_type": "code",
        "outputId": "a11433ff-c0d1-4d11-a865-4e71a6f9c04c",
        "colab": {
          "base_uri": "https://localhost:8080/",
          "height": 36
        }
      },
      "source": [
        "print(ala)"
      ],
      "execution_count": 7,
      "outputs": [
        {
          "output_type": "stream",
          "text": [
            "CC(C(=O)O)N\n"
          ],
          "name": "stdout"
        }
      ]
    },
    {
      "cell_type": "code",
      "metadata": {
        "id": "7OPgl_SK13be",
        "colab_type": "code",
        "outputId": "ea70cb65-0c65-4bcf-a2d1-26d359d6e786",
        "colab": {
          "base_uri": "https://localhost:8080/",
          "height": 36
        }
      },
      "source": [
        "print (Chem.MolToSmiles(m))"
      ],
      "execution_count": 8,
      "outputs": [
        {
          "output_type": "stream",
          "text": [
            "CC(N)C(=O)O\n"
          ],
          "name": "stdout"
        }
      ]
    },
    {
      "cell_type": "markdown",
      "metadata": {
        "id": "qGcfaWth2O7r",
        "colab_type": "text"
      },
      "source": [
        "둘은 같은 분자지만 MolToSmiles메서드를 거치면서 unique SMILES을 형성한 것을 확인 할 수 있다.\n"
      ]
    },
    {
      "cell_type": "code",
      "metadata": {
        "id": "3C8V2Z3Z2i7x",
        "colab_type": "code",
        "outputId": "74d6ab78-1d36-4e63-97f4-268c24edf2ca",
        "colab": {
          "base_uri": "https://localhost:8080/",
          "height": 36
        }
      },
      "source": [
        "#Smarts로 표현\n",
        "print (Chem.MolToSmarts(m))"
      ],
      "execution_count": 9,
      "outputs": [
        {
          "output_type": "stream",
          "text": [
            "[#6]-[#6](-[#6](=[#8])-[#8])-[#7]\n"
          ],
          "name": "stdout"
        }
      ]
    },
    {
      "cell_type": "markdown",
      "metadata": {
        "id": "I9ww3mSr2euW",
        "colab_type": "text"
      },
      "source": [
        "### 분자를 그림으로 나타내기"
      ]
    },
    {
      "cell_type": "code",
      "metadata": {
        "id": "EKLZ-gLo16Ps",
        "colab_type": "code",
        "colab": {}
      },
      "source": [
        "#밑 두 코드를 입력하면 분자를 그림으로 나타냄\n",
        "from rdkit.Chem.Draw import IPythonConsole\n",
        "from rdkit.Chem import Draw"
      ],
      "execution_count": 0,
      "outputs": []
    },
    {
      "cell_type": "code",
      "metadata": {
        "id": "ZFq7bzKO239n",
        "colab_type": "code",
        "outputId": "f1494ea5-1cdf-467c-9927-c8eb5a328f9c",
        "colab": {
          "base_uri": "https://localhost:8080/",
          "height": 167
        }
      },
      "source": [
        "m"
      ],
      "execution_count": 11,
      "outputs": [
        {
          "output_type": "execute_result",
          "data": {
            "image/png": "[encoded data removed]",
            "text/plain": [
              "<rdkit.Chem.rdchem.Mol at 0x7f2a687cb760>"
            ]
          },
          "metadata": {
            "tags": []
          },
          "execution_count": 11
        }
      ]
    },
    {
      "cell_type": "code",
      "metadata": {
        "id": "e4z-PQwj25o7",
        "colab_type": "code",
        "colab": {}
      },
      "source": [
        "#m분자의 수소까지 나타냄\n",
        "mh=AllChem.AddHs(m)"
      ],
      "execution_count": 0,
      "outputs": []
    },
    {
      "cell_type": "code",
      "metadata": {
        "id": "eg92WZ1y3Eb0",
        "colab_type": "code",
        "outputId": "63de9f41-e4ac-44e6-e2de-fb5edf98424c",
        "colab": {
          "base_uri": "https://localhost:8080/",
          "height": 167
        }
      },
      "source": [
        "mh"
      ],
      "execution_count": 13,
      "outputs": [
        {
          "output_type": "execute_result",
          "data": {
            "image/png": "[encoded data removed]",
            "text/plain": [
              "<rdkit.Chem.rdchem.Mol at 0x7f2a6426ef30>"
            ]
          },
          "metadata": {
            "tags": []
          },
          "execution_count": 13
        }
      ]
    },
    {
      "cell_type": "code",
      "metadata": {
        "id": "XF_KKUkD3FUp",
        "colab_type": "code",
        "outputId": "4f5c4ada-c040-4311-e3cd-7b72ee2c12e9",
        "colab": {
          "base_uri": "https://localhost:8080/",
          "height": 596
        }
      },
      "source": [
        "print(Chem.MolToMolBlock(mh))"
      ],
      "execution_count": 14,
      "outputs": [
        {
          "output_type": "stream",
          "text": [
            "\n",
            "     RDKit          2D\n",
            "\n",
            " 13 12  0  0  0  0  0  0  0  0999 V2000\n",
            "    2.5981    1.5000    0.0000 C   0  0  0  0  0  0  0  0  0  0  0  0\n",
            "    1.2990    0.7500    0.0000 C   0  0  0  0  0  0  0  0  0  0  0  0\n",
            "    0.0000    0.0000    0.0000 C   0  0  0  0  0  0  0  0  0  0  0  0\n",
            "   -1.2990    0.7500    0.0000 O   0  0  0  0  0  0  0  0  0  0  0  0\n",
            "   -0.0000   -1.5000    0.0000 O   0  0  0  0  0  0  0  0  0  0  0  0\n",
            "    2.0490   -0.5490    0.0000 N   0  0  0  0  0  0  0  0  0  0  0  0\n",
            "    3.8971    2.2500    0.0000 H   0  0  0  0  0  0  0  0  0  0  0  0\n",
            "    1.8481    2.7990    0.0000 H   0  0  0  0  0  0  0  0  0  0  0  0\n",
            "    3.5008    0.3021    0.0000 H   0  0  0  0  0  0  0  0  0  0  0  0\n",
            "    0.5490    2.0490    0.0000 H   0  0  0  0  0  0  0  0  0  0  0  0\n",
            "   -1.2990   -2.2500    0.0000 H   0  0  0  0  0  0  0  0  0  0  0  0\n",
            "    1.2990   -1.8481    0.0000 H   0  0  0  0  0  0  0  0  0  0  0  0\n",
            "    3.5379   -0.7319    0.0000 H   0  0  0  0  0  0  0  0  0  0  0  0\n",
            "  1  2  1  0\n",
            "  2  3  1  0\n",
            "  3  4  2  0\n",
            "  3  5  1  0\n",
            "  2  6  1  0\n",
            "  1  7  1  0\n",
            "  1  8  1  0\n",
            "  1  9  1  0\n",
            "  2 10  1  0\n",
            "  5 11  1  0\n",
            "  6 12  1  0\n",
            "  6 13  1  0\n",
            "M  END\n",
            "\n"
          ],
          "name": "stdout"
        }
      ]
    },
    {
      "cell_type": "markdown",
      "metadata": {
        "id": "P5dp-_iM3KVs",
        "colab_type": "text"
      },
      "source": [
        "수소에 대한 정보 또한 나타낼 수 있다."
      ]
    },
    {
      "cell_type": "markdown",
      "metadata": {
        "id": "3J_MCGBF3gTL",
        "colab_type": "text"
      },
      "source": [
        "### 좌표를 2D $\\rightarrow$ 3D로 나타내기"
      ]
    },
    {
      "cell_type": "code",
      "metadata": {
        "id": "gCih0ga93Jcy",
        "colab_type": "code",
        "outputId": "80d83dd8-7b16-4b25-803b-62c2fde6ee62",
        "colab": {
          "base_uri": "https://localhost:8080/",
          "height": 36
        }
      },
      "source": [
        "AllChem.EmbedMolecule(mh)"
      ],
      "execution_count": 15,
      "outputs": [
        {
          "output_type": "execute_result",
          "data": {
            "text/plain": [
              "0"
            ]
          },
          "metadata": {
            "tags": []
          },
          "execution_count": 15
        }
      ]
    },
    {
      "cell_type": "code",
      "metadata": {
        "id": "iDG8r76e3ubI",
        "colab_type": "code",
        "outputId": "145f4585-876e-4697-971b-0d54a9407884",
        "colab": {
          "base_uri": "https://localhost:8080/",
          "height": 596
        }
      },
      "source": [
        "print(Chem.MolToMolBlock(mh))"
      ],
      "execution_count": 16,
      "outputs": [
        {
          "output_type": "stream",
          "text": [
            "\n",
            "     RDKit          3D\n",
            "\n",
            " 13 12  0  0  0  0  0  0  0  0999 V2000\n",
            "   -1.1360   -0.5956   -0.7037 C   0  0  0  0  0  0  0  0  0  0  0  0\n",
            "   -0.0566   -0.2631    0.3291 C   0  0  0  0  0  0  0  0  0  0  0  0\n",
            "    1.0543    0.5060   -0.2786 C   0  0  0  0  0  0  0  0  0  0  0  0\n",
            "    1.3057    1.6577    0.1536 O   0  0  0  0  0  0  0  0  0  0  0  0\n",
            "    1.8520    0.0341   -1.3116 O   0  0  0  0  0  0  0  0  0  0  0  0\n",
            "   -0.6728    0.5054    1.3627 N   0  0  0  0  0  0  0  0  0  0  0  0\n",
            "   -0.7606   -0.4837   -1.7266 H   0  0  0  0  0  0  0  0  0  0  0  0\n",
            "   -1.9943    0.1156   -0.6051 H   0  0  0  0  0  0  0  0  0  0  0  0\n",
            "   -1.5393   -1.5992   -0.4831 H   0  0  0  0  0  0  0  0  0  0  0  0\n",
            "    0.3586   -1.1936    0.7782 H   0  0  0  0  0  0  0  0  0  0  0  0\n",
            "    2.7503   -0.3498   -1.0703 H   0  0  0  0  0  0  0  0  0  0  0  0\n",
            "   -0.5727    0.1444    2.3140 H   0  0  0  0  0  0  0  0  0  0  0  0\n",
            "   -0.5887    1.5217    1.2413 H   0  0  0  0  0  0  0  0  0  0  0  0\n",
            "  1  2  1  0\n",
            "  2  3  1  0\n",
            "  3  4  2  0\n",
            "  3  5  1  0\n",
            "  2  6  1  0\n",
            "  1  7  1  0\n",
            "  1  8  1  0\n",
            "  1  9  1  0\n",
            "  2 10  1  0\n",
            "  5 11  1  0\n",
            "  6 12  1  0\n",
            "  6 13  1  0\n",
            "M  END\n",
            "\n"
          ],
          "name": "stdout"
        }
      ]
    },
    {
      "cell_type": "code",
      "metadata": {
        "id": "MRgSkQyI3zAu",
        "colab_type": "code",
        "outputId": "893c06d0-b623-4422-8b30-c3a24bd272e0",
        "colab": {
          "base_uri": "https://localhost:8080/",
          "height": 167
        }
      },
      "source": [
        "mh"
      ],
      "execution_count": 17,
      "outputs": [
        {
          "output_type": "execute_result",
          "data": {
            "image/png": "[encoded data removed]",
            "text/plain": [
              "<rdkit.Chem.rdchem.Mol at 0x7f2a6426ef30>"
            ]
          },
          "metadata": {
            "tags": []
          },
          "execution_count": 17
        }
      ]
    },
    {
      "cell_type": "markdown",
      "metadata": {
        "id": "2Wtxp2tL37lI",
        "colab_type": "text"
      },
      "source": [
        "### 안정한 구조 나타내기"
      ]
    },
    {
      "cell_type": "code",
      "metadata": {
        "id": "fVvvdWQl3z0W",
        "colab_type": "code",
        "colab": {}
      },
      "source": [
        "ll = AllChem.UFFGetMoleculeForceField(mh)"
      ],
      "execution_count": 0,
      "outputs": []
    },
    {
      "cell_type": "code",
      "metadata": {
        "id": "9loSv3ND4hPo",
        "colab_type": "code",
        "outputId": "dce121b2-a121-44e3-c8bb-91cddc874db9",
        "colab": {
          "base_uri": "https://localhost:8080/",
          "height": 36
        }
      },
      "source": [
        "#에너지 계산\n",
        "print (ll.CalcEnergy())"
      ],
      "execution_count": 19,
      "outputs": [
        {
          "output_type": "stream",
          "text": [
            "29.879420233707375\n"
          ],
          "name": "stdout"
        }
      ]
    },
    {
      "cell_type": "code",
      "metadata": {
        "id": "OgRhqxsl4kCS",
        "colab_type": "code",
        "outputId": "a8c2653d-b57e-45be-87c2-6d6070d7546d",
        "colab": {
          "base_uri": "https://localhost:8080/",
          "height": 36
        }
      },
      "source": [
        "#안정한 구조\n",
        "AllChem.UFFOptimizeMolecule(mh)"
      ],
      "execution_count": 20,
      "outputs": [
        {
          "output_type": "execute_result",
          "data": {
            "text/plain": [
              "0"
            ]
          },
          "metadata": {
            "tags": []
          },
          "execution_count": 20
        }
      ]
    },
    {
      "cell_type": "code",
      "metadata": {
        "id": "6QBOprV24nEO",
        "colab_type": "code",
        "outputId": "9dd3c51f-2732-4e08-f881-b2fee850b31d",
        "colab": {
          "base_uri": "https://localhost:8080/",
          "height": 36
        }
      },
      "source": [
        "print(ll.CalcEnergy())"
      ],
      "execution_count": 21,
      "outputs": [
        {
          "output_type": "stream",
          "text": [
            "12.77722598582374\n"
          ],
          "name": "stdout"
        }
      ]
    },
    {
      "cell_type": "code",
      "metadata": {
        "id": "HcPpyPC54qN6",
        "colab_type": "code",
        "outputId": "bc59fdd4-29a8-4e7d-db12-3492eafc5622",
        "colab": {
          "base_uri": "https://localhost:8080/",
          "height": 167
        }
      },
      "source": [
        "mh"
      ],
      "execution_count": 22,
      "outputs": [
        {
          "output_type": "execute_result",
          "data": {
            "image/png": "[encoded data removed]",
            "text/plain": [
              "<rdkit.Chem.rdchem.Mol at 0x7f2a6426ef30>"
            ]
          },
          "metadata": {
            "tags": []
          },
          "execution_count": 22
        }
      ]
    },
    {
      "cell_type": "markdown",
      "metadata": {
        "id": "omxYBwCe4x-_",
        "colab_type": "text"
      },
      "source": [
        "### 분자량 계산하기"
      ]
    },
    {
      "cell_type": "code",
      "metadata": {
        "id": "c3gNdOQ04tGD",
        "colab_type": "code",
        "colab": {}
      },
      "source": [
        "from rdkit.Chem import Descriptors"
      ],
      "execution_count": 0,
      "outputs": []
    },
    {
      "cell_type": "code",
      "metadata": {
        "id": "BYsnPBnZ47dg",
        "colab_type": "code",
        "outputId": "7f85f529-d154-41a4-95dd-f188c9adff85",
        "colab": {
          "base_uri": "https://localhost:8080/",
          "height": 36
        }
      },
      "source": [
        "#분자량 계산\n",
        "print(Descriptors.MolWt(mh))"
      ],
      "execution_count": 24,
      "outputs": [
        {
          "output_type": "stream",
          "text": [
            "89.09399999999998\n"
          ],
          "name": "stdout"
        }
      ]
    },
    {
      "cell_type": "markdown",
      "metadata": {
        "id": "MDMxpWz_6rHl",
        "colab_type": "text"
      },
      "source": [
        "### 고리 수 계산하기"
      ]
    },
    {
      "cell_type": "code",
      "metadata": {
        "id": "evQV9QHI4_VD",
        "colab_type": "code",
        "outputId": "13d7a666-cac1-4421-85f6-418c2113045f",
        "colab": {
          "base_uri": "https://localhost:8080/",
          "height": 36
        }
      },
      "source": [
        "#고리 수 계산\n",
        "print(Descriptors.RingCount(mh))"
      ],
      "execution_count": 25,
      "outputs": [
        {
          "output_type": "stream",
          "text": [
            "0\n"
          ],
          "name": "stdout"
        }
      ]
    },
    {
      "cell_type": "code",
      "metadata": {
        "id": "EYZg4QGB5BkE",
        "colab_type": "code",
        "colab": {}
      },
      "source": [
        "a=Chem.MolFromSmiles('C1CCCCC1')"
      ],
      "execution_count": 0,
      "outputs": []
    },
    {
      "cell_type": "code",
      "metadata": {
        "id": "ixHiUDn_5GcK",
        "colab_type": "code",
        "outputId": "55661bb7-ef1a-4842-8070-8b83915bd0ad",
        "colab": {
          "base_uri": "https://localhost:8080/",
          "height": 167
        }
      },
      "source": [
        "a"
      ],
      "execution_count": 27,
      "outputs": [
        {
          "output_type": "execute_result",
          "data": {
            "image/png": "[encoded data removed]",
            "text/plain": [
              "<rdkit.Chem.rdchem.Mol at 0x7f2a63c9f800>"
            ]
          },
          "metadata": {
            "tags": []
          },
          "execution_count": 27
        }
      ]
    },
    {
      "cell_type": "code",
      "metadata": {
        "id": "7_L0zjnB5I3F",
        "colab_type": "code",
        "outputId": "aa3f7317-c80f-456e-e8c0-ab2c99897ec9",
        "colab": {
          "base_uri": "https://localhost:8080/",
          "height": 36
        }
      },
      "source": [
        "Descriptors.RingCount(a)"
      ],
      "execution_count": 28,
      "outputs": [
        {
          "output_type": "execute_result",
          "data": {
            "text/plain": [
              "1"
            ]
          },
          "metadata": {
            "tags": []
          },
          "execution_count": 28
        }
      ]
    }
  ]
}