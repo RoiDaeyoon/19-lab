{
 "cells": [
  {
   "cell_type": "markdown",
   "metadata": {},
   "source": [
    "# 마크다운의 장점 #\n",
    "\n",
    "- 문법이 쉽다.\n",
    "- 관리가 쉽다.\n",
    "- 지원 가능한 플렛폼과 프로그램이 다양하다.\n",
    "\n",
    "# 마크다운의 단점 #\n",
    "\n",
    "- 표준이 없어 사용자마다 문법이 상이할 수 있다.\n",
    "- 모든 HTML 마크업을 대신하지 못한다."
   ]
  },
  {
   "cell_type": "markdown",
   "metadata": {},
   "source": [
    "# 마크다운 문법(syntax) #\n",
    "\n",
    "## 제목(Header) ##\n"
   ]
  },
  {
   "cell_type": "raw",
   "metadata": {
    "raw_mimetype": "text/markdown"
   },
   "source": [
    "<h1>부터 <h6>까지 제목을 표현할 수 있습니다.\n",
    "\n",
    "# 제목 1\n",
    "## 제목 2\n",
    "### 제목 3\n",
    "#### 제목 4\n",
    "##### 제목 5\n",
    "###### 제목 6"
   ]
  },
  {
   "cell_type": "markdown",
   "metadata": {},
   "source": [
    "제목1(h1)과 제목2(h2)는 다음과 같이 표현할 수 있습니다."
   ]
  },
  {
   "cell_type": "raw",
   "metadata": {
    "raw_mimetype": "text/markdown"
   },
   "source": [
    "제목 1\n",
    "=====\n",
    "\n",
    "제목 2\n",
    "------"
   ]
  },
  {
   "cell_type": "markdown",
   "metadata": {},
   "source": [
    "## 강조(Emphasis)##"
   ]
  },
  {
   "cell_type": "raw",
   "metadata": {
    "raw_mimetype": "text/markdown"
   },
   "source": [
    "각각 <em>, <strong>, <del> 태그로 변환됩니다.\n",
    "\n",
    "밑줄을 입력하고 싶다면 <u></u> 태그를 사용하세요."
   ]
  },
  {
   "cell_type": "raw",
   "metadata": {
    "raw_mimetype": "text/markdown"
   },
   "source": [
    "이텔릭체는 *별표(asterisks)* 혹은 _언더바(underscore)_ 를 사용하세요.\n",
    "두껍게는 **별표(asterisks)** 혹은 __언더바(underscore)__ 를 사용하세요.\n",
    "**_이텔릭체_** 와 두껍게 를 같이 사용할 수 있습니다.\n",
    "취소선은 ~~물결표시(tilde)~~를 사용하세요.\n",
    "<u>밑줄</u>은 `<u></u>`를 사용하세요."
   ]
  },
  {
   "cell_type": "markdown",
   "metadata": {},
   "source": [
    "이텔릭체는 *별표(asterisks)* 혹은 _언더바(underscore)_ 를 사용하세요.<br>\n",
    "두껍게는 **별표(asterisks)** 혹은 __언더바(underscore)__ 를 사용하세요.<br>\n",
    "**_이텔릭체_** 와 두껍게 를 같이 사용할 수 있습니다.<br>\n",
    "취소선은 ~~물결표시(tilde)~~를 사용하세요.<br>\n",
    "<u>밑줄</u>은 `<u></u>`를 사용하세요."
   ]
  },
  {
   "cell_type": "markdown",
   "metadata": {},
   "source": [
    "## 목록(List) ##"
   ]
  },
  {
   "cell_type": "raw",
   "metadata": {
    "raw_mimetype": "text/markdown"
   },
   "source": [
    "<ol>, <ul> 목록 태그로 변환됩니다."
   ]
  },
  {
   "cell_type": "raw",
   "metadata": {
    "raw_mimetype": "text/markdown"
   },
   "source": [
    "1. 순서가 필요한 목록\n",
    "1. 순서가 필요한 목록\n",
    "  - 순서가 필요하지 않은 목록(서브) \n",
    "  - 순서가 필요하지 않은 목록(서브) \n",
    "1. 순서가 필요한 목록\n",
    "  1. 순서가 필요한 목록(서브)\n",
    "  1. 순서가 필요한 목록(서브)\n",
    "1. 순서가 필요한 목록\n",
    "\n",
    "- 순서가 필요하지 않은 목록에 사용 가능한 기호\n",
    "  - 대쉬(hyphen)\n",
    "  * 별표(asterisks)\n",
    "  + 더하기(plus sign)"
   ]
  },
  {
   "cell_type": "markdown",
   "metadata": {},
   "source": [
    "Output\n",
    "1. 순서가 필요한 목록\n",
    "1. 순서가 필요한 목록\n",
    "  - 순서가 필요하지 않은 목록(서브) \n",
    "  - 순서가 필요하지 않은 목록(서브) \n",
    "1. 순서가 필요한 목록\n",
    "  1. 순서가 필요한 목록(서브)\n",
    "  1. 순서가 필요한 목록(서브)\n",
    "1. 순서가 필요한 목록\n",
    "\n",
    "- 순서가 필요하지 않은 목록에 사용 가능한 기호\n",
    "  - 대쉬(hyphen)\n",
    "  * 별표(asterisks)\n",
    "  + 더하기(plus sign)"
   ]
  },
  {
   "cell_type": "markdown",
   "metadata": {},
   "source": [
    "## 링크(Links) ##"
   ]
  },
  {
   "cell_type": "raw",
   "metadata": {},
   "source": [
    "<a>로 변환됩니다."
   ]
  },
  {
   "cell_type": "raw",
   "metadata": {},
   "source": [
    "[GOOGLE](https://google.com)\n",
    "\n",
    "[NAVER](https://naver.com \"링크 설명(title)을 작성하세요.\")\n",
    "\n",
    "[상대적 참조](../users/login)\n",
    "\n",
    "[Dribbble][Dribbble link]\n",
    "\n",
    "[GitHub][1]\n",
    "\n",
    "문서 안에서 [참조 링크]를 그대로 사용할 수도 있습니다.\n",
    "\n",
    "다음과 같이 문서 내 일반 URL이나 꺾쇠 괄호(`< >`, Angle Brackets)안의 URL은 자동으로 링크를 사용합니다.\n",
    "구글 홈페이지: https://google.com\n",
    "네이버 홈페이지: <https://naver.com>\n",
    "\n",
    "[Dribbble link]: https://dribbble.com\n",
    "[1]: https://github.com\n",
    "[참조 링크]: https://naver.com \"네이버로 이동합니다!\""
   ]
  },
  {
   "cell_type": "markdown",
   "metadata": {},
   "source": [
    "Output\n",
    "\n",
    "[GOOGLE](https://google.com)\n",
    "\n",
    "[NAVER](https://naver.com \"링크 설명(title)을 작성하세요.\")\n",
    "\n",
    "[상대적 참조](../users/login)\n",
    "\n",
    "[Dribbble][Dribbble link]\n",
    "\n",
    "[GitHub][1]\n",
    "\n",
    "문서 안에서 [참조 링크]를 그대로 사용할 수도 있습니다.\n",
    "\n",
    "다음과 같이 문서 내 일반 URL이나 꺾쇠 괄호(`< >`, Angle Brackets)안의 URL은 자동으로 링크를 사용합니다.\n",
    "구글 홈페이지: https://google.com\n",
    "네이버 홈페이지: <https://naver.com>\n",
    "\n",
    "[Dribbble link]: https://dribbble.com\n",
    "[1]: https://github.com\n",
    "[참조 링크]: https://naver.com \"네이버로 이동합니다!\""
   ]
  },
  {
   "cell_type": "markdown",
   "metadata": {},
   "source": [
    "## 이미지(Images) ##"
   ]
  },
  {
   "cell_type": "raw",
   "metadata": {},
   "source": [
    "<img>로 변환됩니다.\n",
    "링크과 비슷하지만 앞에 !가 붙습니다."
   ]
  },
  {
   "cell_type": "raw",
   "metadata": {},
   "source": [
    "![대체 텍스트(alternative text)를 입력하세요!](http://www.gstatic.com/webp/gallery/5.jpg \"링크 설명(title)을 작성하세요.\")\n",
    "\n",
    "![Kayak][logo]\n",
    "\n",
    "[logo]: http://www.gstatic.com/webp/gallery/2.jpg \"To go kayaking.\""
   ]
  },
  {
   "cell_type": "markdown",
   "metadata": {},
   "source": [
    "![대체 텍스트(alternative text)를 입력하세요!](http://www.gstatic.com/webp/gallery/5.jpg \"링크 설명(title)을 작성하세요.\")\n",
    "\n",
    "![Kayak][logo]\n",
    "\n",
    "[logo]: http://www.gstatic.com/webp/gallery/2.jpg \"To go kayaking.\""
   ]
  },
  {
   "cell_type": "markdown",
   "metadata": {},
   "source": [
    "## 이미지에 링크 ##"
   ]
  },
  {
   "cell_type": "raw",
   "metadata": {
    "raw_mimetype": "text/markdown"
   },
   "source": [
    "마크다운 이미지 코드를 링크 코드로 묶어 줍니다."
   ]
  },
  {
   "cell_type": "raw",
   "metadata": {
    "raw_mimetype": "text/markdown"
   },
   "source": [
    "[![Vue](/images/vue.png)](https://kr.vuejs.org/)"
   ]
  },
  {
   "cell_type": "markdown",
   "metadata": {},
   "source": [
    "## 코드(Code) 강조 ##"
   ]
  },
  {
   "cell_type": "raw",
   "metadata": {},
   "source": [
    "<pre>, <code>로 변환됩니다.\n",
    "숫자 1번 키 왼쪽에 있는 `(Grave)를 입력하세요"
   ]
  },
  {
   "cell_type": "markdown",
   "metadata": {},
   "source": [
    "## 인라인(inline) 코드 강조 ##"
   ]
  },
  {
   "cell_type": "raw",
   "metadata": {},
   "source": [
    "`background`혹은 `background-image` 속성으로 요소에 배경 이미지를 삽입할 수 있습니다."
   ]
  },
  {
   "cell_type": "markdown",
   "metadata": {},
   "source": [
    "`background`혹은 `background-image` 속성으로 요소에 배경 이미지를 삽입할 수 있습니다."
   ]
  },
  {
   "cell_type": "markdown",
   "metadata": {},
   "source": [
    "## 블록(block) 코드 강조 ##"
   ]
  },
  {
   "cell_type": "markdown",
   "metadata": {},
   "source": [
    "` 를 3번 이상 입력하고 코드 종류도 적습니다."
   ]
  },
  {
   "cell_type": "raw",
   "metadata": {},
   "source": [
    "```html\n",
    "<a href=\"https://www.google.co.kr/\" target=\"_blank\">GOOGLE</a>\n",
    "```\n",
    "\n",
    "```css\n",
    ".list > li {\n",
    "  position: absolute;\n",
    "  top: 40px;\n",
    "}\n",
    "```\n",
    "\n",
    "```javascript\n",
    "function func() {\n",
    "  var a = 'AAA';\n",
    "  return a;\n",
    "}\n",
    "```\n",
    "\n",
    "```bash\n",
    "$ vim ./~zshrc\n",
    "```\n",
    "\n",
    "```python\n",
    "s = \"Python syntax highlighting\"\n",
    "print s\n",
    "```\n",
    "\n",
    "```\n",
    "No language indicated, so no syntax highlighting. \n",
    "But let's throw in a tag.\n",
    "```"
   ]
  },
  {
   "cell_type": "markdown",
   "metadata": {},
   "source": [
    "```html\n",
    "<a href=\"https://www.google.co.kr/\" target=\"_blank\">GOOGLE</a>\n",
    "```\n",
    "\n",
    "```css\n",
    ".list > li {\n",
    "  position: absolute;\n",
    "  top: 40px;\n",
    "}\n",
    "```\n",
    "\n",
    "```javascript\n",
    "function func() {\n",
    "  var a = 'AAA';\n",
    "  return a;\n",
    "}\n",
    "```\n",
    "\n",
    "```bash\n",
    "$ vim ./~zshrc\n",
    "```\n",
    "\n",
    "```python\n",
    "s = \"Python syntax highlighting\"\n",
    "print s\n",
    "```\n",
    "\n",
    "```\n",
    "No language indicated, so no syntax highlighting. \n",
    "But let's throw in a tag.\n",
    "```"
   ]
  },
  {
   "cell_type": "markdown",
   "metadata": {},
   "source": [
    "## 표(Table) ##"
   ]
  },
  {
   "cell_type": "markdown",
   "metadata": {},
   "source": [
    "<table> 태그로 변환됩니다.\n",
    "헤더 셀을 구분할 때 3개 이상의 -(hyphen/dash) 기호가 필요합니다.\n",
    "헤더 셀을 구분하면서 :(Colons) 기호로 셀(열/칸) 안에 내용을 정렬할 수 있습니다.\n",
    "가장 좌측과 가장 우측에 있는 |(vertical bar) 기호는 생략 가능합니다."
   ]
  },
  {
   "cell_type": "raw",
   "metadata": {},
   "source": [
    "| 값 | 의미 | 기본값 |\n",
    "|---|:---:|---:|\n",
    "| `static` | 유형(기준) 없음 / 배치 불가능 | `static` |\n",
    "| `relative` | 요소 자신을 기준으로 배치 |  |\n",
    "| `absolute` | 위치 상 부모(조상)요소를 기준으로 배치 |  |\n",
    "| `fixed` | 브라우저 창을 기준으로 배치 |  |\n",
    "\n",
    "값 | 의미 | 기본값\n",
    "---|:---:|---:\n",
    "`static` | 유형(기준) 없음 / 배치 불가능 | `static`\n",
    "`relative` | 요소 **자신**을 기준으로 배치 |\n",
    "`absolute` | 위치 상 **_부모_(조상)요소**를 기준으로 배치 |\n",
    "`fixed` | **브라우저 창**을 기준으로 배치 |"
   ]
  },
  {
   "cell_type": "markdown",
   "metadata": {},
   "source": [
    "| 값 | 의미 | 기본값 |\n",
    "|---|:---:|---:|\n",
    "| `static` | 유형(기준) 없음 / 배치 불가능 | `static` |\n",
    "| `relative` | 요소 자신을 기준으로 배치 |  |\n",
    "| `absolute` | 위치 상 부모(조상)요소를 기준으로 배치 |  |\n",
    "| `fixed` | 브라우저 창을 기준으로 배치 |  |\n",
    "\n",
    "값 | 의미 | 기본값\n",
    "---|:---:|---:\n",
    "`static` | 유형(기준) 없음 / 배치 불가능 | `static`\n",
    "`relative` | 요소 **자신**을 기준으로 배치 |\n",
    "`absolute` | 위치 상 **_부모_(조상)요소**를 기준으로 배치 |\n",
    "`fixed` | **브라우저 창**을 기준으로 배치 |"
   ]
  },
  {
   "cell_type": "markdown",
   "metadata": {},
   "source": [
    "## 인용문(BlockQuote) ##"
   ]
  },
  {
   "cell_type": "raw",
   "metadata": {},
   "source": [
    "<blockquote> 태그로 변환됩니다."
   ]
  },
  {
   "cell_type": "raw",
   "metadata": {},
   "source": [
    "인용문(blockQuote)\n",
    "\n",
    "> 남의 말이나 글에서 직접 또는 간접으로 따온 문장.\n",
    "> _(네이버 국어 사전)_\n",
    "\n",
    "BREAK!\n",
    "\n",
    "> 인용문을 작성하세요!\n",
    ">> 중첩된 인용문(nested blockquote)을 만들 수 있습니다.\n",
    ">>> 중중첩된 인용문 1\n",
    ">>> 중중첩된 인용문 2\n",
    ">>> 중중첩된 인용문 3"
   ]
  },
  {
   "cell_type": "markdown",
   "metadata": {},
   "source": [
    "인용문(blockQuote)\n",
    "\n",
    "> 남의 말이나 글에서 직접 또는 간접으로 따온 문장.\n",
    "> _(네이버 국어 사전)_\n",
    "\n",
    "BREAK!\n",
    "\n",
    "> 인용문을 작성하세요!\n",
    ">> 중첩된 인용문(nested blockquote)을 만들 수 있습니다.\n",
    ">>> 중중첩된 인용문 1\n",
    ">>> 중중첩된 인용문 2\n",
    ">>> 중중첩된 인용문 3"
   ]
  },
  {
   "cell_type": "markdown",
   "metadata": {},
   "source": [
    "## 원시 HTML(Raw HTML) ##\n",
    "\n",
    "마크다운 문법이 아닌 원시 HTML 문법을 사용할 수 있습니다."
   ]
  },
  {
   "cell_type": "raw",
   "metadata": {},
   "source": [
    "<u>마크다운에서 지원하지 않는 기능</u>을 사용할 때 유용하며 대부분 잘 동작합니다.\n",
    "\n",
    "<img width=\"150\" src=\"http://www.gstatic.com/webp/gallery/4.jpg\" alt=\"Prunus\" title=\"A Wild Cherry (Prunus avium) in flower\">\n",
    "\n",
    "![Prunus](http://www.gstatic.com/webp/gallery/4.jpg)"
   ]
  },
  {
   "cell_type": "markdown",
   "metadata": {},
   "source": [
    "<u>마크다운에서 지원하지 않는 기능</u>을 사용할 때 유용하며 대부분 잘 동작합니다.\n",
    "\n",
    "<img width=\"150\" src=\"http://www.gstatic.com/webp/gallery/4.jpg\" alt=\"Prunus\" title=\"A Wild Cherry (Prunus avium) in flower\">\n",
    "\n",
    "![Prunus](http://www.gstatic.com/webp/gallery/4.jpg)"
   ]
  },
  {
   "cell_type": "markdown",
   "metadata": {},
   "source": [
    "## 수평선(Horizontal Rule) ##\n",
    "\n",
    "각 기호를 3개 이상 입력하세요."
   ]
  },
  {
   "cell_type": "raw",
   "metadata": {},
   "source": [
    "---\n",
    "(Hyphens)\n",
    "\n",
    "***\n",
    "(Asterisks)\n",
    "\n",
    "___\n",
    "(Underscores)"
   ]
  },
  {
   "cell_type": "markdown",
   "metadata": {},
   "source": [
    "---\n",
    "(Hyphens)\n",
    "\n",
    "***\n",
    "(Asterisks)\n",
    "\n",
    "___\n",
    "(Underscores)"
   ]
  },
  {
   "cell_type": "markdown",
   "metadata": {},
   "source": [
    "## 줄바꿈(Line Breaks) ##"
   ]
  },
  {
   "cell_type": "raw",
   "metadata": {},
   "source": [
    "동해물과 백두산이 마르고 닳도록 \n",
    "하느님이 보우하사 우리나라 만세   <!--띄어쓰기 2번-->\n",
    "무궁화 삼천리 화려 강산<br>\n",
    "대한 사람 대한으로 길이 보전하세"
   ]
  },
  {
   "cell_type": "markdown",
   "metadata": {},
   "source": [
    "동해물과 백두산이 마르고 닳도록 \n",
    "하느님이 보우하사 우리나라 만세   <!--띄어쓰기 2번-->\n",
    "무궁화 삼천리 화려 강산<br>\n",
    "대한 사람 대한으로 길이 보전하세"
   ]
  },
  {
   "cell_type": "code",
   "execution_count": null,
   "metadata": {
    "collapsed": true,
    "scrolled": true
   },
   "outputs": [],
   "source": []
  }
 ],
 "metadata": {
  "celltoolbar": "Raw Cell Format",
  "kernelspec": {
   "display_name": "Python 3",
   "language": "python",
   "name": "python3"
  },
  "language_info": {
   "codemirror_mode": {
    "name": "ipython",
    "version": 3
   },
   "file_extension": ".py",
   "mimetype": "text/x-python",
   "name": "python",
   "nbconvert_exporter": "python",
   "pygments_lexer": "ipython3",
   "version": "3.6.7"
  }
 },
 "nbformat": 4,
 "nbformat_minor": 2
}
