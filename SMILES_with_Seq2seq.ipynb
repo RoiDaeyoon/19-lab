{
  "nbformat": 4,
  "nbformat_minor": 0,
  "metadata": {
    "colab": {
      "name": "SMILES with Seq2seq",
      "provenance": [],
      "collapsed_sections": [
        "2nA0j0ShG7g7"
      ],
      "include_colab_link": true
    },
    "kernelspec": {
      "name": "python3",
      "display_name": "Python 3"
    },
    "accelerator": "GPU"
  },
  "cells": [
    {
      "cell_type": "markdown",
      "metadata": {
        "id": "view-in-github",
        "colab_type": "text"
      },
      "source": [
        "<a href=\"https://colab.research.google.com/github/dockhs1313/19-lab/blob/master/SMILES_with_Seq2seq.ipynb\" target=\"_parent\"><img src=\"https://colab.research.google.com/assets/colab-badge.svg\" alt=\"Open In Colab\"/></a>"
      ]
    },
    {
      "cell_type": "markdown",
      "metadata": {
        "id": "sJc9_7ZyBSSc",
        "colab_type": "text"
      },
      "source": [
        "# **seq2seq RNN models with SMILES in keras** (정형수,노정민,이유선)"
      ]
    },
    {
      "cell_type": "markdown",
      "metadata": {
        "id": "2nA0j0ShG7g7",
        "colab_type": "text"
      },
      "source": [
        "## Rdkit 설치"
      ]
    },
    {
      "cell_type": "code",
      "metadata": {
        "id": "ogWeylPOt-0M",
        "colab_type": "code",
        "outputId": "ddae18f0-6118-496e-c122-25f08c798a79",
        "colab": {
          "base_uri": "https://localhost:8080/",
          "height": 175
        }
      },
      "source": [
        "import sys\n",
        "import os\n",
        "import requests\n",
        "import subprocess\n",
        "import shutil\n",
        "from logging import getLogger, StreamHandler, INFO\n",
        "\n",
        "\n",
        "logger = getLogger(__name__)\n",
        "logger.addHandler(StreamHandler())\n",
        "logger.setLevel(INFO)\n",
        "\n",
        "\n",
        "def install(\n",
        "        chunk_size=4096,\n",
        "        file_name=\"Miniconda3-latest-Linux-x86_64.sh\",\n",
        "        url_base=\"https://repo.continuum.io/miniconda/\",\n",
        "        conda_path=os.path.expanduser(os.path.join(\"~\", \"miniconda\")),\n",
        "        rdkit_version=None,\n",
        "        add_python_path=True,\n",
        "        force=False):\n",
        "    \"\"\"install rdkit from miniconda\n",
        "    ```\n",
        "    import rdkit_installer\n",
        "    rdkit_installer.install()\n",
        "    ```\n",
        "    \"\"\"\n",
        "\n",
        "    python_path = os.path.join(\n",
        "        conda_path,\n",
        "        \"lib\",\n",
        "        \"python{0}.{1}\".format(*sys.version_info),\n",
        "        \"site-packages\",\n",
        "    )\n",
        "\n",
        "    if add_python_path and python_path not in sys.path:\n",
        "        logger.info(\"add {} to PYTHONPATH\".format(python_path))\n",
        "        sys.path.append(python_path)\n",
        "\n",
        "    if os.path.isdir(os.path.join(python_path, \"rdkit\")):\n",
        "        logger.info(\"rdkit is already installed\")\n",
        "        if not force:\n",
        "            return\n",
        "\n",
        "        logger.info(\"force re-install\")\n",
        "\n",
        "    url = url_base + file_name\n",
        "    python_version = \"{0}.{1}.{2}\".format(*sys.version_info)\n",
        "\n",
        "    logger.info(\"python version: {}\".format(python_version))\n",
        "\n",
        "    if os.path.isdir(conda_path):\n",
        "        logger.warning(\"remove current miniconda\")\n",
        "        shutil.rmtree(conda_path)\n",
        "    elif os.path.isfile(conda_path):\n",
        "        logger.warning(\"remove {}\".format(conda_path))\n",
        "        os.remove(conda_path)\n",
        "\n",
        "    logger.info('fetching installer from {}'.format(url))\n",
        "    res = requests.get(url, stream=True)\n",
        "    res.raise_for_status()\n",
        "    with open(file_name, 'wb') as f:\n",
        "        for chunk in res.iter_content(chunk_size):\n",
        "            f.write(chunk)\n",
        "    logger.info('done')\n",
        "\n",
        "    logger.info('installing miniconda to {}'.format(conda_path))\n",
        "    subprocess.check_call([\"bash\", file_name, \"-b\", \"-p\", conda_path])\n",
        "    logger.info('done')\n",
        "\n",
        "    logger.info(\"installing rdkit\")\n",
        "    subprocess.check_call([\n",
        "        os.path.join(conda_path, \"bin\", \"conda\"),\n",
        "        \"install\",\n",
        "        \"--yes\",\n",
        "        \"-c\", \"rdkit\",\n",
        "        \"python=={}\".format(python_version),\n",
        "        \"rdkit\" if rdkit_version is None else \"rdkit=={}\".format(rdkit_version)])\n",
        "    logger.info(\"done\")\n",
        "\n",
        "    import rdkit\n",
        "    logger.info(\"rdkit-{} installation finished!\".format(rdkit.__version__))\n",
        "\n",
        "\n",
        "if __name__ == \"__main__\":\n",
        "    install()"
      ],
      "execution_count": 0,
      "outputs": [
        {
          "output_type": "stream",
          "text": [
            "add /root/miniconda/lib/python3.6/site-packages to PYTHONPATH\n",
            "python version: 3.6.9\n",
            "fetching installer from https://repo.continuum.io/miniconda/Miniconda3-latest-Linux-x86_64.sh\n",
            "done\n",
            "installing miniconda to /root/miniconda\n",
            "done\n",
            "installing rdkit\n",
            "done\n",
            "rdkit-2017.09.1 installation finished!\n"
          ],
          "name": "stderr"
        }
      ]
    },
    {
      "cell_type": "code",
      "metadata": {
        "id": "bABZQrH6vOv5",
        "colab_type": "code",
        "colab": {}
      },
      "source": [
        "from __future__ import print_function\n",
        "from rdkit import Chem\n",
        "from rdkit.Chem import AllChem\n",
        "from rdkit.Chem.Draw import IPythonConsole\n",
        "from rdkit.Chem import Draw"
      ],
      "execution_count": 0,
      "outputs": []
    },
    {
      "cell_type": "code",
      "metadata": {
        "id": "LCpJ-2nrvhzh",
        "colab_type": "code",
        "colab": {}
      },
      "source": [
        "# General Imports\n",
        "import os\n",
        "import pandas as pd\n",
        "import numpy as np\n",
        "from rdkit import Chem\n",
        "from rdkit.Chem import Draw, Descriptors\n",
        "from matplotlib import pyplot as plt\n",
        "%matplotlib inline"
      ],
      "execution_count": 0,
      "outputs": []
    },
    {
      "cell_type": "markdown",
      "metadata": {
        "id": "rNTqXPCABjoN",
        "colab_type": "text"
      },
      "source": [
        "# 데이터 파일 추가와 확인"
      ]
    },
    {
      "cell_type": "markdown",
      "metadata": {
        "id": "eBdwKXUPPmb-",
        "colab_type": "text"
      },
      "source": [
        "우리는 Rdkit 데이터와 원자 8개가 포함된 (C,N,H,F,O 등) GDB-11 데이터를 사용하여 일부 SMILES 스트링들을 훈련하고 시험할 것이다.   \n",
        "이 데이터(GDB-11)는 원자와 결합 유형의 부분집합으로 생성될 수 있는 모든 분자를 포함한다.   \n",
        "데이터 세트는 http://gdb.unibe.ch/downloads/에서 다운로드할 수 있다."
      ]
    },
    {
      "cell_type": "code",
      "metadata": {
        "id": "YFSGBUquvwh9",
        "colab_type": "code",
        "outputId": "0f039510-e2f5-4af5-b177-8cc1a1922a13",
        "colab": {
          "base_uri": "https://localhost:8080/",
          "height": 52
        }
      },
      "source": [
        "smifile = \"gdb11_size08.smi\"\n",
        "data = pd.read_csv('/content/gdb11_size08.smi', delimiter = \"\\t\", names = [\"smiles\",\"No\",\"Int\"])\n",
        "from sklearn.model_selection import train_test_split\n",
        "smiles_train, smiles_test = train_test_split(data[\"smiles\"], random_state=42)\n",
        "print(smiles_train.shape)\n",
        "print(smiles_test.shape)"
      ],
      "execution_count": 0,
      "outputs": [
        {
          "output_type": "stream",
          "text": [
            "(50029,)\n",
            "(16677,)\n"
          ],
          "name": "stdout"
        }
      ]
    },
    {
      "cell_type": "markdown",
      "metadata": {
        "id": "911n2Lg_UPew",
        "colab_type": "text"
      },
      "source": [
        "embeding을 위해 one-hot encoded array 로 벡터화 한다.  \n",
        " context vector는 고정된 크기의 벡터 값을 전달하므로   \n",
        " 벡터의 크기는 가장 큰 길이의 값을 기준으로 정한다.   \n",
        " 우리는 가장 큰 길이 +5로 크기를 정하고 나머지 공란은 알파벳 'E' 로 채웠다."
      ]
    },
    {
      "cell_type": "code",
      "metadata": {
        "id": "b5ODezm_vyhm",
        "colab_type": "code",
        "outputId": "b78fd90e-4983-42a7-89d1-6257dcc92af8",
        "colab": {
          "base_uri": "https://localhost:8080/",
          "height": 52
        }
      },
      "source": [
        "charset = set(\"\".join(list(data.smiles))+\"!E\")\n",
        "char_to_int = dict((c,i) for i,c in enumerate(charset))\n",
        "int_to_char = dict((i,c) for i,c in enumerate(charset))\n",
        "embed = max([len(smile) for smile in data.smiles]) + 5\n",
        "print(str(charset))\n",
        "print(len(charset), embed)"
      ],
      "execution_count": 0,
      "outputs": [
        {
          "output_type": "stream",
          "text": [
            "{'[', 'H', '3', 'c', '#', 'n', 'F', ']', 'C', '4', 'o', 'E', 'N', ')', '=', '-', '1', 'O', '(', '!', '+', '2'}\n",
            "22 28\n"
          ],
          "name": "stdout"
        }
      ]
    },
    {
      "cell_type": "code",
      "metadata": {
        "id": "cwi4e77uyYQQ",
        "colab_type": "code",
        "outputId": "92185663-d301-4932-d32d-ef5789c35ea0",
        "colab": {
          "base_uri": "https://localhost:8080/",
          "height": 310
        }
      },
      "source": [
        "def vectorize(smiles):\n",
        "        one_hot =  np.zeros((smiles.shape[0], embed , len(charset)),dtype=np.float)\n",
        "        for i,smile in enumerate(smiles):\n",
        "            #encode the startchar\n",
        "            one_hot[i,0,char_to_int[\"!\"]] = 1\n",
        "            #encode the rest of the chars\n",
        "            for j,c in enumerate(smile):\n",
        "                one_hot[i,j+1,char_to_int[c]] = 1\n",
        "            #Encode endchar\n",
        "            one_hot[i,len(smile)+1:,char_to_int[\"E\"]] = 1\n",
        "        #Return two, one for input and the other for output\n",
        "        return one_hot[:,0:-1,:], one_hot[:,1:,:]\n",
        "X_train, Y_train = vectorize(smiles_train.values)\n",
        "X_test,Y_test = vectorize(smiles_test.values)\n",
        "print(smiles_train.iloc[0])\n",
        "plt.matshow(X_train[0].T)\n",
        "#print X_train.shape"
      ],
      "execution_count": 0,
      "outputs": [
        {
          "output_type": "stream",
          "text": [
            "N#CC#CC1COC1\n"
          ],
          "name": "stdout"
        },
        {
          "output_type": "execute_result",
          "data": {
            "text/plain": [
              "<matplotlib.image.AxesImage at 0x7efccc9ffc50>"
            ]
          },
          "metadata": {
            "tags": []
          },
          "execution_count": 6
        },
        {
          "output_type": "display_data",
          "data": {
            "image/png": "[encoded data removed]",
            "text/plain": [
              "<Figure size 353.455x288 with 1 Axes>"
            ]
          },
          "metadata": {
            "tags": []
          }
        }
      ]
    },
    {
      "cell_type": "code",
      "metadata": {
        "id": "Qq8QiTGtybqC",
        "colab_type": "code",
        "outputId": "050f9bb4-7864-4484-9dd4-d4668f8c47dc",
        "colab": {
          "base_uri": "https://localhost:8080/",
          "height": 34
        }
      },
      "source": [
        "\"\".join([int_to_char[idx] for idx in np.argmax(X_train[0,:,:], axis=1)])"
      ],
      "execution_count": 0,
      "outputs": [
        {
          "output_type": "execute_result",
          "data": {
            "text/plain": [
              "'!N#CC#CC1COC1EEEEEEEEEEEEEE'"
            ]
          },
          "metadata": {
            "tags": []
          },
          "execution_count": 7
        }
      ]
    },
    {
      "cell_type": "markdown",
      "metadata": {
        "id": "aQuezkk1HvCL",
        "colab_type": "text"
      },
      "source": [
        "## 텐서플로를 이용한 RNN 구조 만들기\n",
        "\n"
      ]
    },
    {
      "cell_type": "code",
      "metadata": {
        "id": "svpfaaqPy44j",
        "colab_type": "code",
        "outputId": "6ad64daa-68a6-46af-f494-37f4b892b424",
        "colab": {
          "base_uri": "https://localhost:8080/",
          "height": 34
        }
      },
      "source": [
        "try:\n",
        "\n",
        "    %tensorflow_version 2.x  \n",
        "\n",
        "except Exception:\n",
        "\n",
        "    pass"
      ],
      "execution_count": 0,
      "outputs": [
        {
          "output_type": "stream",
          "text": [
            "TensorFlow 2.x selected.\n"
          ],
          "name": "stdout"
        }
      ]
    },
    {
      "cell_type": "code",
      "metadata": {
        "id": "6HXjnPw_ywkw",
        "colab_type": "code",
        "colab": {}
      },
      "source": [
        "#Import Keras objects\n",
        "from tensorflow.keras.models import Model\n",
        "from tensorflow.keras.layers import Input\n",
        "from tensorflow.keras.layers import LSTM\n",
        "from tensorflow.keras.layers import Dense\n",
        "from tensorflow.keras.layers import Concatenate\n",
        "from tensorflow.keras import regularizers\n",
        "input_shape = X_train.shape[1:]\n",
        "output_dim = Y_train.shape[-1]\n",
        "latent_dim = 64\n",
        "lstm_dim = 64"
      ],
      "execution_count": 0,
      "outputs": []
    },
    {
      "cell_type": "markdown",
      "metadata": {
        "id": "NrVFTuMhXrNu",
        "colab_type": "text"
      },
      "source": [
        "모델은 전체적으로 다소 단순하다. 64LSTM 셀에 단일 레이어는 입력 SMILES 문자열을 읽는데 사용된다. 레이어의 출력은 무시되지만 최종 내부 C 및 H상태는 연결되고 병목 레이어 'neck'으로 다시 결합된다. 이 구조는  attention mechanism의 fully connected network와 유사하다. 이것은 인코더로 구성된다."
      ]
    },
    {
      "cell_type": "code",
      "metadata": {
        "id": "n64wGkhFy0g4",
        "colab_type": "code",
        "colab": {}
      },
      "source": [
        "unroll = False\n",
        "encoder_inputs = Input(shape=input_shape)\n",
        "encoder = LSTM(lstm_dim, return_state=True,\n",
        "                unroll=unroll)\n",
        "encoder_outputs, state_h, state_c = encoder(encoder_inputs)\n",
        "states = Concatenate(axis=-1)([state_h, state_c])\n",
        "neck = Dense(latent_dim, activation=\"relu\")\n",
        "neck_outputs = neck(states)"
      ],
      "execution_count": 0,
      "outputs": []
    },
    {
      "cell_type": "markdown",
      "metadata": {
        "id": "KcvBDI1wYjYj",
        "colab_type": "text"
      },
      "source": [
        "그런 다음 neck_output 디코더 LSTM 레이어에 설정되어야하는 상태를 디코딩하기 위해 두 개의 서로 다른 Dense 레이어를 통과한다.     \n",
        "인코더에서 디코더로의 내부 상태의 이러한 재결합은 LSTM 계층 자체에 의해 인코딩 된 것과 다른 크기의 latent space를 사용할 수 있게 한다.\n",
        "LSTM 레이어는 입력을 다시 한 번 수신하고 시퀀스의 다음 문자를 예측하는 작업을 수행한다. 따라서 분자와 문자 \"!\"의 잠복 표현에서 첫 번째 원자를 나타내는 다음 문자가 무엇인지 출력해야한다. (예 : \"C\", \"N\"등).   \n",
        "따라서 Y 벡터가 X에서 상쇄된다. \"!\"문자가있는 벡터 이 훈련 방법은 한 번의 단계의 결과가 다음 단계의 입력으로 사용되는 접근법과 달리 교사 시행(Teacher forcing)이라고한다. 네트워크가 시퀀스 시작에서 실수를 할 수는 있지만 시퀀스의 후반부에 대한 교육에는 영향을 미치지 않는다.   \n",
        " 이를 통해 디코더는 내부 상태를 공급 한 다음 전체 시퀀스를 구성 할 수 있는지 확인하는 것보다 훨씬 효율적으로 디코더를 학습시킨다. 각 단계에서 출력되는 LSTM 세포는 올바른 특성을 예측하기 위해 각 뉴런 작업과 함께 밀도가 높은 네트워크에 배치된다.\n",
        "\n",
        "   \n",
        "훈련을위한 최종 모델은 입력 레이어 객체와 출력 레이어에서 만들어진다."
      ]
    },
    {
      "cell_type": "code",
      "metadata": {
        "id": "F1w5JZl2zTDQ",
        "colab_type": "code",
        "outputId": "aa51869c-10c5-41c2-e96f-9f3fd26b04e3",
        "colab": {
          "base_uri": "https://localhost:8080/",
          "height": 545
        }
      },
      "source": [
        "decode_h = Dense(lstm_dim, activation=\"relu\")\n",
        "decode_c = Dense(lstm_dim, activation=\"relu\")\n",
        "state_h_decoded =  decode_h(neck_outputs)\n",
        "state_c_decoded =  decode_c(neck_outputs)\n",
        "encoder_states = [state_h_decoded, state_c_decoded]\n",
        "decoder_inputs = Input(shape=input_shape)\n",
        "decoder_lstm = LSTM(lstm_dim,\n",
        "                    return_sequences=True,\n",
        "                    unroll=unroll\n",
        "                   )\n",
        "decoder_outputs = decoder_lstm(decoder_inputs, initial_state=encoder_states)\n",
        "decoder_dense = Dense(output_dim, activation='softmax')\n",
        "decoder_outputs = decoder_dense(decoder_outputs)\n",
        "#Define the model, that inputs the training vector for two places, and predicts one character ahead of the input\n",
        "model = Model([encoder_inputs, decoder_inputs], decoder_outputs)\n",
        "print(model.summary())"
      ],
      "execution_count": 0,
      "outputs": [
        {
          "output_type": "stream",
          "text": [
            "Model: \"model\"\n",
            "__________________________________________________________________________________________________\n",
            "Layer (type)                    Output Shape         Param #     Connected to                     \n",
            "==================================================================================================\n",
            "input_1 (InputLayer)            [(None, 27, 22)]     0                                            \n",
            "__________________________________________________________________________________________________\n",
            "lstm (LSTM)                     [(None, 64), (None,  22272       input_1[0][0]                    \n",
            "__________________________________________________________________________________________________\n",
            "concatenate (Concatenate)       (None, 128)          0           lstm[0][1]                       \n",
            "                                                                 lstm[0][2]                       \n",
            "__________________________________________________________________________________________________\n",
            "dense (Dense)                   (None, 64)           8256        concatenate[0][0]                \n",
            "__________________________________________________________________________________________________\n",
            "input_2 (InputLayer)            [(None, 27, 22)]     0                                            \n",
            "__________________________________________________________________________________________________\n",
            "dense_1 (Dense)                 (None, 64)           4160        dense[0][0]                      \n",
            "__________________________________________________________________________________________________\n",
            "dense_2 (Dense)                 (None, 64)           4160        dense[0][0]                      \n",
            "__________________________________________________________________________________________________\n",
            "lstm_1 (LSTM)                   (None, 27, 64)       22272       input_2[0][0]                    \n",
            "                                                                 dense_1[0][0]                    \n",
            "                                                                 dense_2[0][0]                    \n",
            "__________________________________________________________________________________________________\n",
            "dense_3 (Dense)                 (None, 27, 22)       1430        lstm_1[0][0]                     \n",
            "==================================================================================================\n",
            "Total params: 62,550\n",
            "Trainable params: 62,550\n",
            "Non-trainable params: 0\n",
            "__________________________________________________________________________________________________\n",
            "None\n"
          ],
          "name": "stdout"
        }
      ]
    },
    {
      "cell_type": "markdown",
      "metadata": {
        "id": "3j6mBjnsIMds",
        "colab_type": "text"
      },
      "source": [
        "# 인코더"
      ]
    },
    {
      "cell_type": "code",
      "metadata": {
        "id": "9dvqLPm60gF6",
        "colab_type": "code",
        "colab": {}
      },
      "source": [
        "from tensorflow.keras.callbacks import History, ReduceLROnPlateau\n",
        "h = History()\n",
        "rlr = ReduceLROnPlateau(monitor='val_loss', factor=0.5,patience=10, min_lr=0.000001, verbose=1, min_delta=1e-5)"
      ],
      "execution_count": 0,
      "outputs": []
    },
    {
      "cell_type": "code",
      "metadata": {
        "id": "AJVpIA-F0jvf",
        "colab_type": "code",
        "outputId": "3e0a768c-5d39-4e2c-b27f-8fcb6127ee81",
        "colab": {
          "base_uri": "https://localhost:8080/",
          "height": 1000
        }
      },
      "source": [
        "from tensorflow.keras.optimizers import RMSprop, Adam #Default 0.001\n",
        "model.compile( optimizer='Adam', loss='categorical_crossentropy')\n",
        "model.fit([X_train,X_train],Y_train,\n",
        "                    epochs=200,\n",
        "                    batch_size=256,\n",
        "                    shuffle=True,\n",
        "                    callbacks=[h, rlr],\n",
        "                    validation_data=[[X_test,X_test],Y_test ])"
      ],
      "execution_count": 0,
      "outputs": [
        {
          "output_type": "stream",
          "text": [
            "Train on 50029 samples, validate on 16677 samples\n",
            "Epoch 1/200\n",
            "50029/50029 [==============================] - 9s 182us/sample - loss: 1.1762 - val_loss: 0.8778\n",
            "Epoch 2/200\n",
            "50029/50029 [==============================] - 2s 45us/sample - loss: 0.7813 - val_loss: 0.6962\n",
            "Epoch 3/200\n",
            "50029/50029 [==============================] - 2s 45us/sample - loss: 0.6408 - val_loss: 0.6004\n",
            "Epoch 4/200\n",
            "50029/50029 [==============================] - 2s 46us/sample - loss: 0.5820 - val_loss: 0.5545\n",
            "Epoch 5/200\n",
            "50029/50029 [==============================] - 2s 46us/sample - loss: 0.5354 - val_loss: 0.5074\n",
            "Epoch 6/200\n",
            "50029/50029 [==============================] - 2s 46us/sample - loss: 0.4989 - val_loss: 0.4858\n",
            "Epoch 7/200\n",
            "50029/50029 [==============================] - 2s 47us/sample - loss: 0.4759 - val_loss: 0.4664\n",
            "Epoch 8/200\n",
            "50029/50029 [==============================] - 2s 45us/sample - loss: 0.4609 - val_loss: 0.4525\n",
            "Epoch 9/200\n",
            "50029/50029 [==============================] - 2s 46us/sample - loss: 0.4438 - val_loss: 0.4262\n",
            "Epoch 10/200\n",
            "50029/50029 [==============================] - 2s 46us/sample - loss: 0.4269 - val_loss: 0.4072\n",
            "Epoch 11/200\n",
            "50029/50029 [==============================] - 2s 46us/sample - loss: 0.4108 - val_loss: 0.3855\n",
            "Epoch 12/200\n",
            "50029/50029 [==============================] - 2s 45us/sample - loss: 0.3939 - val_loss: 0.3803\n",
            "Epoch 13/200\n",
            "50029/50029 [==============================] - 2s 46us/sample - loss: 0.3887 - val_loss: 0.3747\n",
            "Epoch 14/200\n",
            "50029/50029 [==============================] - 2s 46us/sample - loss: 0.3767 - val_loss: 0.3489\n",
            "Epoch 15/200\n",
            "50029/50029 [==============================] - 2s 46us/sample - loss: 0.3560 - val_loss: 0.3817\n",
            "Epoch 16/200\n",
            "50029/50029 [==============================] - 2s 45us/sample - loss: 0.3434 - val_loss: 0.4511\n",
            "Epoch 17/200\n",
            "50029/50029 [==============================] - 2s 46us/sample - loss: 0.3356 - val_loss: 0.3485\n",
            "Epoch 18/200\n",
            "50029/50029 [==============================] - 2s 46us/sample - loss: 0.3350 - val_loss: 0.3067\n",
            "Epoch 19/200\n",
            "50029/50029 [==============================] - 2s 45us/sample - loss: 0.3187 - val_loss: 0.3327\n",
            "Epoch 20/200\n",
            "50029/50029 [==============================] - 2s 47us/sample - loss: 0.3087 - val_loss: 0.2946\n",
            "Epoch 21/200\n",
            "50029/50029 [==============================] - 2s 45us/sample - loss: 0.2926 - val_loss: 0.2745\n",
            "Epoch 22/200\n",
            "50029/50029 [==============================] - 2s 46us/sample - loss: 0.2936 - val_loss: 0.3358\n",
            "Epoch 23/200\n",
            "50029/50029 [==============================] - 2s 45us/sample - loss: 0.2726 - val_loss: 0.3528\n",
            "Epoch 24/200\n",
            "50029/50029 [==============================] - 2s 45us/sample - loss: 0.2650 - val_loss: 0.2449\n",
            "Epoch 25/200\n",
            "50029/50029 [==============================] - 2s 45us/sample - loss: 0.2585 - val_loss: 0.2634\n",
            "Epoch 26/200\n",
            "50029/50029 [==============================] - 2s 49us/sample - loss: 0.2406 - val_loss: 0.2453\n",
            "Epoch 27/200\n",
            "50029/50029 [==============================] - 3s 52us/sample - loss: 0.2319 - val_loss: 0.2227\n",
            "Epoch 28/200\n",
            "50029/50029 [==============================] - 2s 49us/sample - loss: 0.2258 - val_loss: 0.2082\n",
            "Epoch 29/200\n",
            "50029/50029 [==============================] - 2s 46us/sample - loss: 0.2208 - val_loss: 0.2023\n",
            "Epoch 30/200\n",
            "50029/50029 [==============================] - 2s 46us/sample - loss: 0.2081 - val_loss: 0.1976\n",
            "Epoch 31/200\n",
            "50029/50029 [==============================] - 2s 45us/sample - loss: 0.2145 - val_loss: 0.2029\n",
            "Epoch 32/200\n",
            "50029/50029 [==============================] - 2s 46us/sample - loss: 0.1974 - val_loss: 0.1796\n",
            "Epoch 33/200\n",
            "50029/50029 [==============================] - 2s 46us/sample - loss: 0.1873 - val_loss: 0.1962\n",
            "Epoch 34/200\n",
            "50029/50029 [==============================] - 2s 46us/sample - loss: 0.1985 - val_loss: 0.1740\n",
            "Epoch 35/200\n",
            "50029/50029 [==============================] - 2s 46us/sample - loss: 0.1793 - val_loss: 0.1598\n",
            "Epoch 36/200\n",
            "50029/50029 [==============================] - 2s 45us/sample - loss: 0.1703 - val_loss: 0.1638\n",
            "Epoch 37/200\n",
            "50029/50029 [==============================] - 2s 46us/sample - loss: 0.1710 - val_loss: 0.1882\n",
            "Epoch 38/200\n",
            "50029/50029 [==============================] - 2s 45us/sample - loss: 0.1601 - val_loss: 0.1512\n",
            "Epoch 39/200\n",
            "50029/50029 [==============================] - 2s 46us/sample - loss: 0.1550 - val_loss: 0.1566\n",
            "Epoch 40/200\n",
            "50029/50029 [==============================] - 2s 45us/sample - loss: 0.1512 - val_loss: 0.1301\n",
            "Epoch 41/200\n",
            "50029/50029 [==============================] - 2s 46us/sample - loss: 0.1618 - val_loss: 0.1796\n",
            "Epoch 42/200\n",
            "50029/50029 [==============================] - 2s 46us/sample - loss: 0.1432 - val_loss: 0.1354\n",
            "Epoch 43/200\n",
            "50029/50029 [==============================] - 2s 49us/sample - loss: 0.1495 - val_loss: 0.1369\n",
            "Epoch 44/200\n",
            "50029/50029 [==============================] - 2s 46us/sample - loss: 0.1347 - val_loss: 0.1279\n",
            "Epoch 45/200\n",
            "50029/50029 [==============================] - 2s 46us/sample - loss: 0.1370 - val_loss: 0.1167\n",
            "Epoch 46/200\n",
            "50029/50029 [==============================] - 2s 48us/sample - loss: 0.1372 - val_loss: 0.1469\n",
            "Epoch 47/200\n",
            "50029/50029 [==============================] - 2s 45us/sample - loss: 0.1293 - val_loss: 0.1371\n",
            "Epoch 48/200\n",
            "50029/50029 [==============================] - 2s 46us/sample - loss: 0.1241 - val_loss: 0.1071\n",
            "Epoch 49/200\n",
            "50029/50029 [==============================] - 2s 45us/sample - loss: 0.1252 - val_loss: 0.1015\n",
            "Epoch 50/200\n",
            "50029/50029 [==============================] - 2s 47us/sample - loss: 0.1267 - val_loss: 0.1420\n",
            "Epoch 51/200\n",
            "50029/50029 [==============================] - 2s 47us/sample - loss: 0.1093 - val_loss: 0.1118\n",
            "Epoch 52/200\n",
            "50029/50029 [==============================] - 2s 50us/sample - loss: 0.1183 - val_loss: 0.1031\n",
            "Epoch 53/200\n",
            "50029/50029 [==============================] - 2s 47us/sample - loss: 0.1152 - val_loss: 0.1055\n",
            "Epoch 54/200\n",
            "50029/50029 [==============================] - 2s 47us/sample - loss: 0.1031 - val_loss: 0.1124\n",
            "Epoch 55/200\n",
            "50029/50029 [==============================] - 2s 49us/sample - loss: 0.1247 - val_loss: 0.1072\n",
            "Epoch 56/200\n",
            "50029/50029 [==============================] - 2s 49us/sample - loss: 0.1081 - val_loss: 0.0952\n",
            "Epoch 57/200\n",
            "50029/50029 [==============================] - 2s 45us/sample - loss: 0.0961 - val_loss: 0.0896\n",
            "Epoch 58/200\n",
            "50029/50029 [==============================] - 2s 44us/sample - loss: 0.1063 - val_loss: 0.0835\n",
            "Epoch 59/200\n",
            "50029/50029 [==============================] - 2s 48us/sample - loss: 0.1008 - val_loss: 0.0809\n",
            "Epoch 60/200\n",
            "50029/50029 [==============================] - 2s 48us/sample - loss: 0.0898 - val_loss: 0.0775\n",
            "Epoch 61/200\n",
            "50029/50029 [==============================] - 2s 46us/sample - loss: 0.0897 - val_loss: 0.0731\n",
            "Epoch 62/200\n",
            "50029/50029 [==============================] - 2s 48us/sample - loss: 0.0882 - val_loss: 0.0725\n",
            "Epoch 63/200\n",
            "50029/50029 [==============================] - 2s 48us/sample - loss: 0.1008 - val_loss: 0.1086\n",
            "Epoch 64/200\n",
            "50029/50029 [==============================] - 2s 46us/sample - loss: 0.0975 - val_loss: 0.1435\n",
            "Epoch 65/200\n",
            "50029/50029 [==============================] - 2s 49us/sample - loss: 0.0839 - val_loss: 0.0685\n",
            "Epoch 66/200\n",
            "50029/50029 [==============================] - 2s 47us/sample - loss: 0.0978 - val_loss: 0.0774\n",
            "Epoch 67/200\n",
            "50029/50029 [==============================] - 2s 47us/sample - loss: 0.0721 - val_loss: 0.0711\n",
            "Epoch 68/200\n",
            "50029/50029 [==============================] - 2s 48us/sample - loss: 0.1588 - val_loss: 0.0711\n",
            "Epoch 69/200\n",
            "50029/50029 [==============================] - 2s 46us/sample - loss: 0.0722 - val_loss: 0.0678\n",
            "Epoch 70/200\n",
            "50029/50029 [==============================] - 2s 48us/sample - loss: 0.0855 - val_loss: 0.0671\n",
            "Epoch 71/200\n",
            "50029/50029 [==============================] - 2s 47us/sample - loss: 0.0738 - val_loss: 0.0700\n",
            "Epoch 72/200\n",
            "50029/50029 [==============================] - 2s 47us/sample - loss: 0.0850 - val_loss: 0.1090\n",
            "Epoch 73/200\n",
            "50029/50029 [==============================] - 2s 46us/sample - loss: 0.0681 - val_loss: 0.0591\n",
            "Epoch 74/200\n",
            "50029/50029 [==============================] - 2s 47us/sample - loss: 0.0841 - val_loss: 0.0582\n",
            "Epoch 75/200\n",
            "50029/50029 [==============================] - 2s 45us/sample - loss: 0.0613 - val_loss: 0.0580\n",
            "Epoch 76/200\n",
            "50029/50029 [==============================] - 2s 46us/sample - loss: 0.0715 - val_loss: 0.0671\n",
            "Epoch 77/200\n",
            "50029/50029 [==============================] - 2s 46us/sample - loss: 0.0692 - val_loss: 0.5097\n",
            "Epoch 78/200\n",
            "50029/50029 [==============================] - 2s 46us/sample - loss: 0.1021 - val_loss: 0.0595\n",
            "Epoch 79/200\n",
            "50029/50029 [==============================] - 2s 45us/sample - loss: 0.0605 - val_loss: 0.0547\n",
            "Epoch 80/200\n",
            "50029/50029 [==============================] - 2s 46us/sample - loss: 0.0592 - val_loss: 0.0509\n",
            "Epoch 81/200\n",
            "50029/50029 [==============================] - 2s 45us/sample - loss: 0.1125 - val_loss: 0.0634\n",
            "Epoch 82/200\n",
            "50029/50029 [==============================] - 2s 46us/sample - loss: 0.0520 - val_loss: 0.0562\n",
            "Epoch 83/200\n",
            "50029/50029 [==============================] - 2s 45us/sample - loss: 0.0510 - val_loss: 0.0433\n",
            "Epoch 84/200\n",
            "50029/50029 [==============================] - 2s 46us/sample - loss: 0.0783 - val_loss: 0.0463\n",
            "Epoch 85/200\n",
            "50029/50029 [==============================] - 2s 47us/sample - loss: 0.0666 - val_loss: 0.0704\n",
            "Epoch 86/200\n",
            "50029/50029 [==============================] - 2s 47us/sample - loss: 0.0455 - val_loss: 0.0438\n",
            "Epoch 87/200\n",
            "50029/50029 [==============================] - 2s 46us/sample - loss: 0.1051 - val_loss: 0.0693\n",
            "Epoch 88/200\n",
            "50029/50029 [==============================] - 2s 45us/sample - loss: 0.0468 - val_loss: 0.0466\n",
            "Epoch 89/200\n",
            "50029/50029 [==============================] - 2s 46us/sample - loss: 0.0822 - val_loss: 0.0460\n",
            "Epoch 90/200\n",
            "50029/50029 [==============================] - 2s 45us/sample - loss: 0.0420 - val_loss: 0.0437\n",
            "Epoch 91/200\n",
            "50029/50029 [==============================] - 2s 46us/sample - loss: 0.0419 - val_loss: 0.0484\n",
            "Epoch 92/200\n",
            "50029/50029 [==============================] - 2s 45us/sample - loss: 0.0774 - val_loss: 0.0420\n",
            "Epoch 93/200\n",
            "50029/50029 [==============================] - 2s 46us/sample - loss: 0.0406 - val_loss: 0.0389\n",
            "Epoch 94/200\n",
            "50029/50029 [==============================] - 2s 47us/sample - loss: 0.0810 - val_loss: 0.0463\n",
            "Epoch 95/200\n",
            "50029/50029 [==============================] - 2s 46us/sample - loss: 0.0377 - val_loss: 0.0370\n",
            "Epoch 96/200\n",
            "50029/50029 [==============================] - 2s 46us/sample - loss: 0.0590 - val_loss: 0.9310\n",
            "Epoch 97/200\n",
            "50029/50029 [==============================] - 2s 46us/sample - loss: 0.0855 - val_loss: 0.0392\n",
            "Epoch 98/200\n",
            "50029/50029 [==============================] - 2s 48us/sample - loss: 0.0372 - val_loss: 0.0436\n",
            "Epoch 99/200\n",
            "50029/50029 [==============================] - 2s 46us/sample - loss: 0.0933 - val_loss: 0.0436\n",
            "Epoch 100/200\n",
            "50029/50029 [==============================] - 2s 45us/sample - loss: 0.0372 - val_loss: 0.0363\n",
            "Epoch 101/200\n",
            "50029/50029 [==============================] - 2s 47us/sample - loss: 0.0346 - val_loss: 0.0480\n",
            "Epoch 102/200\n",
            "50029/50029 [==============================] - 2s 46us/sample - loss: 0.1527 - val_loss: 0.0627\n",
            "Epoch 103/200\n",
            "50029/50029 [==============================] - 2s 46us/sample - loss: 0.0404 - val_loss: 0.0331\n",
            "Epoch 104/200\n",
            "50029/50029 [==============================] - 2s 46us/sample - loss: 0.0346 - val_loss: 0.0338\n",
            "Epoch 105/200\n",
            "50029/50029 [==============================] - 2s 47us/sample - loss: 0.0356 - val_loss: 0.0343\n",
            "Epoch 106/200\n",
            "50029/50029 [==============================] - 2s 47us/sample - loss: 0.0695 - val_loss: 0.0345\n",
            "Epoch 107/200\n",
            "50029/50029 [==============================] - 2s 49us/sample - loss: 0.0310 - val_loss: 0.0279\n",
            "Epoch 108/200\n",
            "50029/50029 [==============================] - 2s 48us/sample - loss: 0.0674 - val_loss: 0.0405\n",
            "Epoch 109/200\n",
            "50029/50029 [==============================] - 2s 50us/sample - loss: 0.0290 - val_loss: 0.0339\n",
            "Epoch 110/200\n",
            "50029/50029 [==============================] - 3s 52us/sample - loss: 0.0556 - val_loss: 0.0658\n",
            "Epoch 111/200\n",
            "50029/50029 [==============================] - 2s 49us/sample - loss: 0.0320 - val_loss: 0.0271\n",
            "Epoch 112/200\n",
            "50029/50029 [==============================] - 2s 46us/sample - loss: 0.0292 - val_loss: 0.0498\n",
            "Epoch 113/200\n",
            "50029/50029 [==============================] - 2s 46us/sample - loss: 0.0265 - val_loss: 0.0306\n",
            "Epoch 114/200\n",
            "50029/50029 [==============================] - 2s 47us/sample - loss: 0.0653 - val_loss: 0.0460\n",
            "Epoch 115/200\n",
            "50029/50029 [==============================] - 2s 46us/sample - loss: 0.0274 - val_loss: 0.0236\n",
            "Epoch 116/200\n",
            "50029/50029 [==============================] - 2s 47us/sample - loss: 0.0232 - val_loss: 0.0275\n",
            "Epoch 117/200\n",
            "50029/50029 [==============================] - 2s 46us/sample - loss: 0.0253 - val_loss: 0.0253\n",
            "Epoch 118/200\n",
            "50029/50029 [==============================] - 2s 47us/sample - loss: 0.0877 - val_loss: 0.0286\n",
            "Epoch 119/200\n",
            "50029/50029 [==============================] - 2s 46us/sample - loss: 0.0243 - val_loss: 0.0221\n",
            "Epoch 120/200\n",
            "50029/50029 [==============================] - 2s 47us/sample - loss: 0.1268 - val_loss: 0.0515\n",
            "Epoch 121/200\n",
            "50029/50029 [==============================] - 2s 45us/sample - loss: 0.0315 - val_loss: 0.0287\n",
            "Epoch 122/200\n",
            "50029/50029 [==============================] - 2s 46us/sample - loss: 0.0240 - val_loss: 0.0280\n",
            "Epoch 123/200\n",
            "50029/50029 [==============================] - 2s 47us/sample - loss: 0.0219 - val_loss: 0.0288\n",
            "Epoch 124/200\n",
            "50029/50029 [==============================] - 2s 47us/sample - loss: 0.0315 - val_loss: 0.0223\n",
            "Epoch 125/200\n",
            "50029/50029 [==============================] - 2s 48us/sample - loss: 0.0270 - val_loss: 0.0232\n",
            "Epoch 126/200\n",
            "50029/50029 [==============================] - 3s 51us/sample - loss: 0.0194 - val_loss: 0.0194\n",
            "Epoch 127/200\n",
            "50029/50029 [==============================] - 3s 53us/sample - loss: 0.0898 - val_loss: 0.0244\n",
            "Epoch 128/200\n",
            "50029/50029 [==============================] - 3s 53us/sample - loss: 0.0212 - val_loss: 0.0194\n",
            "Epoch 129/200\n",
            "50029/50029 [==============================] - 2s 48us/sample - loss: 0.0183 - val_loss: 0.0241\n",
            "Epoch 130/200\n",
            "50029/50029 [==============================] - 2s 49us/sample - loss: 0.0771 - val_loss: 0.0204\n",
            "Epoch 131/200\n",
            "50029/50029 [==============================] - 2s 48us/sample - loss: 0.0186 - val_loss: 0.0233\n",
            "Epoch 132/200\n",
            "50029/50029 [==============================] - 2s 47us/sample - loss: 0.0213 - val_loss: 0.0171\n",
            "Epoch 133/200\n",
            "50029/50029 [==============================] - 2s 47us/sample - loss: 0.0368 - val_loss: 0.4915\n",
            "Epoch 134/200\n",
            "50029/50029 [==============================] - 2s 46us/sample - loss: 0.0462 - val_loss: 0.0184\n",
            "Epoch 135/200\n",
            "50029/50029 [==============================] - 2s 45us/sample - loss: 0.0169 - val_loss: 0.0155\n",
            "Epoch 136/200\n",
            "50029/50029 [==============================] - 2s 47us/sample - loss: 0.0168 - val_loss: 0.0195\n",
            "Epoch 137/200\n",
            "50029/50029 [==============================] - 2s 45us/sample - loss: 0.0736 - val_loss: 0.0497\n",
            "Epoch 138/200\n",
            "50029/50029 [==============================] - 2s 45us/sample - loss: 0.0236 - val_loss: 0.0192\n",
            "Epoch 139/200\n",
            "50029/50029 [==============================] - 2s 45us/sample - loss: 0.0197 - val_loss: 0.0205\n",
            "Epoch 140/200\n",
            "50029/50029 [==============================] - 2s 46us/sample - loss: 0.0147 - val_loss: 0.0192\n",
            "Epoch 141/200\n",
            "50029/50029 [==============================] - 2s 46us/sample - loss: 0.0153 - val_loss: 0.3850\n",
            "Epoch 142/200\n",
            "50029/50029 [==============================] - 2s 45us/sample - loss: 0.0565 - val_loss: 0.0159\n",
            "Epoch 143/200\n",
            "50029/50029 [==============================] - 2s 46us/sample - loss: 0.0158 - val_loss: 0.0224\n",
            "Epoch 144/200\n",
            "50029/50029 [==============================] - 2s 45us/sample - loss: 0.0159 - val_loss: 0.0154\n",
            "Epoch 145/200\n",
            "50029/50029 [==============================] - 2s 45us/sample - loss: 0.0194 - val_loss: 0.0143\n",
            "Epoch 146/200\n",
            "50029/50029 [==============================] - 2s 45us/sample - loss: 0.0123 - val_loss: 0.0139\n",
            "Epoch 147/200\n",
            "50029/50029 [==============================] - 2s 45us/sample - loss: 0.0141 - val_loss: 0.0131\n",
            "Epoch 148/200\n",
            "50029/50029 [==============================] - 2s 46us/sample - loss: 0.1008 - val_loss: 0.0193\n",
            "Epoch 149/200\n",
            "50029/50029 [==============================] - 2s 45us/sample - loss: 0.0147 - val_loss: 0.0137\n",
            "Epoch 150/200\n",
            "50029/50029 [==============================] - 2s 47us/sample - loss: 0.0502 - val_loss: 0.1101\n",
            "Epoch 151/200\n",
            "50029/50029 [==============================] - 2s 45us/sample - loss: 0.0243 - val_loss: 0.0188\n",
            "Epoch 152/200\n",
            "50029/50029 [==============================] - 2s 46us/sample - loss: 0.0130 - val_loss: 0.0144\n",
            "Epoch 153/200\n",
            "50029/50029 [==============================] - 2s 46us/sample - loss: 0.0132 - val_loss: 0.0129\n",
            "Epoch 154/200\n",
            "50029/50029 [==============================] - 2s 46us/sample - loss: 0.0244 - val_loss: 0.0141\n",
            "Epoch 155/200\n",
            "50029/50029 [==============================] - 2s 46us/sample - loss: 0.0113 - val_loss: 0.0199\n",
            "Epoch 156/200\n",
            "50029/50029 [==============================] - 2s 46us/sample - loss: 0.0215 - val_loss: 0.0191\n",
            "Epoch 157/200\n",
            "50029/50029 [==============================] - 2s 45us/sample - loss: 0.0115 - val_loss: 0.0126\n",
            "Epoch 158/200\n",
            "50029/50029 [==============================] - 2s 45us/sample - loss: 0.0597 - val_loss: 0.0149\n",
            "Epoch 159/200\n",
            "50029/50029 [==============================] - 2s 45us/sample - loss: 0.0113 - val_loss: 0.0126\n",
            "Epoch 160/200\n",
            "50029/50029 [==============================] - 2s 45us/sample - loss: 0.0111 - val_loss: 0.0121\n",
            "Epoch 161/200\n",
            "50029/50029 [==============================] - 2s 44us/sample - loss: 0.0887 - val_loss: 0.4264\n",
            "Epoch 162/200\n",
            "50029/50029 [==============================] - 2s 45us/sample - loss: 0.0579 - val_loss: 0.0158\n",
            "Epoch 163/200\n",
            "50029/50029 [==============================] - 2s 47us/sample - loss: 0.0128 - val_loss: 0.0116\n",
            "Epoch 164/200\n",
            "50029/50029 [==============================] - 2s 45us/sample - loss: 0.0111 - val_loss: 0.0107\n",
            "Epoch 165/200\n",
            "50029/50029 [==============================] - 2s 45us/sample - loss: 0.0097 - val_loss: 0.0092\n",
            "Epoch 166/200\n",
            "50029/50029 [==============================] - 2s 45us/sample - loss: 0.0675 - val_loss: 0.0450\n",
            "Epoch 167/200\n",
            "50029/50029 [==============================] - 2s 45us/sample - loss: 0.0149 - val_loss: 0.0103\n",
            "Epoch 168/200\n",
            "50029/50029 [==============================] - 2s 45us/sample - loss: 0.0093 - val_loss: 0.0095\n",
            "Epoch 169/200\n",
            "50029/50029 [==============================] - 2s 45us/sample - loss: 0.0108 - val_loss: 0.0086\n",
            "Epoch 170/200\n",
            "50029/50029 [==============================] - 2s 45us/sample - loss: 0.0089 - val_loss: 0.0113\n",
            "Epoch 171/200\n",
            "50029/50029 [==============================] - 2s 44us/sample - loss: 0.0513 - val_loss: 0.0157\n",
            "Epoch 172/200\n",
            "50029/50029 [==============================] - 2s 46us/sample - loss: 0.0103 - val_loss: 0.0094\n",
            "Epoch 173/200\n",
            "50029/50029 [==============================] - 2s 45us/sample - loss: 0.0079 - val_loss: 0.0088\n",
            "Epoch 174/200\n",
            "50029/50029 [==============================] - 2s 45us/sample - loss: 0.0483 - val_loss: 0.0666\n",
            "Epoch 175/200\n",
            "50029/50029 [==============================] - 2s 45us/sample - loss: 0.0169 - val_loss: 0.0105\n",
            "Epoch 176/200\n",
            "50029/50029 [==============================] - 2s 45us/sample - loss: 0.0086 - val_loss: 0.0089\n",
            "Epoch 177/200\n",
            "50029/50029 [==============================] - 2s 47us/sample - loss: 0.0074 - val_loss: 0.0086\n",
            "Epoch 178/200\n",
            "50029/50029 [==============================] - 2s 45us/sample - loss: 0.0073 - val_loss: 0.0082\n",
            "Epoch 179/200\n",
            "50029/50029 [==============================] - 2s 45us/sample - loss: 0.0617 - val_loss: 0.0110\n",
            "Epoch 180/200\n",
            "50029/50029 [==============================] - 2s 45us/sample - loss: 0.0088 - val_loss: 0.0078\n",
            "Epoch 181/200\n",
            "50029/50029 [==============================] - 2s 45us/sample - loss: 0.0072 - val_loss: 0.0071\n",
            "Epoch 182/200\n",
            "50029/50029 [==============================] - 2s 45us/sample - loss: 0.0077 - val_loss: 0.0078\n",
            "Epoch 183/200\n",
            "50029/50029 [==============================] - 2s 45us/sample - loss: 0.0091 - val_loss: 0.0077\n",
            "Epoch 184/200\n",
            "50029/50029 [==============================] - 2s 44us/sample - loss: 0.0069 - val_loss: 0.0081\n",
            "Epoch 185/200\n",
            "50029/50029 [==============================] - 2s 45us/sample - loss: 0.0091 - val_loss: 0.2027\n",
            "Epoch 186/200\n",
            "50029/50029 [==============================] - 2s 45us/sample - loss: 0.0726 - val_loss: 0.0102\n",
            "Epoch 187/200\n",
            "50029/50029 [==============================] - 2s 46us/sample - loss: 0.0081 - val_loss: 0.0079\n",
            "Epoch 188/200\n",
            "50029/50029 [==============================] - 2s 45us/sample - loss: 0.0067 - val_loss: 0.0074\n",
            "Epoch 189/200\n",
            "50029/50029 [==============================] - 2s 46us/sample - loss: 0.0071 - val_loss: 0.0068\n",
            "Epoch 190/200\n",
            "50029/50029 [==============================] - 2s 45us/sample - loss: 0.0064 - val_loss: 0.0143\n",
            "Epoch 191/200\n",
            "50029/50029 [==============================] - 2s 46us/sample - loss: 0.0410 - val_loss: 0.0097\n",
            "Epoch 192/200\n",
            "50029/50029 [==============================] - 2s 45us/sample - loss: 0.0065 - val_loss: 0.0067\n",
            "Epoch 193/200\n",
            "50029/50029 [==============================] - 2s 45us/sample - loss: 0.0063 - val_loss: 0.0116\n",
            "Epoch 194/200\n",
            "50029/50029 [==============================] - 2s 45us/sample - loss: 0.0202 - val_loss: 0.0065\n",
            "Epoch 195/200\n",
            "50029/50029 [==============================] - 2s 45us/sample - loss: 0.0053 - val_loss: 0.0055\n",
            "Epoch 196/200\n",
            "50029/50029 [==============================] - 2s 45us/sample - loss: 0.0047 - val_loss: 0.0057\n",
            "Epoch 197/200\n",
            "50029/50029 [==============================] - 2s 46us/sample - loss: 0.0048 - val_loss: 0.0056\n",
            "Epoch 198/200\n",
            "50029/50029 [==============================] - 2s 44us/sample - loss: 0.0476 - val_loss: 0.0088\n",
            "Epoch 199/200\n",
            "50029/50029 [==============================] - 2s 44us/sample - loss: 0.0064 - val_loss: 0.0066\n",
            "Epoch 200/200\n",
            "50029/50029 [==============================] - 2s 45us/sample - loss: 0.0051 - val_loss: 0.0055\n"
          ],
          "name": "stdout"
        },
        {
          "output_type": "execute_result",
          "data": {
            "text/plain": [
              "<tensorflow.python.keras.callbacks.History at 0x7efc22d51da0>"
            ]
          },
          "metadata": {
            "tags": []
          },
          "execution_count": 13
        }
      ]
    },
    {
      "cell_type": "code",
      "metadata": {
        "id": "Ec5V9OiLpgU4",
        "colab_type": "code",
        "outputId": "74ccc67d-3230-4d2a-b7ff-1322c95bc152",
        "colab": {
          "base_uri": "https://localhost:8080/",
          "height": 282
        }
      },
      "source": [
        " plt.plot(h.history[\"loss\"], label=\"Loss\")\n",
        "plt.plot(h.history[\"val_loss\"], label=\"Val_Loss\")\n",
        "plt.yscale(\"log\")\n",
        "plt.legend()"
      ],
      "execution_count": 0,
      "outputs": [
        {
          "output_type": "execute_result",
          "data": {
            "text/plain": [
              "<matplotlib.legend.Legend at 0x7efc1d642518>"
            ]
          },
          "metadata": {
            "tags": []
          },
          "execution_count": 14
        },
        {
          "output_type": "display_data",
          "data": {
            "image/png": "[encoded data removed]",
            "text/plain": [
              "<Figure size 432x288 with 1 Axes>"
            ]
          },
          "metadata": {
            "tags": []
          }
        }
      ]
    },
    {
      "cell_type": "markdown",
      "metadata": {
        "id": "6TGH1zlkIZG_",
        "colab_type": "text"
      },
      "source": [
        "#디코더"
      ]
    },
    {
      "cell_type": "markdown",
      "metadata": {
        "id": "5WMRfqtlaPeL",
        "colab_type": "text"
      },
      "source": [
        "이제 훈련된 자동 인코더의 일부를 사용하여 다양한 인코더 및 디코더 모델을 작성한다. in-put 레이어에서 다른 모델 내부의 out-put 레이어로 새 모델을 작성하는 것은 매우 간단하다. 모델이 만들어질 때 정의된 in-put 레이어는 재사용되고 neck_output은 출력으로 재사용된다. 이 모델은 벡터화 된 미소를 취하여 latent space로 인코딩한다."
      ]
    },
    {
      "cell_type": "code",
      "metadata": {
        "id": "dsq37RILb9b9",
        "colab_type": "code",
        "outputId": "b619eef1-d02b-4cda-e600-7d043e57248f",
        "colab": {
          "base_uri": "https://localhost:8080/",
          "height": 122
        }
      },
      "source": [
        "for i in range(100):\n",
        "    v = model.predict([X_test[i:i+1], X_test[i:i+1]]) #Can't be done as output not necessarely 1\n",
        "    idxs = np.argmax(v, axis=2)\n",
        "    pred=  \"\".join([int_to_char[h] for h in idxs[0]])[:-1]\n",
        "    idxs2 = np.argmax(X_test[i:i+1], axis=2)\n",
        "    true =  \"\".join([int_to_char[k] for k in idxs2[0]])[1:]\n",
        "    if true != pred:\n",
        "      print (true, pred)"
      ],
      "execution_count": 0,
      "outputs": [
        {
          "output_type": "stream",
          "text": [
            "CC(C1CO1)N(C)CEEEEEEEEEEEE CC1C1CO1)N(C)CEEEEEEEEEEEE\n",
            "CC1=NCCCNN1EEEEEEEEEEEEEEE CC1=CCCCNN1EEEEEEEEEEEEEEE\n",
            "CC(C(C)=C)C(C)=OEEEEEEEEEE CC(C)C)=C)C(C)=OEEEEEEEEEE\n",
            "NN(C(N)=N)C(N)=NEEEEEEEEEE NN(C(N)=C)C(F)=OEEEEEEEEEE\n",
            "[O-][N+](=O)c1nnon1EEEEEEE [O-][N+](=O)c1nnnn1EEEEEEE\n",
            "OC=C1C=NC(O)=N1EEEEEEEEEEE OC=C1C=NC(=)=N1EEEEEEEEEEE\n"
          ],
          "name": "stdout"
        }
      ]
    },
    {
      "cell_type": "markdown",
      "metadata": {
        "id": "i3I8m-oAanHc",
        "colab_type": "text"
      },
      "source": [
        "다음에 필요한 모델은 latent space을 디코더 LSTM 셀에서 설정해야하는 상태로 디코딩할 수 있는 모델이다. latent space과 일치하는 새로운 입력이 정의되었지만 이전의 레이어를 재사용하여 h 및 c 상태를 얻을 수 있다. 그렇게 하면 가중치가 훈련된 모델에서 상속된다  \n",
        " *(attention mechanism)*"
      ]
    },
    {
      "cell_type": "markdown",
      "metadata": {
        "id": "UAkEvOK_bH3f",
        "colab_type": "text"
      },
      "source": [
        "디코더 모델에는 약간 더 많은 작업이 필요하다. 배치 모드에서 학습되었지만 한 번에 한 문자를 예측하기 때문에 저장할 수 있는 공간이 필요하다. 따라서 새로운 batch_shape 와 상태유지 LSTM 레이어를 제외하고 이전과 똑같다."
      ]
    },
    {
      "cell_type": "markdown",
      "metadata": {
        "id": "TguyYluVb07c",
        "colab_type": "text"
      },
      "source": [
        "디코더 모델을 정의한 후 학습된 자동 인코더 모델에서 해당 가중치가 전송된다."
      ]
    },
    {
      "cell_type": "code",
      "metadata": {
        "id": "eHgHkD82doHj",
        "colab_type": "code",
        "colab": {}
      },
      "source": [
        "smiles_to_latent_model = Model(encoder_inputs, neck_outputs)\n",
        "smiles_to_latent_model.save(\"Blog_simple_smi2lat.h5\")"
      ],
      "execution_count": 0,
      "outputs": []
    },
    {
      "cell_type": "code",
      "metadata": {
        "id": "S8SHndPNe1tc",
        "colab_type": "code",
        "colab": {}
      },
      "source": [
        "latent_input = Input(shape=(latent_dim,))\n",
        "#reuse_layers\n",
        "state_h_decoded_2 =  decode_h(latent_input)\n",
        "state_c_decoded_2 =  decode_c(latent_input)\n",
        "latent_to_states_model = Model(latent_input, [state_h_decoded_2, state_c_decoded_2])\n",
        "latent_to_states_model.save(\"Blog_simple_lat2state.h5\")"
      ],
      "execution_count": 0,
      "outputs": []
    },
    {
      "cell_type": "code",
      "metadata": {
        "id": "7LM2RvUHe53r",
        "colab_type": "code",
        "colab": {}
      },
      "source": [
        "#Last one is special, we need to change it to stateful, and change the input shape\n",
        "inf_decoder_inputs = Input(batch_shape=(1, 1, input_shape[1]))\n",
        "inf_decoder_lstm = LSTM(lstm_dim,\n",
        "                    return_sequences=True,\n",
        "                    unroll=unroll,\n",
        "                    stateful=True\n",
        "                   )\n",
        "inf_decoder_outputs = inf_decoder_lstm(inf_decoder_inputs)\n",
        "inf_decoder_dense = Dense(output_dim, activation='softmax')\n",
        "inf_decoder_outputs = inf_decoder_dense(inf_decoder_outputs)\n",
        "sample_model = Model(inf_decoder_inputs, inf_decoder_outputs)\n"
      ],
      "execution_count": 0,
      "outputs": []
    },
    {
      "cell_type": "code",
      "metadata": {
        "id": "pET58amIe8wS",
        "colab_type": "code",
        "outputId": "fd14df08-82c6-4238-d4d7-8c161a9593ff",
        "colab": {
          "base_uri": "https://localhost:8080/",
          "height": 263
        }
      },
      "source": [
        "#Transfer Weights\n",
        "for i in range(1,3):\n",
        "    sample_model.layers[i].set_weights(model.layers[i+6].get_weights())\n",
        "sample_model.save(\"Blog_simple_samplemodel.h5\")\n",
        "1\n",
        "sample_model.summary()"
      ],
      "execution_count": 0,
      "outputs": [
        {
          "output_type": "stream",
          "text": [
            "Model: \"model_3\"\n",
            "_________________________________________________________________\n",
            "Layer (type)                 Output Shape              Param #   \n",
            "=================================================================\n",
            "input_4 (InputLayer)         [(1, 1, 22)]              0         \n",
            "_________________________________________________________________\n",
            "lstm_2 (LSTM)                (1, 1, 64)                22272     \n",
            "_________________________________________________________________\n",
            "dense_4 (Dense)              (1, 1, 22)                1430      \n",
            "=================================================================\n",
            "Total params: 23,702\n",
            "Trainable params: 23,702\n",
            "Non-trainable params: 0\n",
            "_________________________________________________________________\n"
          ],
          "name": "stdout"
        }
      ]
    },
    {
      "cell_type": "markdown",
      "metadata": {
        "id": "KRSuRDGgb9tD",
        "colab_type": "text"
      },
      "source": [
        "# Using the latenet space as a fingerprint"
      ]
    },
    {
      "cell_type": "markdown",
      "metadata": {
        "id": "771ZYMrgcRtM",
        "colab_type": "text"
      },
      "source": [
        "latent 모델에 대한 SMILES은 latent space와 같은 SMILES를 fingerprint로 인코딩하는 데 사용할 수 있다.\n",
        "\n",
        "fingerprint의 유용한 기능은 유사한 분자가 유사한 fingerprint를 생성하는 것이다. 유사한 분자가 latent space 에서 유사한 벡터를 생성하는지 확인하기 위해 유사한 분자에 대한 간단한 검색을 수행할 수 있다. 여기서 latent 벡터 간의 절대 차이는 유사성의 메트릭으로 사용 된다. 이 테스트는 유사한 분자가 유사하지 않은 latent 벡터를 얻을 수 있다는 것을 배제하지는 않지만 빠른 테스트다."
      ]
    },
    {
      "cell_type": "code",
      "metadata": {
        "id": "sIK7fPBre_8q",
        "colab_type": "code",
        "colab": {}
      },
      "source": [
        "x_latent = smiles_to_latent_model.predict(X_test)"
      ],
      "execution_count": 0,
      "outputs": []
    },
    {
      "cell_type": "markdown",
      "metadata": {
        "id": "4qM3ltSpdW7-",
        "colab_type": "text"
      },
      "source": [
        "첫 번째는 쿼리 분자다. 그것들은 비슷해 보이지만 분자 유사성에 대한 우리의 이해를 따르기보다는 SMILES string이 매우 유사하기 때문일 수 있다. latent space에서 가장 다른 분자가 무엇인지 살펴보자."
      ]
    },
    {
      "cell_type": "code",
      "metadata": {
        "id": "EQMmrCZTfBh6",
        "colab_type": "code",
        "outputId": "1be321ab-d10f-46d2-b970-1cbcb743cf26",
        "colab": {
          "base_uri": "https://localhost:8080/",
          "height": 413
        }
      },
      "source": [
        "molno = 5\n",
        "latent_mol = smiles_to_latent_model.predict(X_test[molno:molno+1])\n",
        "sorti = np.argsort(np.sum(np.abs(x_latent - latent_mol), axis=1))\n",
        "print (sorti[0:10])\n",
        "print (smiles_test.iloc[sorti[0:8]])\n",
        "Draw.MolsToImage(smiles_test.iloc[sorti[0:8]].apply(Chem.MolFromSmiles))"
      ],
      "execution_count": 0,
      "outputs": [
        {
          "output_type": "stream",
          "text": [
            "[    5 14589 15472  3991 15039  1243  5251   744  1075  2144]\n",
            "45051    COCc1cocn1\n",
            "44719    COCc1ccno1\n",
            "45061    COCc1conn1\n",
            "44727    COCc1cnno1\n",
            "45069    COCc1ncon1\n",
            "45007    COCc1ccoc1\n",
            "44751    COCc1ncno1\n",
            "45025    CCOc1cnoc1\n",
            "Name: smiles, dtype: object\n"
          ],
          "name": "stdout"
        },
        {
          "output_type": "execute_result",
          "data": {
            "image/png": "[encoded data removed]",
            "text/plain": [
              "<PIL.Image.Image image mode=RGBA size=1600x200 at 0x7EFCE83A7550>"
            ]
          },
          "metadata": {
            "tags": []
          },
          "execution_count": 21
        }
      ]
    },
    {
      "cell_type": "code",
      "metadata": {
        "id": "37uw0ta2fEIr",
        "colab_type": "code",
        "outputId": "b93f5eec-7ed6-4798-d2b1-ba0bccb2742f",
        "colab": {
          "base_uri": "https://localhost:8080/",
          "height": 237
        }
      },
      "source": [
        "Draw.MolsToImage(smiles_test.iloc[sorti[-8:]].apply(Chem.MolFromSmiles))"
      ],
      "execution_count": 0,
      "outputs": [
        {
          "output_type": "execute_result",
          "data": {
            "image/png": "[encoded data removed]",
            "text/plain": [
              "<PIL.Image.Image image mode=RGBA size=1600x200 at 0x7EFCCC511F60>"
            ]
          },
          "metadata": {
            "tags": []
          },
          "execution_count": 22
        }
      ]
    },
    {
      "cell_type": "markdown",
      "metadata": {
        "id": "2w8OLI37dn5j",
        "colab_type": "text"
      },
      "source": [
        "계산된 LogP 및 MR이 latent space의 PCA 감소가 어떻게 mapping 되는지 확인 해보자."
      ]
    },
    {
      "cell_type": "code",
      "metadata": {
        "id": "mhlae9GgfPMD",
        "colab_type": "code",
        "outputId": "a1be13f0-666f-4d24-e27e-3a459bd2e957",
        "colab": {
          "base_uri": "https://localhost:8080/",
          "height": 282
        }
      },
      "source": [
        "logp = smiles_test.apply(Chem.MolFromSmiles).apply(Descriptors.MolLogP)\n",
        "from sklearn.decomposition import PCA\n",
        "pca = PCA(n_components = 2)\n",
        "red = pca.fit_transform(x_latent)\n",
        "plt.figure()\n",
        "plt.scatter(red[:,0], red[:,1],marker='.', c= logp)\n",
        "print(pca.explained_variance_ratio_, np.sum(pca.explained_variance_ratio_))"
      ],
      "execution_count": 0,
      "outputs": [
        {
          "output_type": "stream",
          "text": [
            "[0.28907117 0.19593118] 0.48500234\n"
          ],
          "name": "stdout"
        },
        {
          "output_type": "display_data",
          "data": {
            "image/png": "[encoded data removed]",
            "text/plain": [
              "<Figure size 432x288 with 1 Axes>"
            ]
          },
          "metadata": {
            "tags": []
          }
        }
      ]
    },
    {
      "cell_type": "code",
      "metadata": {
        "id": "9sAn-N18fSir",
        "colab_type": "code",
        "outputId": "42421137-6c80-4519-e751-1cd7db606291",
        "colab": {
          "base_uri": "https://localhost:8080/",
          "height": 282
        }
      },
      "source": [
        "molwt = smiles_test.apply(Chem.MolFromSmiles).apply(Descriptors.MolMR)\n",
        "plt.figure()\n",
        "plt.scatter(red[:,0], red[:,1],marker='.', c= molwt)"
      ],
      "execution_count": 0,
      "outputs": [
        {
          "output_type": "execute_result",
          "data": {
            "text/plain": [
              "<matplotlib.collections.PathCollection at 0x7efbf781e080>"
            ]
          },
          "metadata": {
            "tags": []
          },
          "execution_count": 24
        },
        {
          "output_type": "display_data",
          "data": {
            "image/png": "[encoded data removed]",
            "text/plain": [
              "<Figure size 432x288 with 1 Axes>"
            ]
          },
          "metadata": {
            "tags": []
          }
        }
      ]
    },
    {
      "cell_type": "markdown",
      "metadata": {
        "id": "-ScS6YSkeCB-",
        "colab_type": "text"
      },
      "source": [
        "# latent space에서 모델링 속성\n",
        "fingerprint가 QSAR 모델의 기초로 잘 작동하는지 확인해 보았다.\n",
        "QSAR 모델링의 목표 값에 대한 프록시로서 예측된 LogP 모델이 작성된다. 모델링된 속성을 사용하여 모델을 작성하는 것은 데모 목적으로만 수행된다."
      ]
    },
    {
      "cell_type": "code",
      "metadata": {
        "id": "LMlEd4PQfVjy",
        "colab_type": "code",
        "outputId": "d70865a4-e3c2-4888-9090-4f46114c314c",
        "colab": {
          "base_uri": "https://localhost:8080/",
          "height": 1000
        }
      },
      "source": [
        "#Model LogP?\n",
        "x_train_latent = smiles_to_latent_model.predict(X_train)\n",
        "logp_train = smiles_train.apply(Chem.MolFromSmiles).apply(Descriptors.MolLogP)\n",
        "\n",
        "from tensorflow.keras.models import Sequential\n",
        "logp_model = Sequential()\n",
        "logp_model.add(Dense(128, input_shape=(latent_dim,), activation=\"relu\"))\n",
        "logp_model.add(Dense(128, activation=\"relu\"))\n",
        "logp_model.add(Dense(1))\n",
        "logp_model.compile(optimizer=\"adam\", loss=\"mse\")\n",
        "\n",
        "rlr = ReduceLROnPlateau(monitor='val_loss', factor=0.5,patience=10, min_lr=0.000001, verbose=1, epsilon=1e-5)\n",
        "\n",
        "x_train_latent= np.asarray(x_train_latent)\n",
        "logp_train= np.asarray(logp_train)\n",
        "\n",
        "logp_model.fit(x_train_latent, logp_train, batch_size=128, epochs=400, callbacks = [rlr])"
      ],
      "execution_count": 0,
      "outputs": [
        {
          "output_type": "stream",
          "text": [
            "WARNING:tensorflow:`epsilon` argument is deprecated and will be removed, use `min_delta` instead.\n",
            "Train on 50029 samples\n",
            "Epoch 1/400\n",
            "47744/50029 [===========================>..] - ETA: 0s - loss: 0.2950WARNING:tensorflow:Reduce LR on plateau conditioned on metric `val_loss` which is not available. Available metrics are: loss,lr\n",
            "50029/50029 [==============================] - 1s 25us/sample - loss: 0.2912\n",
            "Epoch 2/400\n",
            "48896/50029 [============================>.] - ETA: 0s - loss: 0.2002WARNING:tensorflow:Reduce LR on plateau conditioned on metric `val_loss` which is not available. Available metrics are: loss,lr\n",
            "50029/50029 [==============================] - 1s 19us/sample - loss: 0.2000\n",
            "Epoch 3/400\n",
            "47488/50029 [===========================>..] - ETA: 0s - loss: 0.1860WARNING:tensorflow:Reduce LR on plateau conditioned on metric `val_loss` which is not available. Available metrics are: loss,lr\n",
            "50029/50029 [==============================] - 1s 20us/sample - loss: 0.1859\n",
            "Epoch 4/400\n",
            "49920/50029 [============================>.] - ETA: 0s - loss: 0.1739WARNING:tensorflow:Reduce LR on plateau conditioned on metric `val_loss` which is not available. Available metrics are: loss,lr\n",
            "50029/50029 [==============================] - 1s 20us/sample - loss: 0.1739\n",
            "Epoch 5/400\n",
            "49664/50029 [============================>.] - ETA: 0s - loss: 0.1642WARNING:tensorflow:Reduce LR on plateau conditioned on metric `val_loss` which is not available. Available metrics are: loss,lr\n",
            "50029/50029 [==============================] - 1s 19us/sample - loss: 0.1640\n",
            "Epoch 6/400\n",
            "49408/50029 [============================>.] - ETA: 0s - loss: 0.1597WARNING:tensorflow:Reduce LR on plateau conditioned on metric `val_loss` which is not available. Available metrics are: loss,lr\n",
            "50029/50029 [==============================] - 1s 19us/sample - loss: 0.1597\n",
            "Epoch 7/400\n",
            "48896/50029 [============================>.] - ETA: 0s - loss: 0.1551WARNING:tensorflow:Reduce LR on plateau conditioned on metric `val_loss` which is not available. Available metrics are: loss,lr\n",
            "50029/50029 [==============================] - 1s 18us/sample - loss: 0.1551\n",
            "Epoch 8/400\n",
            "48000/50029 [===========================>..] - ETA: 0s - loss: 0.1511WARNING:tensorflow:Reduce LR on plateau conditioned on metric `val_loss` which is not available. Available metrics are: loss,lr\n",
            "50029/50029 [==============================] - 1s 18us/sample - loss: 0.1508\n",
            "Epoch 9/400\n",
            "49536/50029 [============================>.] - ETA: 0s - loss: 0.1452WARNING:tensorflow:Reduce LR on plateau conditioned on metric `val_loss` which is not available. Available metrics are: loss,lr\n",
            "50029/50029 [==============================] - 1s 18us/sample - loss: 0.1453\n",
            "Epoch 10/400\n",
            "49792/50029 [============================>.] - ETA: 0s - loss: 0.1415WARNING:tensorflow:Reduce LR on plateau conditioned on metric `val_loss` which is not available. Available metrics are: loss,lr\n",
            "50029/50029 [==============================] - 1s 18us/sample - loss: 0.1414\n",
            "Epoch 11/400\n",
            "48640/50029 [============================>.] - ETA: 0s - loss: 0.1417WARNING:tensorflow:Reduce LR on plateau conditioned on metric `val_loss` which is not available. Available metrics are: loss,lr\n",
            "50029/50029 [==============================] - 1s 18us/sample - loss: 0.1415\n",
            "Epoch 12/400\n",
            "48256/50029 [===========================>..] - ETA: 0s - loss: 0.1351WARNING:tensorflow:Reduce LR on plateau conditioned on metric `val_loss` which is not available. Available metrics are: loss,lr\n",
            "50029/50029 [==============================] - 1s 18us/sample - loss: 0.1351\n",
            "Epoch 13/400\n",
            "49152/50029 [============================>.] - ETA: 0s - loss: 0.1335WARNING:tensorflow:Reduce LR on plateau conditioned on metric `val_loss` which is not available. Available metrics are: loss,lr\n",
            "50029/50029 [==============================] - 1s 18us/sample - loss: 0.1333\n",
            "Epoch 14/400\n",
            "47872/50029 [===========================>..] - ETA: 0s - loss: 0.1291WARNING:tensorflow:Reduce LR on plateau conditioned on metric `val_loss` which is not available. Available metrics are: loss,lr\n",
            "50029/50029 [==============================] - 1s 18us/sample - loss: 0.1294\n",
            "Epoch 15/400\n",
            "48512/50029 [============================>.] - ETA: 0s - loss: 0.1299WARNING:tensorflow:Reduce LR on plateau conditioned on metric `val_loss` which is not available. Available metrics are: loss,lr\n",
            "50029/50029 [==============================] - 1s 18us/sample - loss: 0.1297\n",
            "Epoch 16/400\n",
            "48768/50029 [============================>.] - ETA: 0s - loss: 0.1244WARNING:tensorflow:Reduce LR on plateau conditioned on metric `val_loss` which is not available. Available metrics are: loss,lr\n",
            "50029/50029 [==============================] - 1s 18us/sample - loss: 0.1244\n",
            "Epoch 17/400\n",
            "47232/50029 [===========================>..] - ETA: 0s - loss: 0.1241WARNING:tensorflow:Reduce LR on plateau conditioned on metric `val_loss` which is not available. Available metrics are: loss,lr\n",
            "50029/50029 [==============================] - 1s 18us/sample - loss: 0.1242\n",
            "Epoch 18/400\n",
            "49920/50029 [============================>.] - ETA: 0s - loss: 0.1211WARNING:tensorflow:Reduce LR on plateau conditioned on metric `val_loss` which is not available. Available metrics are: loss,lr\n",
            "50029/50029 [==============================] - 1s 19us/sample - loss: 0.1211\n",
            "Epoch 19/400\n",
            "49664/50029 [============================>.] - ETA: 0s - loss: 0.1204WARNING:tensorflow:Reduce LR on plateau conditioned on metric `val_loss` which is not available. Available metrics are: loss,lr\n",
            "50029/50029 [==============================] - 1s 19us/sample - loss: 0.1204\n",
            "Epoch 20/400\n",
            "49024/50029 [============================>.] - ETA: 0s - loss: 0.1211WARNING:tensorflow:Reduce LR on plateau conditioned on metric `val_loss` which is not available. Available metrics are: loss,lr\n",
            "50029/50029 [==============================] - 1s 18us/sample - loss: 0.1212\n",
            "Epoch 21/400\n",
            "49792/50029 [============================>.] - ETA: 0s - loss: 0.1178WARNING:tensorflow:Reduce LR on plateau conditioned on metric `val_loss` which is not available. Available metrics are: loss,lr\n",
            "50029/50029 [==============================] - 1s 18us/sample - loss: 0.1178\n",
            "Epoch 22/400\n",
            "47872/50029 [===========================>..] - ETA: 0s - loss: 0.1144WARNING:tensorflow:Reduce LR on plateau conditioned on metric `val_loss` which is not available. Available metrics are: loss,lr\n",
            "50029/50029 [==============================] - 1s 18us/sample - loss: 0.1145\n",
            "Epoch 23/400\n",
            "48384/50029 [============================>.] - ETA: 0s - loss: 0.1127WARNING:tensorflow:Reduce LR on plateau conditioned on metric `val_loss` which is not available. Available metrics are: loss,lr\n",
            "50029/50029 [==============================] - 1s 18us/sample - loss: 0.1127\n",
            "Epoch 24/400\n",
            "48768/50029 [============================>.] - ETA: 0s - loss: 0.1127WARNING:tensorflow:Reduce LR on plateau conditioned on metric `val_loss` which is not available. Available metrics are: loss,lr\n",
            "50029/50029 [==============================] - 1s 18us/sample - loss: 0.1128\n",
            "Epoch 25/400\n",
            "48896/50029 [============================>.] - ETA: 0s - loss: 0.1093WARNING:tensorflow:Reduce LR on plateau conditioned on metric `val_loss` which is not available. Available metrics are: loss,lr\n",
            "50029/50029 [==============================] - 1s 18us/sample - loss: 0.1095\n",
            "Epoch 26/400\n",
            "49536/50029 [============================>.] - ETA: 0s - loss: 0.1091WARNING:tensorflow:Reduce LR on plateau conditioned on metric `val_loss` which is not available. Available metrics are: loss,lr\n",
            "50029/50029 [==============================] - 1s 19us/sample - loss: 0.1091\n",
            "Epoch 27/400\n",
            "49280/50029 [============================>.] - ETA: 0s - loss: 0.1099WARNING:tensorflow:Reduce LR on plateau conditioned on metric `val_loss` which is not available. Available metrics are: loss,lr\n",
            "50029/50029 [==============================] - 1s 18us/sample - loss: 0.1098\n",
            "Epoch 28/400\n",
            "48256/50029 [===========================>..] - ETA: 0s - loss: 0.1075WARNING:tensorflow:Reduce LR on plateau conditioned on metric `val_loss` which is not available. Available metrics are: loss,lr\n",
            "50029/50029 [==============================] - 1s 18us/sample - loss: 0.1076\n",
            "Epoch 29/400\n",
            "48128/50029 [===========================>..] - ETA: 0s - loss: 0.1068WARNING:tensorflow:Reduce LR on plateau conditioned on metric `val_loss` which is not available. Available metrics are: loss,lr\n",
            "50029/50029 [==============================] - 1s 18us/sample - loss: 0.1067\n",
            "Epoch 30/400\n",
            "49792/50029 [============================>.] - ETA: 0s - loss: 0.1039WARNING:tensorflow:Reduce LR on plateau conditioned on metric `val_loss` which is not available. Available metrics are: loss,lr\n",
            "50029/50029 [==============================] - 1s 19us/sample - loss: 0.1039\n",
            "Epoch 31/400\n",
            "48512/50029 [============================>.] - ETA: 0s - loss: 0.1064WARNING:tensorflow:Reduce LR on plateau conditioned on metric `val_loss` which is not available. Available metrics are: loss,lr\n",
            "50029/50029 [==============================] - 1s 18us/sample - loss: 0.1064\n",
            "Epoch 32/400\n",
            "48000/50029 [===========================>..] - ETA: 0s - loss: 0.1044WARNING:tensorflow:Reduce LR on plateau conditioned on metric `val_loss` which is not available. Available metrics are: loss,lr\n",
            "50029/50029 [==============================] - 1s 18us/sample - loss: 0.1047\n",
            "Epoch 33/400\n",
            "48256/50029 [===========================>..] - ETA: 0s - loss: 0.1046WARNING:tensorflow:Reduce LR on plateau conditioned on metric `val_loss` which is not available. Available metrics are: loss,lr\n",
            "50029/50029 [==============================] - 1s 18us/sample - loss: 0.1046\n",
            "Epoch 34/400\n",
            "47104/50029 [===========================>..] - ETA: 0s - loss: 0.1010WARNING:tensorflow:Reduce LR on plateau conditioned on metric `val_loss` which is not available. Available metrics are: loss,lr\n",
            "50029/50029 [==============================] - 1s 17us/sample - loss: 0.1009\n",
            "Epoch 35/400\n",
            "49024/50029 [============================>.] - ETA: 0s - loss: 0.1008WARNING:tensorflow:Reduce LR on plateau conditioned on metric `val_loss` which is not available. Available metrics are: loss,lr\n",
            "50029/50029 [==============================] - 1s 18us/sample - loss: 0.1009\n",
            "Epoch 36/400\n",
            "48000/50029 [===========================>..] - ETA: 0s - loss: 0.0998WARNING:tensorflow:Reduce LR on plateau conditioned on metric `val_loss` which is not available. Available metrics are: loss,lr\n",
            "50029/50029 [==============================] - 1s 19us/sample - loss: 0.0996\n",
            "Epoch 37/400\n",
            "49920/50029 [============================>.] - ETA: 0s - loss: 0.1017WARNING:tensorflow:Reduce LR on plateau conditioned on metric `val_loss` which is not available. Available metrics are: loss,lr\n",
            "50029/50029 [==============================] - 1s 18us/sample - loss: 0.1016\n",
            "Epoch 38/400\n",
            "49664/50029 [============================>.] - ETA: 0s - loss: 0.0980WARNING:tensorflow:Reduce LR on plateau conditioned on metric `val_loss` which is not available. Available metrics are: loss,lr\n",
            "50029/50029 [==============================] - 1s 18us/sample - loss: 0.0981\n",
            "Epoch 39/400\n",
            "49280/50029 [============================>.] - ETA: 0s - loss: 0.0975WARNING:tensorflow:Reduce LR on plateau conditioned on metric `val_loss` which is not available. Available metrics are: loss,lr\n",
            "50029/50029 [==============================] - 1s 18us/sample - loss: 0.0977\n",
            "Epoch 40/400\n",
            "48256/50029 [===========================>..] - ETA: 0s - loss: 0.0988WARNING:tensorflow:Reduce LR on plateau conditioned on metric `val_loss` which is not available. Available metrics are: loss,lr\n",
            "50029/50029 [==============================] - 1s 18us/sample - loss: 0.0989\n",
            "Epoch 41/400\n",
            "49280/50029 [============================>.] - ETA: 0s - loss: 0.0997WARNING:tensorflow:Reduce LR on plateau conditioned on metric `val_loss` which is not available. Available metrics are: loss,lr\n",
            "50029/50029 [==============================] - 1s 18us/sample - loss: 0.0997\n",
            "Epoch 42/400\n",
            "49664/50029 [============================>.] - ETA: 0s - loss: 0.0943WARNING:tensorflow:Reduce LR on plateau conditioned on metric `val_loss` which is not available. Available metrics are: loss,lr\n",
            "50029/50029 [==============================] - 1s 19us/sample - loss: 0.0943\n",
            "Epoch 43/400\n",
            "47360/50029 [===========================>..] - ETA: 0s - loss: 0.0952WARNING:tensorflow:Reduce LR on plateau conditioned on metric `val_loss` which is not available. Available metrics are: loss,lr\n",
            "50029/50029 [==============================] - 1s 17us/sample - loss: 0.0954\n",
            "Epoch 44/400\n",
            "47104/50029 [===========================>..] - ETA: 0s - loss: 0.0947WARNING:tensorflow:Reduce LR on plateau conditioned on metric `val_loss` which is not available. Available metrics are: loss,lr\n",
            "50029/50029 [==============================] - 1s 17us/sample - loss: 0.0947\n",
            "Epoch 45/400\n",
            "49152/50029 [============================>.] - ETA: 0s - loss: 0.0945WARNING:tensorflow:Reduce LR on plateau conditioned on metric `val_loss` which is not available. Available metrics are: loss,lr\n",
            "50029/50029 [==============================] - 1s 18us/sample - loss: 0.0943\n",
            "Epoch 46/400\n",
            "49536/50029 [============================>.] - ETA: 0s - loss: 0.0922WARNING:tensorflow:Reduce LR on plateau conditioned on metric `val_loss` which is not available. Available metrics are: loss,lr\n",
            "50029/50029 [==============================] - 1s 18us/sample - loss: 0.0922\n",
            "Epoch 47/400\n",
            "49536/50029 [============================>.] - ETA: 0s - loss: 0.0928WARNING:tensorflow:Reduce LR on plateau conditioned on metric `val_loss` which is not available. Available metrics are: loss,lr\n",
            "50029/50029 [==============================] - 1s 18us/sample - loss: 0.0928\n",
            "Epoch 48/400\n",
            "48000/50029 [===========================>..] - ETA: 0s - loss: 0.0920WARNING:tensorflow:Reduce LR on plateau conditioned on metric `val_loss` which is not available. Available metrics are: loss,lr\n",
            "50029/50029 [==============================] - 1s 18us/sample - loss: 0.0924\n",
            "Epoch 49/400\n",
            "48128/50029 [===========================>..] - ETA: 0s - loss: 0.0917WARNING:tensorflow:Reduce LR on plateau conditioned on metric `val_loss` which is not available. Available metrics are: loss,lr\n",
            "50029/50029 [==============================] - 1s 18us/sample - loss: 0.0917\n",
            "Epoch 50/400\n",
            "47872/50029 [===========================>..] - ETA: 0s - loss: 0.0910WARNING:tensorflow:Reduce LR on plateau conditioned on metric `val_loss` which is not available. Available metrics are: loss,lr\n",
            "50029/50029 [==============================] - 1s 18us/sample - loss: 0.0912\n",
            "Epoch 51/400\n",
            "48384/50029 [============================>.] - ETA: 0s - loss: 0.0916WARNING:tensorflow:Reduce LR on plateau conditioned on metric `val_loss` which is not available. Available metrics are: loss,lr\n",
            "50029/50029 [==============================] - 1s 18us/sample - loss: 0.0918\n",
            "Epoch 52/400\n",
            "49024/50029 [============================>.] - ETA: 0s - loss: 0.0892WARNING:tensorflow:Reduce LR on plateau conditioned on metric `val_loss` which is not available. Available metrics are: loss,lr\n",
            "50029/50029 [==============================] - 1s 19us/sample - loss: 0.0891\n",
            "Epoch 53/400\n",
            "47616/50029 [===========================>..] - ETA: 0s - loss: 0.0918WARNING:tensorflow:Reduce LR on plateau conditioned on metric `val_loss` which is not available. Available metrics are: loss,lr\n",
            "50029/50029 [==============================] - 1s 18us/sample - loss: 0.0918\n",
            "Epoch 54/400\n",
            "48256/50029 [===========================>..] - ETA: 0s - loss: 0.0894WARNING:tensorflow:Reduce LR on plateau conditioned on metric `val_loss` which is not available. Available metrics are: loss,lr\n",
            "50029/50029 [==============================] - 1s 19us/sample - loss: 0.0894\n",
            "Epoch 55/400\n",
            "48384/50029 [============================>.] - ETA: 0s - loss: 0.0884WARNING:tensorflow:Reduce LR on plateau conditioned on metric `val_loss` which is not available. Available metrics are: loss,lr\n",
            "50029/50029 [==============================] - 1s 19us/sample - loss: 0.0884\n",
            "Epoch 56/400\n",
            "48896/50029 [============================>.] - ETA: 0s - loss: 0.0877WARNING:tensorflow:Reduce LR on plateau conditioned on metric `val_loss` which is not available. Available metrics are: loss,lr\n",
            "50029/50029 [==============================] - 1s 19us/sample - loss: 0.0875\n",
            "Epoch 57/400\n",
            "49024/50029 [============================>.] - ETA: 0s - loss: 0.0898WARNING:tensorflow:Reduce LR on plateau conditioned on metric `val_loss` which is not available. Available metrics are: loss,lr\n",
            "50029/50029 [==============================] - 1s 19us/sample - loss: 0.0898\n",
            "Epoch 58/400\n",
            "49024/50029 [============================>.] - ETA: 0s - loss: 0.0896WARNING:tensorflow:Reduce LR on plateau conditioned on metric `val_loss` which is not available. Available metrics are: loss,lr\n",
            "50029/50029 [==============================] - 1s 20us/sample - loss: 0.0897\n",
            "Epoch 59/400\n",
            "49920/50029 [============================>.] - ETA: 0s - loss: 0.0875WARNING:tensorflow:Reduce LR on plateau conditioned on metric `val_loss` which is not available. Available metrics are: loss,lr\n",
            "50029/50029 [==============================] - 1s 20us/sample - loss: 0.0876\n",
            "Epoch 60/400\n",
            "48128/50029 [===========================>..] - ETA: 0s - loss: 0.0860WARNING:tensorflow:Reduce LR on plateau conditioned on metric `val_loss` which is not available. Available metrics are: loss,lr\n",
            "50029/50029 [==============================] - 1s 19us/sample - loss: 0.0858\n",
            "Epoch 61/400\n",
            "49024/50029 [============================>.] - ETA: 0s - loss: 0.0852WARNING:tensorflow:Reduce LR on plateau conditioned on metric `val_loss` which is not available. Available metrics are: loss,lr\n",
            "50029/50029 [==============================] - 1s 19us/sample - loss: 0.0853\n",
            "Epoch 62/400\n",
            "48512/50029 [============================>.] - ETA: 0s - loss: 0.0855WARNING:tensorflow:Reduce LR on plateau conditioned on metric `val_loss` which is not available. Available metrics are: loss,lr\n",
            "50029/50029 [==============================] - 1s 19us/sample - loss: 0.0854\n",
            "Epoch 63/400\n",
            "49408/50029 [============================>.] - ETA: 0s - loss: 0.0850WARNING:tensorflow:Reduce LR on plateau conditioned on metric `val_loss` which is not available. Available metrics are: loss,lr\n",
            "50029/50029 [==============================] - 1s 19us/sample - loss: 0.0850\n",
            "Epoch 64/400\n",
            "48896/50029 [============================>.] - ETA: 0s - loss: 0.0862WARNING:tensorflow:Reduce LR on plateau conditioned on metric `val_loss` which is not available. Available metrics are: loss,lr\n",
            "50029/50029 [==============================] - 1s 19us/sample - loss: 0.0863\n",
            "Epoch 65/400\n",
            "47872/50029 [===========================>..] - ETA: 0s - loss: 0.0848WARNING:tensorflow:Reduce LR on plateau conditioned on metric `val_loss` which is not available. Available metrics are: loss,lr\n",
            "50029/50029 [==============================] - 1s 19us/sample - loss: 0.0847\n",
            "Epoch 66/400\n",
            "49024/50029 [============================>.] - ETA: 0s - loss: 0.0836WARNING:tensorflow:Reduce LR on plateau conditioned on metric `val_loss` which is not available. Available metrics are: loss,lr\n",
            "50029/50029 [==============================] - 1s 18us/sample - loss: 0.0838\n",
            "Epoch 67/400\n",
            "49152/50029 [============================>.] - ETA: 0s - loss: 0.0834WARNING:tensorflow:Reduce LR on plateau conditioned on metric `val_loss` which is not available. Available metrics are: loss,lr\n",
            "50029/50029 [==============================] - 1s 18us/sample - loss: 0.0834\n",
            "Epoch 68/400\n",
            "48512/50029 [============================>.] - ETA: 0s - loss: 0.0858WARNING:tensorflow:Reduce LR on plateau conditioned on metric `val_loss` which is not available. Available metrics are: loss,lr\n",
            "50029/50029 [==============================] - 1s 18us/sample - loss: 0.0859\n",
            "Epoch 69/400\n",
            "48768/50029 [============================>.] - ETA: 0s - loss: 0.0818WARNING:tensorflow:Reduce LR on plateau conditioned on metric `val_loss` which is not available. Available metrics are: loss,lr\n",
            "50029/50029 [==============================] - 1s 19us/sample - loss: 0.0819\n",
            "Epoch 70/400\n",
            "49792/50029 [============================>.] - ETA: 0s - loss: 0.0824WARNING:tensorflow:Reduce LR on plateau conditioned on metric `val_loss` which is not available. Available metrics are: loss,lr\n",
            "50029/50029 [==============================] - 1s 18us/sample - loss: 0.0823\n",
            "Epoch 71/400\n",
            "49280/50029 [============================>.] - ETA: 0s - loss: 0.0819WARNING:tensorflow:Reduce LR on plateau conditioned on metric `val_loss` which is not available. Available metrics are: loss,lr\n",
            "50029/50029 [==============================] - 1s 18us/sample - loss: 0.0818\n",
            "Epoch 72/400\n",
            "49664/50029 [============================>.] - ETA: 0s - loss: 0.0814WARNING:tensorflow:Reduce LR on plateau conditioned on metric `val_loss` which is not available. Available metrics are: loss,lr\n",
            "50029/50029 [==============================] - 1s 18us/sample - loss: 0.0814\n",
            "Epoch 73/400\n",
            "49664/50029 [============================>.] - ETA: 0s - loss: 0.0832WARNING:tensorflow:Reduce LR on plateau conditioned on metric `val_loss` which is not available. Available metrics are: loss,lr\n",
            "50029/50029 [==============================] - 1s 18us/sample - loss: 0.0832\n",
            "Epoch 74/400\n",
            "48128/50029 [===========================>..] - ETA: 0s - loss: 0.0798WARNING:tensorflow:Reduce LR on plateau conditioned on metric `val_loss` which is not available. Available metrics are: loss,lr\n",
            "50029/50029 [==============================] - 1s 17us/sample - loss: 0.0798\n",
            "Epoch 75/400\n",
            "49408/50029 [============================>.] - ETA: 0s - loss: 0.0822WARNING:tensorflow:Reduce LR on plateau conditioned on metric `val_loss` which is not available. Available metrics are: loss,lr\n",
            "50029/50029 [==============================] - 1s 18us/sample - loss: 0.0821\n",
            "Epoch 76/400\n",
            "49792/50029 [============================>.] - ETA: 0s - loss: 0.0812WARNING:tensorflow:Reduce LR on plateau conditioned on metric `val_loss` which is not available. Available metrics are: loss,lr\n",
            "50029/50029 [==============================] - 1s 18us/sample - loss: 0.0812\n",
            "Epoch 77/400\n",
            "48384/50029 [============================>.] - ETA: 0s - loss: 0.0828WARNING:tensorflow:Reduce LR on plateau conditioned on metric `val_loss` which is not available. Available metrics are: loss,lr\n",
            "50029/50029 [==============================] - 1s 18us/sample - loss: 0.0827\n",
            "Epoch 78/400\n",
            "49280/50029 [============================>.] - ETA: 0s - loss: 0.0792WARNING:tensorflow:Reduce LR on plateau conditioned on metric `val_loss` which is not available. Available metrics are: loss,lr\n",
            "50029/50029 [==============================] - 1s 18us/sample - loss: 0.0791\n",
            "Epoch 79/400\n",
            "49280/50029 [============================>.] - ETA: 0s - loss: 0.0811WARNING:tensorflow:Reduce LR on plateau conditioned on metric `val_loss` which is not available. Available metrics are: loss,lr\n",
            "50029/50029 [==============================] - 1s 18us/sample - loss: 0.0811\n",
            "Epoch 80/400\n",
            "49920/50029 [============================>.] - ETA: 0s - loss: 0.0795WARNING:tensorflow:Reduce LR on plateau conditioned on metric `val_loss` which is not available. Available metrics are: loss,lr\n",
            "50029/50029 [==============================] - 1s 18us/sample - loss: 0.0794\n",
            "Epoch 81/400\n",
            "49152/50029 [============================>.] - ETA: 0s - loss: 0.0798WARNING:tensorflow:Reduce LR on plateau conditioned on metric `val_loss` which is not available. Available metrics are: loss,lr\n",
            "50029/50029 [==============================] - 1s 18us/sample - loss: 0.0799\n",
            "Epoch 82/400\n",
            "48512/50029 [============================>.] - ETA: 0s - loss: 0.0794WARNING:tensorflow:Reduce LR on plateau conditioned on metric `val_loss` which is not available. Available metrics are: loss,lr\n",
            "50029/50029 [==============================] - 1s 18us/sample - loss: 0.0792\n",
            "Epoch 83/400\n",
            "49920/50029 [============================>.] - ETA: 0s - loss: 0.0792WARNING:tensorflow:Reduce LR on plateau conditioned on metric `val_loss` which is not available. Available metrics are: loss,lr\n",
            "50029/50029 [==============================] - 1s 18us/sample - loss: 0.0792\n",
            "Epoch 84/400\n",
            "47232/50029 [===========================>..] - ETA: 0s - loss: 0.0798WARNING:tensorflow:Reduce LR on plateau conditioned on metric `val_loss` which is not available. Available metrics are: loss,lr\n",
            "50029/50029 [==============================] - 1s 17us/sample - loss: 0.0806\n",
            "Epoch 85/400\n",
            "48768/50029 [============================>.] - ETA: 0s - loss: 0.0788WARNING:tensorflow:Reduce LR on plateau conditioned on metric `val_loss` which is not available. Available metrics are: loss,lr\n",
            "50029/50029 [==============================] - 1s 17us/sample - loss: 0.0790\n",
            "Epoch 86/400\n",
            "49664/50029 [============================>.] - ETA: 0s - loss: 0.0776WARNING:tensorflow:Reduce LR on plateau conditioned on metric `val_loss` which is not available. Available metrics are: loss,lr\n",
            "50029/50029 [==============================] - 1s 19us/sample - loss: 0.0777\n",
            "Epoch 87/400\n",
            "47232/50029 [===========================>..] - ETA: 0s - loss: 0.0797WARNING:tensorflow:Reduce LR on plateau conditioned on metric `val_loss` which is not available. Available metrics are: loss,lr\n",
            "50029/50029 [==============================] - 1s 18us/sample - loss: 0.0794\n",
            "Epoch 88/400\n",
            "47872/50029 [===========================>..] - ETA: 0s - loss: 0.0769WARNING:tensorflow:Reduce LR on plateau conditioned on metric `val_loss` which is not available. Available metrics are: loss,lr\n",
            "50029/50029 [==============================] - 1s 18us/sample - loss: 0.0771\n",
            "Epoch 89/400\n",
            "49792/50029 [============================>.] - ETA: 0s - loss: 0.0775WARNING:tensorflow:Reduce LR on plateau conditioned on metric `val_loss` which is not available. Available metrics are: loss,lr\n",
            "50029/50029 [==============================] - 1s 18us/sample - loss: 0.0775\n",
            "Epoch 90/400\n",
            "48384/50029 [============================>.] - ETA: 0s - loss: 0.0777WARNING:tensorflow:Reduce LR on plateau conditioned on metric `val_loss` which is not available. Available metrics are: loss,lr\n",
            "50029/50029 [==============================] - 1s 18us/sample - loss: 0.0777\n",
            "Epoch 91/400\n",
            "47872/50029 [===========================>..] - ETA: 0s - loss: 0.0790WARNING:tensorflow:Reduce LR on plateau conditioned on metric `val_loss` which is not available. Available metrics are: loss,lr\n",
            "50029/50029 [==============================] - 1s 18us/sample - loss: 0.0792\n",
            "Epoch 92/400\n",
            "49280/50029 [============================>.] - ETA: 0s - loss: 0.0769WARNING:tensorflow:Reduce LR on plateau conditioned on metric `val_loss` which is not available. Available metrics are: loss,lr\n",
            "50029/50029 [==============================] - 1s 18us/sample - loss: 0.0767\n",
            "Epoch 93/400\n",
            "49792/50029 [============================>.] - ETA: 0s - loss: 0.0772WARNING:tensorflow:Reduce LR on plateau conditioned on metric `val_loss` which is not available. Available metrics are: loss,lr\n",
            "50029/50029 [==============================] - 1s 18us/sample - loss: 0.0772\n",
            "Epoch 94/400\n",
            "49792/50029 [============================>.] - ETA: 0s - loss: 0.0778WARNING:tensorflow:Reduce LR on plateau conditioned on metric `val_loss` which is not available. Available metrics are: loss,lr\n",
            "50029/50029 [==============================] - 1s 18us/sample - loss: 0.0777\n",
            "Epoch 95/400\n",
            "49280/50029 [============================>.] - ETA: 0s - loss: 0.0756WARNING:tensorflow:Reduce LR on plateau conditioned on metric `val_loss` which is not available. Available metrics are: loss,lr\n",
            "50029/50029 [==============================] - 1s 18us/sample - loss: 0.0757\n",
            "Epoch 96/400\n",
            "48384/50029 [============================>.] - ETA: 0s - loss: 0.0753WARNING:tensorflow:Reduce LR on plateau conditioned on metric `val_loss` which is not available. Available metrics are: loss,lr\n",
            "50029/50029 [==============================] - 1s 18us/sample - loss: 0.0752\n",
            "Epoch 97/400\n",
            "49408/50029 [============================>.] - ETA: 0s - loss: 0.0757WARNING:tensorflow:Reduce LR on plateau conditioned on metric `val_loss` which is not available. Available metrics are: loss,lr\n",
            "50029/50029 [==============================] - 1s 18us/sample - loss: 0.0758\n",
            "Epoch 98/400\n",
            "48896/50029 [============================>.] - ETA: 0s - loss: 0.0790WARNING:tensorflow:Reduce LR on plateau conditioned on metric `val_loss` which is not available. Available metrics are: loss,lr\n",
            "50029/50029 [==============================] - 1s 18us/sample - loss: 0.0790\n",
            "Epoch 99/400\n",
            "47872/50029 [===========================>..] - ETA: 0s - loss: 0.0740WARNING:tensorflow:Reduce LR on plateau conditioned on metric `val_loss` which is not available. Available metrics are: loss,lr\n",
            "50029/50029 [==============================] - 1s 17us/sample - loss: 0.0741\n",
            "Epoch 100/400\n",
            "48384/50029 [============================>.] - ETA: 0s - loss: 0.0756WARNING:tensorflow:Reduce LR on plateau conditioned on metric `val_loss` which is not available. Available metrics are: loss,lr\n",
            "50029/50029 [==============================] - 1s 18us/sample - loss: 0.0758\n",
            "Epoch 101/400\n",
            "49280/50029 [============================>.] - ETA: 0s - loss: 0.0738WARNING:tensorflow:Reduce LR on plateau conditioned on metric `val_loss` which is not available. Available metrics are: loss,lr\n",
            "50029/50029 [==============================] - 1s 18us/sample - loss: 0.0739\n",
            "Epoch 102/400\n",
            "49920/50029 [============================>.] - ETA: 0s - loss: 0.0750WARNING:tensorflow:Reduce LR on plateau conditioned on metric `val_loss` which is not available. Available metrics are: loss,lr\n",
            "50029/50029 [==============================] - 1s 19us/sample - loss: 0.0750\n",
            "Epoch 103/400\n",
            "49792/50029 [============================>.] - ETA: 0s - loss: 0.0739WARNING:tensorflow:Reduce LR on plateau conditioned on metric `val_loss` which is not available. Available metrics are: loss,lr\n",
            "50029/50029 [==============================] - 1s 19us/sample - loss: 0.0740\n",
            "Epoch 104/400\n",
            "47872/50029 [===========================>..] - ETA: 0s - loss: 0.0738WARNING:tensorflow:Reduce LR on plateau conditioned on metric `val_loss` which is not available. Available metrics are: loss,lr\n",
            "50029/50029 [==============================] - 1s 17us/sample - loss: 0.0738\n",
            "Epoch 105/400\n",
            "49408/50029 [============================>.] - ETA: 0s - loss: 0.0740WARNING:tensorflow:Reduce LR on plateau conditioned on metric `val_loss` which is not available. Available metrics are: loss,lr\n",
            "50029/50029 [==============================] - 1s 18us/sample - loss: 0.0739\n",
            "Epoch 106/400\n",
            "48000/50029 [===========================>..] - ETA: 0s - loss: 0.0723WARNING:tensorflow:Reduce LR on plateau conditioned on metric `val_loss` which is not available. Available metrics are: loss,lr\n",
            "50029/50029 [==============================] - 1s 17us/sample - loss: 0.0724\n",
            "Epoch 107/400\n",
            "47744/50029 [===========================>..] - ETA: 0s - loss: 0.0737WARNING:tensorflow:Reduce LR on plateau conditioned on metric `val_loss` which is not available. Available metrics are: loss,lr\n",
            "50029/50029 [==============================] - 1s 18us/sample - loss: 0.0736\n",
            "Epoch 108/400\n",
            "49280/50029 [============================>.] - ETA: 0s - loss: 0.0743WARNING:tensorflow:Reduce LR on plateau conditioned on metric `val_loss` which is not available. Available metrics are: loss,lr\n",
            "50029/50029 [==============================] - 1s 18us/sample - loss: 0.0742\n",
            "Epoch 109/400\n",
            "48128/50029 [===========================>..] - ETA: 0s - loss: 0.0737WARNING:tensorflow:Reduce LR on plateau conditioned on metric `val_loss` which is not available. Available metrics are: loss,lr\n",
            "50029/50029 [==============================] - 1s 18us/sample - loss: 0.0736\n",
            "Epoch 110/400\n",
            "48896/50029 [============================>.] - ETA: 0s - loss: 0.0747WARNING:tensorflow:Reduce LR on plateau conditioned on metric `val_loss` which is not available. Available metrics are: loss,lr\n",
            "50029/50029 [==============================] - 1s 18us/sample - loss: 0.0746\n",
            "Epoch 111/400\n",
            "47232/50029 [===========================>..] - ETA: 0s - loss: 0.0737WARNING:tensorflow:Reduce LR on plateau conditioned on metric `val_loss` which is not available. Available metrics are: loss,lr\n",
            "50029/50029 [==============================] - 1s 17us/sample - loss: 0.0738\n",
            "Epoch 112/400\n",
            "49536/50029 [============================>.] - ETA: 0s - loss: 0.0718WARNING:tensorflow:Reduce LR on plateau conditioned on metric `val_loss` which is not available. Available metrics are: loss,lr\n",
            "50029/50029 [==============================] - 1s 18us/sample - loss: 0.0719\n",
            "Epoch 113/400\n",
            "46976/50029 [===========================>..] - ETA: 0s - loss: 0.0735WARNING:tensorflow:Reduce LR on plateau conditioned on metric `val_loss` which is not available. Available metrics are: loss,lr\n",
            "50029/50029 [==============================] - 1s 17us/sample - loss: 0.0734\n",
            "Epoch 114/400\n",
            "48000/50029 [===========================>..] - ETA: 0s - loss: 0.0740WARNING:tensorflow:Reduce LR on plateau conditioned on metric `val_loss` which is not available. Available metrics are: loss,lr\n",
            "50029/50029 [==============================] - 1s 18us/sample - loss: 0.0740\n",
            "Epoch 115/400\n",
            "48896/50029 [============================>.] - ETA: 0s - loss: 0.0720WARNING:tensorflow:Reduce LR on plateau conditioned on metric `val_loss` which is not available. Available metrics are: loss,lr\n",
            "50029/50029 [==============================] - 1s 18us/sample - loss: 0.0720\n",
            "Epoch 116/400\n",
            "48512/50029 [============================>.] - ETA: 0s - loss: 0.0717WARNING:tensorflow:Reduce LR on plateau conditioned on metric `val_loss` which is not available. Available metrics are: loss,lr\n",
            "50029/50029 [==============================] - 1s 18us/sample - loss: 0.0717\n",
            "Epoch 117/400\n",
            "47872/50029 [===========================>..] - ETA: 0s - loss: 0.0711WARNING:tensorflow:Reduce LR on plateau conditioned on metric `val_loss` which is not available. Available metrics are: loss,lr\n",
            "50029/50029 [==============================] - 1s 17us/sample - loss: 0.0714\n",
            "Epoch 118/400\n",
            "48000/50029 [===========================>..] - ETA: 0s - loss: 0.0729WARNING:tensorflow:Reduce LR on plateau conditioned on metric `val_loss` which is not available. Available metrics are: loss,lr\n",
            "50029/50029 [==============================] - 1s 18us/sample - loss: 0.0727\n",
            "Epoch 119/400\n",
            "48256/50029 [===========================>..] - ETA: 0s - loss: 0.0724WARNING:tensorflow:Reduce LR on plateau conditioned on metric `val_loss` which is not available. Available metrics are: loss,lr\n",
            "50029/50029 [==============================] - 1s 17us/sample - loss: 0.0722\n",
            "Epoch 120/400\n",
            "47360/50029 [===========================>..] - ETA: 0s - loss: 0.0717WARNING:tensorflow:Reduce LR on plateau conditioned on metric `val_loss` which is not available. Available metrics are: loss,lr\n",
            "50029/50029 [==============================] - 1s 18us/sample - loss: 0.0716\n",
            "Epoch 121/400\n",
            "48896/50029 [============================>.] - ETA: 0s - loss: 0.0705WARNING:tensorflow:Reduce LR on plateau conditioned on metric `val_loss` which is not available. Available metrics are: loss,lr\n",
            "50029/50029 [==============================] - 1s 18us/sample - loss: 0.0704\n",
            "Epoch 122/400\n",
            "49536/50029 [============================>.] - ETA: 0s - loss: 0.0713WARNING:tensorflow:Reduce LR on plateau conditioned on metric `val_loss` which is not available. Available metrics are: loss,lr\n",
            "50029/50029 [==============================] - 1s 18us/sample - loss: 0.0714\n",
            "Epoch 123/400\n",
            "47104/50029 [===========================>..] - ETA: 0s - loss: 0.0706WARNING:tensorflow:Reduce LR on plateau conditioned on metric `val_loss` which is not available. Available metrics are: loss,lr\n",
            "50029/50029 [==============================] - 1s 18us/sample - loss: 0.0704\n",
            "Epoch 124/400\n",
            "47872/50029 [===========================>..] - ETA: 0s - loss: 0.0725WARNING:tensorflow:Reduce LR on plateau conditioned on metric `val_loss` which is not available. Available metrics are: loss,lr\n",
            "50029/50029 [==============================] - 1s 18us/sample - loss: 0.0725\n",
            "Epoch 125/400\n",
            "48768/50029 [============================>.] - ETA: 0s - loss: 0.0695WARNING:tensorflow:Reduce LR on plateau conditioned on metric `val_loss` which is not available. Available metrics are: loss,lr\n",
            "50029/50029 [==============================] - 1s 18us/sample - loss: 0.0695\n",
            "Epoch 126/400\n",
            "48512/50029 [============================>.] - ETA: 0s - loss: 0.0715WARNING:tensorflow:Reduce LR on plateau conditioned on metric `val_loss` which is not available. Available metrics are: loss,lr\n",
            "50029/50029 [==============================] - 1s 18us/sample - loss: 0.0715\n",
            "Epoch 127/400\n",
            "47488/50029 [===========================>..] - ETA: 0s - loss: 0.0706WARNING:tensorflow:Reduce LR on plateau conditioned on metric `val_loss` which is not available. Available metrics are: loss,lr\n",
            "50029/50029 [==============================] - 1s 18us/sample - loss: 0.0706\n",
            "Epoch 128/400\n",
            "48512/50029 [============================>.] - ETA: 0s - loss: 0.0702WARNING:tensorflow:Reduce LR on plateau conditioned on metric `val_loss` which is not available. Available metrics are: loss,lr\n",
            "50029/50029 [==============================] - 1s 18us/sample - loss: 0.0703\n",
            "Epoch 129/400\n",
            "49024/50029 [============================>.] - ETA: 0s - loss: 0.0689WARNING:tensorflow:Reduce LR on plateau conditioned on metric `val_loss` which is not available. Available metrics are: loss,lr\n",
            "50029/50029 [==============================] - 1s 18us/sample - loss: 0.0690\n",
            "Epoch 130/400\n",
            "48896/50029 [============================>.] - ETA: 0s - loss: 0.0697WARNING:tensorflow:Reduce LR on plateau conditioned on metric `val_loss` which is not available. Available metrics are: loss,lr\n",
            "50029/50029 [==============================] - 1s 18us/sample - loss: 0.0697\n",
            "Epoch 131/400\n",
            "48512/50029 [============================>.] - ETA: 0s - loss: 0.0686WARNING:tensorflow:Reduce LR on plateau conditioned on metric `val_loss` which is not available. Available metrics are: loss,lr\n",
            "50029/50029 [==============================] - 1s 18us/sample - loss: 0.0687\n",
            "Epoch 132/400\n",
            "47744/50029 [===========================>..] - ETA: 0s - loss: 0.0704WARNING:tensorflow:Reduce LR on plateau conditioned on metric `val_loss` which is not available. Available metrics are: loss,lr\n",
            "50029/50029 [==============================] - 1s 17us/sample - loss: 0.0705\n",
            "Epoch 133/400\n",
            "48896/50029 [============================>.] - ETA: 0s - loss: 0.0695WARNING:tensorflow:Reduce LR on plateau conditioned on metric `val_loss` which is not available. Available metrics are: loss,lr\n",
            "50029/50029 [==============================] - 1s 18us/sample - loss: 0.0694\n",
            "Epoch 134/400\n",
            "49920/50029 [============================>.] - ETA: 0s - loss: 0.0686WARNING:tensorflow:Reduce LR on plateau conditioned on metric `val_loss` which is not available. Available metrics are: loss,lr\n",
            "50029/50029 [==============================] - 1s 18us/sample - loss: 0.0686\n",
            "Epoch 135/400\n",
            "49664/50029 [============================>.] - ETA: 0s - loss: 0.0678WARNING:tensorflow:Reduce LR on plateau conditioned on metric `val_loss` which is not available. Available metrics are: loss,lr\n",
            "50029/50029 [==============================] - 1s 19us/sample - loss: 0.0678\n",
            "Epoch 136/400\n",
            "49920/50029 [============================>.] - ETA: 0s - loss: 0.0687WARNING:tensorflow:Reduce LR on plateau conditioned on metric `val_loss` which is not available. Available metrics are: loss,lr\n",
            "50029/50029 [==============================] - 1s 19us/sample - loss: 0.0688\n",
            "Epoch 137/400\n",
            "48128/50029 [===========================>..] - ETA: 0s - loss: 0.0676WARNING:tensorflow:Reduce LR on plateau conditioned on metric `val_loss` which is not available. Available metrics are: loss,lr\n",
            "50029/50029 [==============================] - 1s 18us/sample - loss: 0.0677\n",
            "Epoch 138/400\n",
            "49024/50029 [============================>.] - ETA: 0s - loss: 0.0681WARNING:tensorflow:Reduce LR on plateau conditioned on metric `val_loss` which is not available. Available metrics are: loss,lr\n",
            "50029/50029 [==============================] - 1s 18us/sample - loss: 0.0681\n",
            "Epoch 139/400\n",
            "48256/50029 [===========================>..] - ETA: 0s - loss: 0.0681WARNING:tensorflow:Reduce LR on plateau conditioned on metric `val_loss` which is not available. Available metrics are: loss,lr\n",
            "50029/50029 [==============================] - 1s 17us/sample - loss: 0.0683\n",
            "Epoch 140/400\n",
            "47488/50029 [===========================>..] - ETA: 0s - loss: 0.0697WARNING:tensorflow:Reduce LR on plateau conditioned on metric `val_loss` which is not available. Available metrics are: loss,lr\n",
            "50029/50029 [==============================] - 1s 17us/sample - loss: 0.0696\n",
            "Epoch 141/400\n",
            "48768/50029 [============================>.] - ETA: 0s - loss: 0.0677WARNING:tensorflow:Reduce LR on plateau conditioned on metric `val_loss` which is not available. Available metrics are: loss,lr\n",
            "50029/50029 [==============================] - 1s 18us/sample - loss: 0.0677\n",
            "Epoch 142/400\n",
            "49920/50029 [============================>.] - ETA: 0s - loss: 0.0685WARNING:tensorflow:Reduce LR on plateau conditioned on metric `val_loss` which is not available. Available metrics are: loss,lr\n",
            "50029/50029 [==============================] - 1s 18us/sample - loss: 0.0685\n",
            "Epoch 143/400\n",
            "47616/50029 [===========================>..] - ETA: 0s - loss: 0.0670WARNING:tensorflow:Reduce LR on plateau conditioned on metric `val_loss` which is not available. Available metrics are: loss,lr\n",
            "50029/50029 [==============================] - 1s 18us/sample - loss: 0.0672\n",
            "Epoch 144/400\n",
            "47488/50029 [===========================>..] - ETA: 0s - loss: 0.0685WARNING:tensorflow:Reduce LR on plateau conditioned on metric `val_loss` which is not available. Available metrics are: loss,lr\n",
            "50029/50029 [==============================] - 1s 17us/sample - loss: 0.0684\n",
            "Epoch 145/400\n",
            "47872/50029 [===========================>..] - ETA: 0s - loss: 0.0668WARNING:tensorflow:Reduce LR on plateau conditioned on metric `val_loss` which is not available. Available metrics are: loss,lr\n",
            "50029/50029 [==============================] - 1s 17us/sample - loss: 0.0674\n",
            "Epoch 146/400\n",
            "49536/50029 [============================>.] - ETA: 0s - loss: 0.0683WARNING:tensorflow:Reduce LR on plateau conditioned on metric `val_loss` which is not available. Available metrics are: loss,lr\n",
            "50029/50029 [==============================] - 1s 18us/sample - loss: 0.0683\n",
            "Epoch 147/400\n",
            "47360/50029 [===========================>..] - ETA: 0s - loss: 0.0670WARNING:tensorflow:Reduce LR on plateau conditioned on metric `val_loss` which is not available. Available metrics are: loss,lr\n",
            "50029/50029 [==============================] - 1s 18us/sample - loss: 0.0672\n",
            "Epoch 148/400\n",
            "47488/50029 [===========================>..] - ETA: 0s - loss: 0.0670WARNING:tensorflow:Reduce LR on plateau conditioned on metric `val_loss` which is not available. Available metrics are: loss,lr\n",
            "50029/50029 [==============================] - 1s 18us/sample - loss: 0.0671\n",
            "Epoch 149/400\n",
            "48256/50029 [===========================>..] - ETA: 0s - loss: 0.0666WARNING:tensorflow:Reduce LR on plateau conditioned on metric `val_loss` which is not available. Available metrics are: loss,lr\n",
            "50029/50029 [==============================] - 1s 18us/sample - loss: 0.0666\n",
            "Epoch 150/400\n",
            "49024/50029 [============================>.] - ETA: 0s - loss: 0.0666WARNING:tensorflow:Reduce LR on plateau conditioned on metric `val_loss` which is not available. Available metrics are: loss,lr\n",
            "50029/50029 [==============================] - 1s 18us/sample - loss: 0.0667\n",
            "Epoch 151/400\n",
            "47488/50029 [===========================>..] - ETA: 0s - loss: 0.0666WARNING:tensorflow:Reduce LR on plateau conditioned on metric `val_loss` which is not available. Available metrics are: loss,lr\n",
            "50029/50029 [==============================] - 1s 17us/sample - loss: 0.0669\n",
            "Epoch 152/400\n",
            "47744/50029 [===========================>..] - ETA: 0s - loss: 0.0661WARNING:tensorflow:Reduce LR on plateau conditioned on metric `val_loss` which is not available. Available metrics are: loss,lr\n",
            "50029/50029 [==============================] - 1s 17us/sample - loss: 0.0663\n",
            "Epoch 153/400\n",
            "47360/50029 [===========================>..] - ETA: 0s - loss: 0.0649WARNING:tensorflow:Reduce LR on plateau conditioned on metric `val_loss` which is not available. Available metrics are: loss,lr\n",
            "50029/50029 [==============================] - 1s 18us/sample - loss: 0.0651\n",
            "Epoch 154/400\n",
            "47232/50029 [===========================>..] - ETA: 0s - loss: 0.0661WARNING:tensorflow:Reduce LR on plateau conditioned on metric `val_loss` which is not available. Available metrics are: loss,lr\n",
            "50029/50029 [==============================] - 1s 18us/sample - loss: 0.0661\n",
            "Epoch 155/400\n",
            "49152/50029 [============================>.] - ETA: 0s - loss: 0.0645WARNING:tensorflow:Reduce LR on plateau conditioned on metric `val_loss` which is not available. Available metrics are: loss,lr\n",
            "50029/50029 [==============================] - 1s 18us/sample - loss: 0.0646\n",
            "Epoch 156/400\n",
            "49152/50029 [============================>.] - ETA: 0s - loss: 0.0678WARNING:tensorflow:Reduce LR on plateau conditioned on metric `val_loss` which is not available. Available metrics are: loss,lr\n",
            "50029/50029 [==============================] - 1s 18us/sample - loss: 0.0678\n",
            "Epoch 157/400\n",
            "48128/50029 [===========================>..] - ETA: 0s - loss: 0.0655WARNING:tensorflow:Reduce LR on plateau conditioned on metric `val_loss` which is not available. Available metrics are: loss,lr\n",
            "50029/50029 [==============================] - 1s 18us/sample - loss: 0.0662\n",
            "Epoch 158/400\n",
            "49792/50029 [============================>.] - ETA: 0s - loss: 0.0649WARNING:tensorflow:Reduce LR on plateau conditioned on metric `val_loss` which is not available. Available metrics are: loss,lr\n",
            "50029/50029 [==============================] - 1s 18us/sample - loss: 0.0649\n",
            "Epoch 159/400\n",
            "49664/50029 [============================>.] - ETA: 0s - loss: 0.0659WARNING:tensorflow:Reduce LR on plateau conditioned on metric `val_loss` which is not available. Available metrics are: loss,lr\n",
            "50029/50029 [==============================] - 1s 19us/sample - loss: 0.0660\n",
            "Epoch 160/400\n",
            "48896/50029 [============================>.] - ETA: 0s - loss: 0.0669WARNING:tensorflow:Reduce LR on plateau conditioned on metric `val_loss` which is not available. Available metrics are: loss,lr\n",
            "50029/50029 [==============================] - 1s 18us/sample - loss: 0.0668\n",
            "Epoch 161/400\n",
            "47488/50029 [===========================>..] - ETA: 0s - loss: 0.0670WARNING:tensorflow:Reduce LR on plateau conditioned on metric `val_loss` which is not available. Available metrics are: loss,lr\n",
            "50029/50029 [==============================] - 1s 17us/sample - loss: 0.0669\n",
            "Epoch 162/400\n",
            "49664/50029 [============================>.] - ETA: 0s - loss: 0.0669WARNING:tensorflow:Reduce LR on plateau conditioned on metric `val_loss` which is not available. Available metrics are: loss,lr\n",
            "50029/50029 [==============================] - 1s 18us/sample - loss: 0.0670\n",
            "Epoch 163/400\n",
            "49024/50029 [============================>.] - ETA: 0s - loss: 0.0662WARNING:tensorflow:Reduce LR on plateau conditioned on metric `val_loss` which is not available. Available metrics are: loss,lr\n",
            "50029/50029 [==============================] - 1s 18us/sample - loss: 0.0662\n",
            "Epoch 164/400\n",
            "49024/50029 [============================>.] - ETA: 0s - loss: 0.0649WARNING:tensorflow:Reduce LR on plateau conditioned on metric `val_loss` which is not available. Available metrics are: loss,lr\n",
            "50029/50029 [==============================] - 1s 18us/sample - loss: 0.0649\n",
            "Epoch 165/400\n",
            "48128/50029 [===========================>..] - ETA: 0s - loss: 0.0650WARNING:tensorflow:Reduce LR on plateau conditioned on metric `val_loss` which is not available. Available metrics are: loss,lr\n",
            "50029/50029 [==============================] - 1s 18us/sample - loss: 0.0650\n",
            "Epoch 166/400\n",
            "49536/50029 [============================>.] - ETA: 0s - loss: 0.0658WARNING:tensorflow:Reduce LR on plateau conditioned on metric `val_loss` which is not available. Available metrics are: loss,lr\n",
            "50029/50029 [==============================] - 1s 18us/sample - loss: 0.0659\n",
            "Epoch 167/400\n",
            "48768/50029 [============================>.] - ETA: 0s - loss: 0.0646WARNING:tensorflow:Reduce LR on plateau conditioned on metric `val_loss` which is not available. Available metrics are: loss,lr\n",
            "50029/50029 [==============================] - 1s 18us/sample - loss: 0.0646\n",
            "Epoch 168/400\n",
            "49280/50029 [============================>.] - ETA: 0s - loss: 0.0646WARNING:tensorflow:Reduce LR on plateau conditioned on metric `val_loss` which is not available. Available metrics are: loss,lr\n",
            "50029/50029 [==============================] - 1s 18us/sample - loss: 0.0647\n",
            "Epoch 169/400\n",
            "47872/50029 [===========================>..] - ETA: 0s - loss: 0.0644WARNING:tensorflow:Reduce LR on plateau conditioned on metric `val_loss` which is not available. Available metrics are: loss,lr\n",
            "50029/50029 [==============================] - 1s 18us/sample - loss: 0.0643\n",
            "Epoch 170/400\n",
            "48640/50029 [============================>.] - ETA: 0s - loss: 0.0646WARNING:tensorflow:Reduce LR on plateau conditioned on metric `val_loss` which is not available. Available metrics are: loss,lr\n",
            "50029/50029 [==============================] - 1s 18us/sample - loss: 0.0645\n",
            "Epoch 171/400\n",
            "49920/50029 [============================>.] - ETA: 0s - loss: 0.0631WARNING:tensorflow:Reduce LR on plateau conditioned on metric `val_loss` which is not available. Available metrics are: loss,lr\n",
            "50029/50029 [==============================] - 1s 19us/sample - loss: 0.0631\n",
            "Epoch 172/400\n",
            "47104/50029 [===========================>..] - ETA: 0s - loss: 0.0638WARNING:tensorflow:Reduce LR on plateau conditioned on metric `val_loss` which is not available. Available metrics are: loss,lr\n",
            "50029/50029 [==============================] - 1s 18us/sample - loss: 0.0637\n",
            "Epoch 173/400\n",
            "49536/50029 [============================>.] - ETA: 0s - loss: 0.0654WARNING:tensorflow:Reduce LR on plateau conditioned on metric `val_loss` which is not available. Available metrics are: loss,lr\n",
            "50029/50029 [==============================] - 1s 18us/sample - loss: 0.0653\n",
            "Epoch 174/400\n",
            "48512/50029 [============================>.] - ETA: 0s - loss: 0.0645WARNING:tensorflow:Reduce LR on plateau conditioned on metric `val_loss` which is not available. Available metrics are: loss,lr\n",
            "50029/50029 [==============================] - 1s 18us/sample - loss: 0.0645\n",
            "Epoch 175/400\n",
            "47488/50029 [===========================>..] - ETA: 0s - loss: 0.0625WARNING:tensorflow:Reduce LR on plateau conditioned on metric `val_loss` which is not available. Available metrics are: loss,lr\n",
            "50029/50029 [==============================] - 1s 17us/sample - loss: 0.0625\n",
            "Epoch 176/400\n",
            "48768/50029 [============================>.] - ETA: 0s - loss: 0.0634WARNING:tensorflow:Reduce LR on plateau conditioned on metric `val_loss` which is not available. Available metrics are: loss,lr\n",
            "50029/50029 [==============================] - 1s 18us/sample - loss: 0.0633\n",
            "Epoch 177/400\n",
            "47744/50029 [===========================>..] - ETA: 0s - loss: 0.0645WARNING:tensorflow:Reduce LR on plateau conditioned on metric `val_loss` which is not available. Available metrics are: loss,lr\n",
            "50029/50029 [==============================] - 1s 17us/sample - loss: 0.0646\n",
            "Epoch 178/400\n",
            "49408/50029 [============================>.] - ETA: 0s - loss: 0.0630WARNING:tensorflow:Reduce LR on plateau conditioned on metric `val_loss` which is not available. Available metrics are: loss,lr\n",
            "50029/50029 [==============================] - 1s 18us/sample - loss: 0.0630\n",
            "Epoch 179/400\n",
            "49536/50029 [============================>.] - ETA: 0s - loss: 0.0633WARNING:tensorflow:Reduce LR on plateau conditioned on metric `val_loss` which is not available. Available metrics are: loss,lr\n",
            "50029/50029 [==============================] - 1s 18us/sample - loss: 0.0633\n",
            "Epoch 180/400\n",
            "48640/50029 [============================>.] - ETA: 0s - loss: 0.0641WARNING:tensorflow:Reduce LR on plateau conditioned on metric `val_loss` which is not available. Available metrics are: loss,lr\n",
            "50029/50029 [==============================] - 1s 18us/sample - loss: 0.0642\n",
            "Epoch 181/400\n",
            "49536/50029 [============================>.] - ETA: 0s - loss: 0.0635WARNING:tensorflow:Reduce LR on plateau conditioned on metric `val_loss` which is not available. Available metrics are: loss,lr\n",
            "50029/50029 [==============================] - 1s 18us/sample - loss: 0.0635\n",
            "Epoch 182/400\n",
            "47744/50029 [===========================>..] - ETA: 0s - loss: 0.0630WARNING:tensorflow:Reduce LR on plateau conditioned on metric `val_loss` which is not available. Available metrics are: loss,lr\n",
            "50029/50029 [==============================] - 1s 17us/sample - loss: 0.0629\n",
            "Epoch 183/400\n",
            "47232/50029 [===========================>..] - ETA: 0s - loss: 0.0639WARNING:tensorflow:Reduce LR on plateau conditioned on metric `val_loss` which is not available. Available metrics are: loss,lr\n",
            "50029/50029 [==============================] - 1s 18us/sample - loss: 0.0637\n",
            "Epoch 184/400\n",
            "49792/50029 [============================>.] - ETA: 0s - loss: 0.0619WARNING:tensorflow:Reduce LR on plateau conditioned on metric `val_loss` which is not available. Available metrics are: loss,lr\n",
            "50029/50029 [==============================] - 1s 18us/sample - loss: 0.0620\n",
            "Epoch 185/400\n",
            "48640/50029 [============================>.] - ETA: 0s - loss: 0.0629WARNING:tensorflow:Reduce LR on plateau conditioned on metric `val_loss` which is not available. Available metrics are: loss,lr\n",
            "50029/50029 [==============================] - 1s 18us/sample - loss: 0.0628\n",
            "Epoch 186/400\n",
            "47488/50029 [===========================>..] - ETA: 0s - loss: 0.0627WARNING:tensorflow:Reduce LR on plateau conditioned on metric `val_loss` which is not available. Available metrics are: loss,lr\n",
            "50029/50029 [==============================] - 1s 17us/sample - loss: 0.0627\n",
            "Epoch 187/400\n",
            "49280/50029 [============================>.] - ETA: 0s - loss: 0.0630WARNING:tensorflow:Reduce LR on plateau conditioned on metric `val_loss` which is not available. Available metrics are: loss,lr\n",
            "50029/50029 [==============================] - 1s 19us/sample - loss: 0.0630\n",
            "Epoch 188/400\n",
            "47744/50029 [===========================>..] - ETA: 0s - loss: 0.0625WARNING:tensorflow:Reduce LR on plateau conditioned on metric `val_loss` which is not available. Available metrics are: loss,lr\n",
            "50029/50029 [==============================] - 1s 17us/sample - loss: 0.0625\n",
            "Epoch 189/400\n",
            "47616/50029 [===========================>..] - ETA: 0s - loss: 0.0623WARNING:tensorflow:Reduce LR on plateau conditioned on metric `val_loss` which is not available. Available metrics are: loss,lr\n",
            "50029/50029 [==============================] - 1s 17us/sample - loss: 0.0625\n",
            "Epoch 190/400\n",
            "49536/50029 [============================>.] - ETA: 0s - loss: 0.0619WARNING:tensorflow:Reduce LR on plateau conditioned on metric `val_loss` which is not available. Available metrics are: loss,lr\n",
            "50029/50029 [==============================] - 1s 18us/sample - loss: 0.0619\n",
            "Epoch 191/400\n",
            "49152/50029 [============================>.] - ETA: 0s - loss: 0.0612WARNING:tensorflow:Reduce LR on plateau conditioned on metric `val_loss` which is not available. Available metrics are: loss,lr\n",
            "50029/50029 [==============================] - 1s 18us/sample - loss: 0.0612\n",
            "Epoch 192/400\n",
            "49920/50029 [============================>.] - ETA: 0s - loss: 0.0619WARNING:tensorflow:Reduce LR on plateau conditioned on metric `val_loss` which is not available. Available metrics are: loss,lr\n",
            "50029/50029 [==============================] - 1s 18us/sample - loss: 0.0619\n",
            "Epoch 193/400\n",
            "48640/50029 [============================>.] - ETA: 0s - loss: 0.0624WARNING:tensorflow:Reduce LR on plateau conditioned on metric `val_loss` which is not available. Available metrics are: loss,lr\n",
            "50029/50029 [==============================] - 1s 18us/sample - loss: 0.0624\n",
            "Epoch 194/400\n",
            "47616/50029 [===========================>..] - ETA: 0s - loss: 0.0616WARNING:tensorflow:Reduce LR on plateau conditioned on metric `val_loss` which is not available. Available metrics are: loss,lr\n",
            "50029/50029 [==============================] - 1s 18us/sample - loss: 0.0621\n",
            "Epoch 195/400\n",
            "49536/50029 [============================>.] - ETA: 0s - loss: 0.0612WARNING:tensorflow:Reduce LR on plateau conditioned on metric `val_loss` which is not available. Available metrics are: loss,lr\n",
            "50029/50029 [==============================] - 1s 18us/sample - loss: 0.0612\n",
            "Epoch 196/400\n",
            "48512/50029 [============================>.] - ETA: 0s - loss: 0.0610WARNING:tensorflow:Reduce LR on plateau conditioned on metric `val_loss` which is not available. Available metrics are: loss,lr\n",
            "50029/50029 [==============================] - 1s 18us/sample - loss: 0.0610\n",
            "Epoch 197/400\n",
            "47360/50029 [===========================>..] - ETA: 0s - loss: 0.0622WARNING:tensorflow:Reduce LR on plateau conditioned on metric `val_loss` which is not available. Available metrics are: loss,lr\n",
            "50029/50029 [==============================] - 1s 17us/sample - loss: 0.0621\n",
            "Epoch 198/400\n",
            "49664/50029 [============================>.] - ETA: 0s - loss: 0.0607WARNING:tensorflow:Reduce LR on plateau conditioned on metric `val_loss` which is not available. Available metrics are: loss,lr\n",
            "50029/50029 [==============================] - 1s 18us/sample - loss: 0.0608\n",
            "Epoch 199/400\n",
            "48000/50029 [===========================>..] - ETA: 0s - loss: 0.0624WARNING:tensorflow:Reduce LR on plateau conditioned on metric `val_loss` which is not available. Available metrics are: loss,lr\n",
            "50029/50029 [==============================] - 1s 17us/sample - loss: 0.0626\n",
            "Epoch 200/400\n",
            "49536/50029 [============================>.] - ETA: 0s - loss: 0.0618WARNING:tensorflow:Reduce LR on plateau conditioned on metric `val_loss` which is not available. Available metrics are: loss,lr\n",
            "50029/50029 [==============================] - 1s 18us/sample - loss: 0.0618\n",
            "Epoch 201/400\n",
            "47360/50029 [===========================>..] - ETA: 0s - loss: 0.0616WARNING:tensorflow:Reduce LR on plateau conditioned on metric `val_loss` which is not available. Available metrics are: loss,lr\n",
            "50029/50029 [==============================] - 1s 17us/sample - loss: 0.0615\n",
            "Epoch 202/400\n",
            "49408/50029 [============================>.] - ETA: 0s - loss: 0.0605WARNING:tensorflow:Reduce LR on plateau conditioned on metric `val_loss` which is not available. Available metrics are: loss,lr\n",
            "50029/50029 [==============================] - 1s 18us/sample - loss: 0.0606\n",
            "Epoch 203/400\n",
            "47744/50029 [===========================>..] - ETA: 0s - loss: 0.0617WARNING:tensorflow:Reduce LR on plateau conditioned on metric `val_loss` which is not available. Available metrics are: loss,lr\n",
            "50029/50029 [==============================] - 1s 18us/sample - loss: 0.0615\n",
            "Epoch 204/400\n",
            "47104/50029 [===========================>..] - ETA: 0s - loss: 0.0618WARNING:tensorflow:Reduce LR on plateau conditioned on metric `val_loss` which is not available. Available metrics are: loss,lr\n",
            "50029/50029 [==============================] - 1s 17us/sample - loss: 0.0622\n",
            "Epoch 205/400\n",
            "48768/50029 [============================>.] - ETA: 0s - loss: 0.0613WARNING:tensorflow:Reduce LR on plateau conditioned on metric `val_loss` which is not available. Available metrics are: loss,lr\n",
            "50029/50029 [==============================] - 1s 18us/sample - loss: 0.0613\n",
            "Epoch 206/400\n",
            "48640/50029 [============================>.] - ETA: 0s - loss: 0.0609WARNING:tensorflow:Reduce LR on plateau conditioned on metric `val_loss` which is not available. Available metrics are: loss,lr\n",
            "50029/50029 [==============================] - 1s 18us/sample - loss: 0.0608\n",
            "Epoch 207/400\n",
            "47872/50029 [===========================>..] - ETA: 0s - loss: 0.0597WARNING:tensorflow:Reduce LR on plateau conditioned on metric `val_loss` which is not available. Available metrics are: loss,lr\n",
            "50029/50029 [==============================] - 1s 17us/sample - loss: 0.0599\n",
            "Epoch 208/400\n",
            "48128/50029 [===========================>..] - ETA: 0s - loss: 0.0621WARNING:tensorflow:Reduce LR on plateau conditioned on metric `val_loss` which is not available. Available metrics are: loss,lr\n",
            "50029/50029 [==============================] - 1s 17us/sample - loss: 0.0618\n",
            "Epoch 209/400\n",
            "49920/50029 [============================>.] - ETA: 0s - loss: 0.0611WARNING:tensorflow:Reduce LR on plateau conditioned on metric `val_loss` which is not available. Available metrics are: loss,lr\n",
            "50029/50029 [==============================] - 1s 18us/sample - loss: 0.0611\n",
            "Epoch 210/400\n",
            "48896/50029 [============================>.] - ETA: 0s - loss: 0.0608WARNING:tensorflow:Reduce LR on plateau conditioned on metric `val_loss` which is not available. Available metrics are: loss,lr\n",
            "50029/50029 [==============================] - 1s 18us/sample - loss: 0.0607\n",
            "Epoch 211/400\n",
            "48512/50029 [============================>.] - ETA: 0s - loss: 0.0600WARNING:tensorflow:Reduce LR on plateau conditioned on metric `val_loss` which is not available. Available metrics are: loss,lr\n",
            "50029/50029 [==============================] - 1s 18us/sample - loss: 0.0600\n",
            "Epoch 212/400\n",
            "47744/50029 [===========================>..] - ETA: 0s - loss: 0.0598WARNING:tensorflow:Reduce LR on plateau conditioned on metric `val_loss` which is not available. Available metrics are: loss,lr\n",
            "50029/50029 [==============================] - 1s 17us/sample - loss: 0.0599\n",
            "Epoch 213/400\n",
            "47360/50029 [===========================>..] - ETA: 0s - loss: 0.0607WARNING:tensorflow:Reduce LR on plateau conditioned on metric `val_loss` which is not available. Available metrics are: loss,lr\n",
            "50029/50029 [==============================] - 1s 17us/sample - loss: 0.0610\n",
            "Epoch 214/400\n",
            "48640/50029 [============================>.] - ETA: 0s - loss: 0.0602WARNING:tensorflow:Reduce LR on plateau conditioned on metric `val_loss` which is not available. Available metrics are: loss,lr\n",
            "50029/50029 [==============================] - 1s 18us/sample - loss: 0.0601\n",
            "Epoch 215/400\n",
            "47104/50029 [===========================>..] - ETA: 0s - loss: 0.0606WARNING:tensorflow:Reduce LR on plateau conditioned on metric `val_loss` which is not available. Available metrics are: loss,lr\n",
            "50029/50029 [==============================] - 1s 18us/sample - loss: 0.0608\n",
            "Epoch 216/400\n",
            "49024/50029 [============================>.] - ETA: 0s - loss: 0.0604WARNING:tensorflow:Reduce LR on plateau conditioned on metric `val_loss` which is not available. Available metrics are: loss,lr\n",
            "50029/50029 [==============================] - 1s 17us/sample - loss: 0.0603\n",
            "Epoch 217/400\n",
            "49536/50029 [============================>.] - ETA: 0s - loss: 0.0604WARNING:tensorflow:Reduce LR on plateau conditioned on metric `val_loss` which is not available. Available metrics are: loss,lr\n",
            "50029/50029 [==============================] - 1s 18us/sample - loss: 0.0604\n",
            "Epoch 218/400\n",
            "48384/50029 [============================>.] - ETA: 0s - loss: 0.0599WARNING:tensorflow:Reduce LR on plateau conditioned on metric `val_loss` which is not available. Available metrics are: loss,lr\n",
            "50029/50029 [==============================] - 1s 18us/sample - loss: 0.0599\n",
            "Epoch 219/400\n",
            "47872/50029 [===========================>..] - ETA: 0s - loss: 0.0605WARNING:tensorflow:Reduce LR on plateau conditioned on metric `val_loss` which is not available. Available metrics are: loss,lr\n",
            "50029/50029 [==============================] - 1s 17us/sample - loss: 0.0605\n",
            "Epoch 220/400\n",
            "47360/50029 [===========================>..] - ETA: 0s - loss: 0.0584WARNING:tensorflow:Reduce LR on plateau conditioned on metric `val_loss` which is not available. Available metrics are: loss,lr\n",
            "50029/50029 [==============================] - 1s 17us/sample - loss: 0.0585\n",
            "Epoch 221/400\n",
            "49664/50029 [============================>.] - ETA: 0s - loss: 0.0593WARNING:tensorflow:Reduce LR on plateau conditioned on metric `val_loss` which is not available. Available metrics are: loss,lr\n",
            "50029/50029 [==============================] - 1s 18us/sample - loss: 0.0594\n",
            "Epoch 222/400\n",
            "48128/50029 [===========================>..] - ETA: 0s - loss: 0.0599WARNING:tensorflow:Reduce LR on plateau conditioned on metric `val_loss` which is not available. Available metrics are: loss,lr\n",
            "50029/50029 [==============================] - 1s 17us/sample - loss: 0.0599\n",
            "Epoch 223/400\n",
            "47104/50029 [===========================>..] - ETA: 0s - loss: 0.0595WARNING:tensorflow:Reduce LR on plateau conditioned on metric `val_loss` which is not available. Available metrics are: loss,lr\n",
            "50029/50029 [==============================] - 1s 18us/sample - loss: 0.0600\n",
            "Epoch 224/400\n",
            "47488/50029 [===========================>..] - ETA: 0s - loss: 0.0600WARNING:tensorflow:Reduce LR on plateau conditioned on metric `val_loss` which is not available. Available metrics are: loss,lr\n",
            "50029/50029 [==============================] - 1s 17us/sample - loss: 0.0601\n",
            "Epoch 225/400\n",
            "47872/50029 [===========================>..] - ETA: 0s - loss: 0.0601WARNING:tensorflow:Reduce LR on plateau conditioned on metric `val_loss` which is not available. Available metrics are: loss,lr\n",
            "50029/50029 [==============================] - 1s 18us/sample - loss: 0.0603\n",
            "Epoch 226/400\n",
            "49408/50029 [============================>.] - ETA: 0s - loss: 0.0590WARNING:tensorflow:Reduce LR on plateau conditioned on metric `val_loss` which is not available. Available metrics are: loss,lr\n",
            "50029/50029 [==============================] - 1s 18us/sample - loss: 0.0591\n",
            "Epoch 227/400\n",
            "47488/50029 [===========================>..] - ETA: 0s - loss: 0.0595WARNING:tensorflow:Reduce LR on plateau conditioned on metric `val_loss` which is not available. Available metrics are: loss,lr\n",
            "50029/50029 [==============================] - 1s 17us/sample - loss: 0.0597\n",
            "Epoch 228/400\n",
            "49280/50029 [============================>.] - ETA: 0s - loss: 0.0588WARNING:tensorflow:Reduce LR on plateau conditioned on metric `val_loss` which is not available. Available metrics are: loss,lr\n",
            "50029/50029 [==============================] - 1s 18us/sample - loss: 0.0589\n",
            "Epoch 229/400\n",
            "49920/50029 [============================>.] - ETA: 0s - loss: 0.0590WARNING:tensorflow:Reduce LR on plateau conditioned on metric `val_loss` which is not available. Available metrics are: loss,lr\n",
            "50029/50029 [==============================] - 1s 17us/sample - loss: 0.0590\n",
            "Epoch 230/400\n",
            "49920/50029 [============================>.] - ETA: 0s - loss: 0.0599WARNING:tensorflow:Reduce LR on plateau conditioned on metric `val_loss` which is not available. Available metrics are: loss,lr\n",
            "50029/50029 [==============================] - 1s 19us/sample - loss: 0.0600\n",
            "Epoch 231/400\n",
            "48000/50029 [===========================>..] - ETA: 0s - loss: 0.0601WARNING:tensorflow:Reduce LR on plateau conditioned on metric `val_loss` which is not available. Available metrics are: loss,lr\n",
            "50029/50029 [==============================] - 1s 17us/sample - loss: 0.0601\n",
            "Epoch 232/400\n",
            "47872/50029 [===========================>..] - ETA: 0s - loss: 0.0582WARNING:tensorflow:Reduce LR on plateau conditioned on metric `val_loss` which is not available. Available metrics are: loss,lr\n",
            "50029/50029 [==============================] - 1s 18us/sample - loss: 0.0583\n",
            "Epoch 233/400\n",
            "46976/50029 [===========================>..] - ETA: 0s - loss: 0.0605WARNING:tensorflow:Reduce LR on plateau conditioned on metric `val_loss` which is not available. Available metrics are: loss,lr\n",
            "50029/50029 [==============================] - 1s 17us/sample - loss: 0.0605\n",
            "Epoch 234/400\n",
            "48000/50029 [===========================>..] - ETA: 0s - loss: 0.0573WARNING:tensorflow:Reduce LR on plateau conditioned on metric `val_loss` which is not available. Available metrics are: loss,lr\n",
            "50029/50029 [==============================] - 1s 17us/sample - loss: 0.0573\n",
            "Epoch 235/400\n",
            "48000/50029 [===========================>..] - ETA: 0s - loss: 0.0595WARNING:tensorflow:Reduce LR on plateau conditioned on metric `val_loss` which is not available. Available metrics are: loss,lr\n",
            "50029/50029 [==============================] - 1s 17us/sample - loss: 0.0594\n",
            "Epoch 236/400\n",
            "48768/50029 [============================>.] - ETA: 0s - loss: 0.0598WARNING:tensorflow:Reduce LR on plateau conditioned on metric `val_loss` which is not available. Available metrics are: loss,lr\n",
            "50029/50029 [==============================] - 1s 18us/sample - loss: 0.0598\n",
            "Epoch 237/400\n",
            "48640/50029 [============================>.] - ETA: 0s - loss: 0.0586WARNING:tensorflow:Reduce LR on plateau conditioned on metric `val_loss` which is not available. Available metrics are: loss,lr\n",
            "50029/50029 [==============================] - 1s 18us/sample - loss: 0.0587\n",
            "Epoch 238/400\n",
            "49920/50029 [============================>.] - ETA: 0s - loss: 0.0584WARNING:tensorflow:Reduce LR on plateau conditioned on metric `val_loss` which is not available. Available metrics are: loss,lr\n",
            "50029/50029 [==============================] - 1s 18us/sample - loss: 0.0584\n",
            "Epoch 239/400\n",
            "49024/50029 [============================>.] - ETA: 0s - loss: 0.0594WARNING:tensorflow:Reduce LR on plateau conditioned on metric `val_loss` which is not available. Available metrics are: loss,lr\n",
            "50029/50029 [==============================] - 1s 18us/sample - loss: 0.0594\n",
            "Epoch 240/400\n",
            "49408/50029 [============================>.] - ETA: 0s - loss: 0.0584WARNING:tensorflow:Reduce LR on plateau conditioned on metric `val_loss` which is not available. Available metrics are: loss,lr\n",
            "50029/50029 [==============================] - 1s 18us/sample - loss: 0.0584\n",
            "Epoch 241/400\n",
            "49152/50029 [============================>.] - ETA: 0s - loss: 0.0584WARNING:tensorflow:Reduce LR on plateau conditioned on metric `val_loss` which is not available. Available metrics are: loss,lr\n",
            "50029/50029 [==============================] - 1s 18us/sample - loss: 0.0584\n",
            "Epoch 242/400\n",
            "48128/50029 [===========================>..] - ETA: 0s - loss: 0.0585WARNING:tensorflow:Reduce LR on plateau conditioned on metric `val_loss` which is not available. Available metrics are: loss,lr\n",
            "50029/50029 [==============================] - 1s 18us/sample - loss: 0.0585\n",
            "Epoch 243/400\n",
            "49792/50029 [============================>.] - ETA: 0s - loss: 0.0581WARNING:tensorflow:Reduce LR on plateau conditioned on metric `val_loss` which is not available. Available metrics are: loss,lr\n",
            "50029/50029 [==============================] - 1s 18us/sample - loss: 0.0582\n",
            "Epoch 244/400\n",
            "49280/50029 [============================>.] - ETA: 0s - loss: 0.0587WARNING:tensorflow:Reduce LR on plateau conditioned on metric `val_loss` which is not available. Available metrics are: loss,lr\n",
            "50029/50029 [==============================] - 1s 18us/sample - loss: 0.0586\n",
            "Epoch 245/400\n",
            "48896/50029 [============================>.] - ETA: 0s - loss: 0.0590WARNING:tensorflow:Reduce LR on plateau conditioned on metric `val_loss` which is not available. Available metrics are: loss,lr\n",
            "50029/50029 [==============================] - 1s 18us/sample - loss: 0.0590\n",
            "Epoch 246/400\n",
            "49536/50029 [============================>.] - ETA: 0s - loss: 0.0574WARNING:tensorflow:Reduce LR on plateau conditioned on metric `val_loss` which is not available. Available metrics are: loss,lr\n",
            "50029/50029 [==============================] - 1s 18us/sample - loss: 0.0574\n",
            "Epoch 247/400\n",
            "47360/50029 [===========================>..] - ETA: 0s - loss: 0.0581WARNING:tensorflow:Reduce LR on plateau conditioned on metric `val_loss` which is not available. Available metrics are: loss,lr\n",
            "50029/50029 [==============================] - 1s 17us/sample - loss: 0.0582\n",
            "Epoch 248/400\n",
            "47360/50029 [===========================>..] - ETA: 0s - loss: 0.0570WARNING:tensorflow:Reduce LR on plateau conditioned on metric `val_loss` which is not available. Available metrics are: loss,lr\n",
            "50029/50029 [==============================] - 1s 17us/sample - loss: 0.0570\n",
            "Epoch 249/400\n",
            "47744/50029 [===========================>..] - ETA: 0s - loss: 0.0591WARNING:tensorflow:Reduce LR on plateau conditioned on metric `val_loss` which is not available. Available metrics are: loss,lr\n",
            "50029/50029 [==============================] - 1s 17us/sample - loss: 0.0590\n",
            "Epoch 250/400\n",
            "47104/50029 [===========================>..] - ETA: 0s - loss: 0.0577WARNING:tensorflow:Reduce LR on plateau conditioned on metric `val_loss` which is not available. Available metrics are: loss,lr\n",
            "50029/50029 [==============================] - 1s 17us/sample - loss: 0.0581\n",
            "Epoch 251/400\n",
            "49920/50029 [============================>.] - ETA: 0s - loss: 0.0591WARNING:tensorflow:Reduce LR on plateau conditioned on metric `val_loss` which is not available. Available metrics are: loss,lr\n",
            "50029/50029 [==============================] - 1s 18us/sample - loss: 0.0591\n",
            "Epoch 252/400\n",
            "46976/50029 [===========================>..] - ETA: 0s - loss: 0.0570WARNING:tensorflow:Reduce LR on plateau conditioned on metric `val_loss` which is not available. Available metrics are: loss,lr\n",
            "50029/50029 [==============================] - 1s 17us/sample - loss: 0.0569\n",
            "Epoch 253/400\n",
            "48128/50029 [===========================>..] - ETA: 0s - loss: 0.0576WARNING:tensorflow:Reduce LR on plateau conditioned on metric `val_loss` which is not available. Available metrics are: loss,lr\n",
            "50029/50029 [==============================] - 1s 18us/sample - loss: 0.0577\n",
            "Epoch 254/400\n",
            "49408/50029 [============================>.] - ETA: 0s - loss: 0.0576WARNING:tensorflow:Reduce LR on plateau conditioned on metric `val_loss` which is not available. Available metrics are: loss,lr\n",
            "50029/50029 [==============================] - 1s 18us/sample - loss: 0.0577\n",
            "Epoch 255/400\n",
            "47360/50029 [===========================>..] - ETA: 0s - loss: 0.0572WARNING:tensorflow:Reduce LR on plateau conditioned on metric `val_loss` which is not available. Available metrics are: loss,lr\n",
            "50029/50029 [==============================] - 1s 17us/sample - loss: 0.0571\n",
            "Epoch 256/400\n",
            "48512/50029 [============================>.] - ETA: 0s - loss: 0.0568WARNING:tensorflow:Reduce LR on plateau conditioned on metric `val_loss` which is not available. Available metrics are: loss,lr\n",
            "50029/50029 [==============================] - 1s 18us/sample - loss: 0.0570\n",
            "Epoch 257/400\n",
            "49792/50029 [============================>.] - ETA: 0s - loss: 0.0588WARNING:tensorflow:Reduce LR on plateau conditioned on metric `val_loss` which is not available. Available metrics are: loss,lr\n",
            "50029/50029 [==============================] - 1s 18us/sample - loss: 0.0587\n",
            "Epoch 258/400\n",
            "47616/50029 [===========================>..] - ETA: 0s - loss: 0.0565WARNING:tensorflow:Reduce LR on plateau conditioned on metric `val_loss` which is not available. Available metrics are: loss,lr\n",
            "50029/50029 [==============================] - 1s 17us/sample - loss: 0.0567\n",
            "Epoch 259/400\n",
            "49280/50029 [============================>.] - ETA: 0s - loss: 0.0569WARNING:tensorflow:Reduce LR on plateau conditioned on metric `val_loss` which is not available. Available metrics are: loss,lr\n",
            "50029/50029 [==============================] - 1s 18us/sample - loss: 0.0569\n",
            "Epoch 260/400\n",
            "48768/50029 [============================>.] - ETA: 0s - loss: 0.0584WARNING:tensorflow:Reduce LR on plateau conditioned on metric `val_loss` which is not available. Available metrics are: loss,lr\n",
            "50029/50029 [==============================] - 1s 18us/sample - loss: 0.0584\n",
            "Epoch 261/400\n",
            "47872/50029 [===========================>..] - ETA: 0s - loss: 0.0573WARNING:tensorflow:Reduce LR on plateau conditioned on metric `val_loss` which is not available. Available metrics are: loss,lr\n",
            "50029/50029 [==============================] - 1s 17us/sample - loss: 0.0575\n",
            "Epoch 262/400\n",
            "49024/50029 [============================>.] - ETA: 0s - loss: 0.0577WARNING:tensorflow:Reduce LR on plateau conditioned on metric `val_loss` which is not available. Available metrics are: loss,lr\n",
            "50029/50029 [==============================] - 1s 18us/sample - loss: 0.0576\n",
            "Epoch 263/400\n",
            "48384/50029 [============================>.] - ETA: 0s - loss: 0.0566WARNING:tensorflow:Reduce LR on plateau conditioned on metric `val_loss` which is not available. Available metrics are: loss,lr\n",
            "50029/50029 [==============================] - 1s 17us/sample - loss: 0.0570\n",
            "Epoch 264/400\n",
            "49792/50029 [============================>.] - ETA: 0s - loss: 0.0584WARNING:tensorflow:Reduce LR on plateau conditioned on metric `val_loss` which is not available. Available metrics are: loss,lr\n",
            "50029/50029 [==============================] - 1s 18us/sample - loss: 0.0584\n",
            "Epoch 265/400\n",
            "47744/50029 [===========================>..] - ETA: 0s - loss: 0.0565WARNING:tensorflow:Reduce LR on plateau conditioned on metric `val_loss` which is not available. Available metrics are: loss,lr\n",
            "50029/50029 [==============================] - 1s 17us/sample - loss: 0.0566\n",
            "Epoch 266/400\n",
            "48640/50029 [============================>.] - ETA: 0s - loss: 0.0566WARNING:tensorflow:Reduce LR on plateau conditioned on metric `val_loss` which is not available. Available metrics are: loss,lr\n",
            "50029/50029 [==============================] - 1s 18us/sample - loss: 0.0566\n",
            "Epoch 267/400\n",
            "48512/50029 [============================>.] - ETA: 0s - loss: 0.0558WARNING:tensorflow:Reduce LR on plateau conditioned on metric `val_loss` which is not available. Available metrics are: loss,lr\n",
            "50029/50029 [==============================] - 1s 18us/sample - loss: 0.0559\n",
            "Epoch 268/400\n",
            "48640/50029 [============================>.] - ETA: 0s - loss: 0.0570WARNING:tensorflow:Reduce LR on plateau conditioned on metric `val_loss` which is not available. Available metrics are: loss,lr\n",
            "50029/50029 [==============================] - 1s 18us/sample - loss: 0.0570\n",
            "Epoch 269/400\n",
            "48000/50029 [===========================>..] - ETA: 0s - loss: 0.0566WARNING:tensorflow:Reduce LR on plateau conditioned on metric `val_loss` which is not available. Available metrics are: loss,lr\n",
            "50029/50029 [==============================] - 1s 17us/sample - loss: 0.0566\n",
            "Epoch 270/400\n",
            "47872/50029 [===========================>..] - ETA: 0s - loss: 0.0570WARNING:tensorflow:Reduce LR on plateau conditioned on metric `val_loss` which is not available. Available metrics are: loss,lr\n",
            "50029/50029 [==============================] - 1s 18us/sample - loss: 0.0572\n",
            "Epoch 271/400\n",
            "47360/50029 [===========================>..] - ETA: 0s - loss: 0.0580WARNING:tensorflow:Reduce LR on plateau conditioned on metric `val_loss` which is not available. Available metrics are: loss,lr\n",
            "50029/50029 [==============================] - 1s 17us/sample - loss: 0.0581\n",
            "Epoch 272/400\n",
            "48512/50029 [============================>.] - ETA: 0s - loss: 0.0552WARNING:tensorflow:Reduce LR on plateau conditioned on metric `val_loss` which is not available. Available metrics are: loss,lr\n",
            "50029/50029 [==============================] - 1s 17us/sample - loss: 0.0554\n",
            "Epoch 273/400\n",
            "48512/50029 [============================>.] - ETA: 0s - loss: 0.0570WARNING:tensorflow:Reduce LR on plateau conditioned on metric `val_loss` which is not available. Available metrics are: loss,lr\n",
            "50029/50029 [==============================] - 1s 18us/sample - loss: 0.0570\n",
            "Epoch 274/400\n",
            "47744/50029 [===========================>..] - ETA: 0s - loss: 0.0560WARNING:tensorflow:Reduce LR on plateau conditioned on metric `val_loss` which is not available. Available metrics are: loss,lr\n",
            "50029/50029 [==============================] - 1s 17us/sample - loss: 0.0562\n",
            "Epoch 275/400\n",
            "49536/50029 [============================>.] - ETA: 0s - loss: 0.0561WARNING:tensorflow:Reduce LR on plateau conditioned on metric `val_loss` which is not available. Available metrics are: loss,lr\n",
            "50029/50029 [==============================] - 1s 18us/sample - loss: 0.0561\n",
            "Epoch 276/400\n",
            "49024/50029 [============================>.] - ETA: 0s - loss: 0.0555WARNING:tensorflow:Reduce LR on plateau conditioned on metric `val_loss` which is not available. Available metrics are: loss,lr\n",
            "50029/50029 [==============================] - 1s 17us/sample - loss: 0.0557\n",
            "Epoch 277/400\n",
            "48000/50029 [===========================>..] - ETA: 0s - loss: 0.0556WARNING:tensorflow:Reduce LR on plateau conditioned on metric `val_loss` which is not available. Available metrics are: loss,lr\n",
            "50029/50029 [==============================] - 1s 17us/sample - loss: 0.0557\n",
            "Epoch 278/400\n",
            "49408/50029 [============================>.] - ETA: 0s - loss: 0.0570WARNING:tensorflow:Reduce LR on plateau conditioned on metric `val_loss` which is not available. Available metrics are: loss,lr\n",
            "50029/50029 [==============================] - 1s 18us/sample - loss: 0.0571\n",
            "Epoch 279/400\n",
            "47360/50029 [===========================>..] - ETA: 0s - loss: 0.0556WARNING:tensorflow:Reduce LR on plateau conditioned on metric `val_loss` which is not available. Available metrics are: loss,lr\n",
            "50029/50029 [==============================] - 1s 17us/sample - loss: 0.0557\n",
            "Epoch 280/400\n",
            "47488/50029 [===========================>..] - ETA: 0s - loss: 0.0572WARNING:tensorflow:Reduce LR on plateau conditioned on metric `val_loss` which is not available. Available metrics are: loss,lr\n",
            "50029/50029 [==============================] - 1s 17us/sample - loss: 0.0573\n",
            "Epoch 281/400\n",
            "47616/50029 [===========================>..] - ETA: 0s - loss: 0.0551WARNING:tensorflow:Reduce LR on plateau conditioned on metric `val_loss` which is not available. Available metrics are: loss,lr\n",
            "50029/50029 [==============================] - 1s 17us/sample - loss: 0.0551\n",
            "Epoch 282/400\n",
            "47232/50029 [===========================>..] - ETA: 0s - loss: 0.0557WARNING:tensorflow:Reduce LR on plateau conditioned on metric `val_loss` which is not available. Available metrics are: loss,lr\n",
            "50029/50029 [==============================] - 1s 17us/sample - loss: 0.0558\n",
            "Epoch 283/400\n",
            "49024/50029 [============================>.] - ETA: 0s - loss: 0.0557WARNING:tensorflow:Reduce LR on plateau conditioned on metric `val_loss` which is not available. Available metrics are: loss,lr\n",
            "50029/50029 [==============================] - 1s 17us/sample - loss: 0.0558\n",
            "Epoch 284/400\n",
            "49792/50029 [============================>.] - ETA: 0s - loss: 0.0562WARNING:tensorflow:Reduce LR on plateau conditioned on metric `val_loss` which is not available. Available metrics are: loss,lr\n",
            "50029/50029 [==============================] - 1s 18us/sample - loss: 0.0562\n",
            "Epoch 285/400\n",
            "49664/50029 [============================>.] - ETA: 0s - loss: 0.0564WARNING:tensorflow:Reduce LR on plateau conditioned on metric `val_loss` which is not available. Available metrics are: loss,lr\n",
            "50029/50029 [==============================] - 1s 18us/sample - loss: 0.0563\n",
            "Epoch 286/400\n",
            "49792/50029 [============================>.] - ETA: 0s - loss: 0.0554WARNING:tensorflow:Reduce LR on plateau conditioned on metric `val_loss` which is not available. Available metrics are: loss,lr\n",
            "50029/50029 [==============================] - 1s 18us/sample - loss: 0.0554\n",
            "Epoch 287/400\n",
            "47872/50029 [===========================>..] - ETA: 0s - loss: 0.0575WARNING:tensorflow:Reduce LR on plateau conditioned on metric `val_loss` which is not available. Available metrics are: loss,lr\n",
            "50029/50029 [==============================] - 1s 17us/sample - loss: 0.0574\n",
            "Epoch 288/400\n",
            "47872/50029 [===========================>..] - ETA: 0s - loss: 0.0546WARNING:tensorflow:Reduce LR on plateau conditioned on metric `val_loss` which is not available. Available metrics are: loss,lr\n",
            "50029/50029 [==============================] - 1s 17us/sample - loss: 0.0549\n",
            "Epoch 289/400\n",
            "48384/50029 [============================>.] - ETA: 0s - loss: 0.0562WARNING:tensorflow:Reduce LR on plateau conditioned on metric `val_loss` which is not available. Available metrics are: loss,lr\n",
            "50029/50029 [==============================] - 1s 17us/sample - loss: 0.0561\n",
            "Epoch 290/400\n",
            "48640/50029 [============================>.] - ETA: 0s - loss: 0.0562WARNING:tensorflow:Reduce LR on plateau conditioned on metric `val_loss` which is not available. Available metrics are: loss,lr\n",
            "50029/50029 [==============================] - 1s 18us/sample - loss: 0.0564\n",
            "Epoch 291/400\n",
            "49792/50029 [============================>.] - ETA: 0s - loss: 0.0565WARNING:tensorflow:Reduce LR on plateau conditioned on metric `val_loss` which is not available. Available metrics are: loss,lr\n",
            "50029/50029 [==============================] - 1s 18us/sample - loss: 0.0566\n",
            "Epoch 292/400\n",
            "49408/50029 [============================>.] - ETA: 0s - loss: 0.0560WARNING:tensorflow:Reduce LR on plateau conditioned on metric `val_loss` which is not available. Available metrics are: loss,lr\n",
            "50029/50029 [==============================] - 1s 18us/sample - loss: 0.0560\n",
            "Epoch 293/400\n",
            "48896/50029 [============================>.] - ETA: 0s - loss: 0.0549WARNING:tensorflow:Reduce LR on plateau conditioned on metric `val_loss` which is not available. Available metrics are: loss,lr\n",
            "50029/50029 [==============================] - 1s 18us/sample - loss: 0.0547\n",
            "Epoch 294/400\n",
            "49664/50029 [============================>.] - ETA: 0s - loss: 0.0555WARNING:tensorflow:Reduce LR on plateau conditioned on metric `val_loss` which is not available. Available metrics are: loss,lr\n",
            "50029/50029 [==============================] - 1s 18us/sample - loss: 0.0554\n",
            "Epoch 295/400\n",
            "48512/50029 [============================>.] - ETA: 0s - loss: 0.0564WARNING:tensorflow:Reduce LR on plateau conditioned on metric `val_loss` which is not available. Available metrics are: loss,lr\n",
            "50029/50029 [==============================] - 1s 17us/sample - loss: 0.0565\n",
            "Epoch 296/400\n",
            "49664/50029 [============================>.] - ETA: 0s - loss: 0.0544WARNING:tensorflow:Reduce LR on plateau conditioned on metric `val_loss` which is not available. Available metrics are: loss,lr\n",
            "50029/50029 [==============================] - 1s 18us/sample - loss: 0.0544\n",
            "Epoch 297/400\n",
            "47616/50029 [===========================>..] - ETA: 0s - loss: 0.0548WARNING:tensorflow:Reduce LR on plateau conditioned on metric `val_loss` which is not available. Available metrics are: loss,lr\n",
            "50029/50029 [==============================] - 1s 18us/sample - loss: 0.0549\n",
            "Epoch 298/400\n",
            "48512/50029 [============================>.] - ETA: 0s - loss: 0.0548WARNING:tensorflow:Reduce LR on plateau conditioned on metric `val_loss` which is not available. Available metrics are: loss,lr\n",
            "50029/50029 [==============================] - 1s 18us/sample - loss: 0.0548\n",
            "Epoch 299/400\n",
            "48512/50029 [============================>.] - ETA: 0s - loss: 0.0578WARNING:tensorflow:Reduce LR on plateau conditioned on metric `val_loss` which is not available. Available metrics are: loss,lr\n",
            "50029/50029 [==============================] - 1s 17us/sample - loss: 0.0577\n",
            "Epoch 300/400\n",
            "48640/50029 [============================>.] - ETA: 0s - loss: 0.0541WARNING:tensorflow:Reduce LR on plateau conditioned on metric `val_loss` which is not available. Available metrics are: loss,lr\n",
            "50029/50029 [==============================] - 1s 18us/sample - loss: 0.0541\n",
            "Epoch 301/400\n",
            "47616/50029 [===========================>..] - ETA: 0s - loss: 0.0545WARNING:tensorflow:Reduce LR on plateau conditioned on metric `val_loss` which is not available. Available metrics are: loss,lr\n",
            "50029/50029 [==============================] - 1s 17us/sample - loss: 0.0546\n",
            "Epoch 302/400\n",
            "49152/50029 [============================>.] - ETA: 0s - loss: 0.0544WARNING:tensorflow:Reduce LR on plateau conditioned on metric `val_loss` which is not available. Available metrics are: loss,lr\n",
            "50029/50029 [==============================] - 1s 18us/sample - loss: 0.0545\n",
            "Epoch 303/400\n",
            "49408/50029 [============================>.] - ETA: 0s - loss: 0.0543WARNING:tensorflow:Reduce LR on plateau conditioned on metric `val_loss` which is not available. Available metrics are: loss,lr\n",
            "50029/50029 [==============================] - 1s 18us/sample - loss: 0.0544\n",
            "Epoch 304/400\n",
            "49152/50029 [============================>.] - ETA: 0s - loss: 0.0542WARNING:tensorflow:Reduce LR on plateau conditioned on metric `val_loss` which is not available. Available metrics are: loss,lr\n",
            "50029/50029 [==============================] - 1s 18us/sample - loss: 0.0543\n",
            "Epoch 305/400\n",
            "48256/50029 [===========================>..] - ETA: 0s - loss: 0.0556WARNING:tensorflow:Reduce LR on plateau conditioned on metric `val_loss` which is not available. Available metrics are: loss,lr\n",
            "50029/50029 [==============================] - 1s 17us/sample - loss: 0.0556\n",
            "Epoch 306/400\n",
            "47616/50029 [===========================>..] - ETA: 0s - loss: 0.0552WARNING:tensorflow:Reduce LR on plateau conditioned on metric `val_loss` which is not available. Available metrics are: loss,lr\n",
            "50029/50029 [==============================] - 1s 17us/sample - loss: 0.0553\n",
            "Epoch 307/400\n",
            "48512/50029 [============================>.] - ETA: 0s - loss: 0.0545WARNING:tensorflow:Reduce LR on plateau conditioned on metric `val_loss` which is not available. Available metrics are: loss,lr\n",
            "50029/50029 [==============================] - 1s 17us/sample - loss: 0.0546\n",
            "Epoch 308/400\n",
            "48512/50029 [============================>.] - ETA: 0s - loss: 0.0541WARNING:tensorflow:Reduce LR on plateau conditioned on metric `val_loss` which is not available. Available metrics are: loss,lr\n",
            "50029/50029 [==============================] - 1s 18us/sample - loss: 0.0541\n",
            "Epoch 309/400\n",
            "48640/50029 [============================>.] - ETA: 0s - loss: 0.0550WARNING:tensorflow:Reduce LR on plateau conditioned on metric `val_loss` which is not available. Available metrics are: loss,lr\n",
            "50029/50029 [==============================] - 1s 18us/sample - loss: 0.0551\n",
            "Epoch 310/400\n",
            "47488/50029 [===========================>..] - ETA: 0s - loss: 0.0550WARNING:tensorflow:Reduce LR on plateau conditioned on metric `val_loss` which is not available. Available metrics are: loss,lr\n",
            "50029/50029 [==============================] - 1s 17us/sample - loss: 0.0551\n",
            "Epoch 311/400\n",
            "47616/50029 [===========================>..] - ETA: 0s - loss: 0.0559WARNING:tensorflow:Reduce LR on plateau conditioned on metric `val_loss` which is not available. Available metrics are: loss,lr\n",
            "50029/50029 [==============================] - 1s 17us/sample - loss: 0.0559\n",
            "Epoch 312/400\n",
            "47616/50029 [===========================>..] - ETA: 0s - loss: 0.0547WARNING:tensorflow:Reduce LR on plateau conditioned on metric `val_loss` which is not available. Available metrics are: loss,lr\n",
            "50029/50029 [==============================] - 1s 17us/sample - loss: 0.0549\n",
            "Epoch 313/400\n",
            "47872/50029 [===========================>..] - ETA: 0s - loss: 0.0544WARNING:tensorflow:Reduce LR on plateau conditioned on metric `val_loss` which is not available. Available metrics are: loss,lr\n",
            "50029/50029 [==============================] - 1s 17us/sample - loss: 0.0544\n",
            "Epoch 314/400\n",
            "47360/50029 [===========================>..] - ETA: 0s - loss: 0.0546WARNING:tensorflow:Reduce LR on plateau conditioned on metric `val_loss` which is not available. Available metrics are: loss,lr\n",
            "50029/50029 [==============================] - 1s 17us/sample - loss: 0.0547\n",
            "Epoch 315/400\n",
            "49664/50029 [============================>.] - ETA: 0s - loss: 0.0552WARNING:tensorflow:Reduce LR on plateau conditioned on metric `val_loss` which is not available. Available metrics are: loss,lr\n",
            "50029/50029 [==============================] - 1s 18us/sample - loss: 0.0552\n",
            "Epoch 316/400\n",
            "47616/50029 [===========================>..] - ETA: 0s - loss: 0.0536WARNING:tensorflow:Reduce LR on plateau conditioned on metric `val_loss` which is not available. Available metrics are: loss,lr\n",
            "50029/50029 [==============================] - 1s 17us/sample - loss: 0.0538\n",
            "Epoch 317/400\n",
            "48512/50029 [============================>.] - ETA: 0s - loss: 0.0541WARNING:tensorflow:Reduce LR on plateau conditioned on metric `val_loss` which is not available. Available metrics are: loss,lr\n",
            "50029/50029 [==============================] - 1s 17us/sample - loss: 0.0542\n",
            "Epoch 318/400\n",
            "47232/50029 [===========================>..] - ETA: 0s - loss: 0.0558WARNING:tensorflow:Reduce LR on plateau conditioned on metric `val_loss` which is not available. Available metrics are: loss,lr\n",
            "50029/50029 [==============================] - 1s 17us/sample - loss: 0.0558\n",
            "Epoch 319/400\n",
            "48256/50029 [===========================>..] - ETA: 0s - loss: 0.0542WARNING:tensorflow:Reduce LR on plateau conditioned on metric `val_loss` which is not available. Available metrics are: loss,lr\n",
            "50029/50029 [==============================] - 1s 17us/sample - loss: 0.0539\n",
            "Epoch 320/400\n",
            "46976/50029 [===========================>..] - ETA: 0s - loss: 0.0546WARNING:tensorflow:Reduce LR on plateau conditioned on metric `val_loss` which is not available. Available metrics are: loss,lr\n",
            "50029/50029 [==============================] - 1s 17us/sample - loss: 0.0549\n",
            "Epoch 321/400\n",
            "48896/50029 [============================>.] - ETA: 0s - loss: 0.0542WARNING:tensorflow:Reduce LR on plateau conditioned on metric `val_loss` which is not available. Available metrics are: loss,lr\n",
            "50029/50029 [==============================] - 1s 18us/sample - loss: 0.0541\n",
            "Epoch 322/400\n",
            "47360/50029 [===========================>..] - ETA: 0s - loss: 0.0554WARNING:tensorflow:Reduce LR on plateau conditioned on metric `val_loss` which is not available. Available metrics are: loss,lr\n",
            "50029/50029 [==============================] - 1s 17us/sample - loss: 0.0552\n",
            "Epoch 323/400\n",
            "48128/50029 [===========================>..] - ETA: 0s - loss: 0.0535WARNING:tensorflow:Reduce LR on plateau conditioned on metric `val_loss` which is not available. Available metrics are: loss,lr\n",
            "50029/50029 [==============================] - 1s 17us/sample - loss: 0.0535\n",
            "Epoch 324/400\n",
            "48256/50029 [===========================>..] - ETA: 0s - loss: 0.0541WARNING:tensorflow:Reduce LR on plateau conditioned on metric `val_loss` which is not available. Available metrics are: loss,lr\n",
            "50029/50029 [==============================] - 1s 17us/sample - loss: 0.0542\n",
            "Epoch 325/400\n",
            "49792/50029 [============================>.] - ETA: 0s - loss: 0.0543WARNING:tensorflow:Reduce LR on plateau conditioned on metric `val_loss` which is not available. Available metrics are: loss,lr\n",
            "50029/50029 [==============================] - 1s 18us/sample - loss: 0.0543\n",
            "Epoch 326/400\n",
            "48768/50029 [============================>.] - ETA: 0s - loss: 0.0555WARNING:tensorflow:Reduce LR on plateau conditioned on metric `val_loss` which is not available. Available metrics are: loss,lr\n",
            "50029/50029 [==============================] - 1s 18us/sample - loss: 0.0555\n",
            "Epoch 327/400\n",
            "48768/50029 [============================>.] - ETA: 0s - loss: 0.0541WARNING:tensorflow:Reduce LR on plateau conditioned on metric `val_loss` which is not available. Available metrics are: loss,lr\n",
            "50029/50029 [==============================] - 1s 18us/sample - loss: 0.0540\n",
            "Epoch 328/400\n",
            "49536/50029 [============================>.] - ETA: 0s - loss: 0.0545WARNING:tensorflow:Reduce LR on plateau conditioned on metric `val_loss` which is not available. Available metrics are: loss,lr\n",
            "50029/50029 [==============================] - 1s 18us/sample - loss: 0.0545\n",
            "Epoch 329/400\n",
            "48128/50029 [===========================>..] - ETA: 0s - loss: 0.0536WARNING:tensorflow:Reduce LR on plateau conditioned on metric `val_loss` which is not available. Available metrics are: loss,lr\n",
            "50029/50029 [==============================] - 1s 18us/sample - loss: 0.0536\n",
            "Epoch 330/400\n",
            "48256/50029 [===========================>..] - ETA: 0s - loss: 0.0541WARNING:tensorflow:Reduce LR on plateau conditioned on metric `val_loss` which is not available. Available metrics are: loss,lr\n",
            "50029/50029 [==============================] - 1s 18us/sample - loss: 0.0541\n",
            "Epoch 331/400\n",
            "48256/50029 [===========================>..] - ETA: 0s - loss: 0.0527WARNING:tensorflow:Reduce LR on plateau conditioned on metric `val_loss` which is not available. Available metrics are: loss,lr\n",
            "50029/50029 [==============================] - 1s 17us/sample - loss: 0.0529\n",
            "Epoch 332/400\n",
            "49152/50029 [============================>.] - ETA: 0s - loss: 0.0532WARNING:tensorflow:Reduce LR on plateau conditioned on metric `val_loss` which is not available. Available metrics are: loss,lr\n",
            "50029/50029 [==============================] - 1s 18us/sample - loss: 0.0533\n",
            "Epoch 333/400\n",
            "48128/50029 [===========================>..] - ETA: 0s - loss: 0.0546WARNING:tensorflow:Reduce LR on plateau conditioned on metric `val_loss` which is not available. Available metrics are: loss,lr\n",
            "50029/50029 [==============================] - 1s 17us/sample - loss: 0.0547\n",
            "Epoch 334/400\n",
            "47488/50029 [===========================>..] - ETA: 0s - loss: 0.0536WARNING:tensorflow:Reduce LR on plateau conditioned on metric `val_loss` which is not available. Available metrics are: loss,lr\n",
            "50029/50029 [==============================] - 1s 17us/sample - loss: 0.0536\n",
            "Epoch 335/400\n",
            "48512/50029 [============================>.] - ETA: 0s - loss: 0.0544WARNING:tensorflow:Reduce LR on plateau conditioned on metric `val_loss` which is not available. Available metrics are: loss,lr\n",
            "50029/50029 [==============================] - 1s 18us/sample - loss: 0.0544\n",
            "Epoch 336/400\n",
            "49280/50029 [============================>.] - ETA: 0s - loss: 0.0526WARNING:tensorflow:Reduce LR on plateau conditioned on metric `val_loss` which is not available. Available metrics are: loss,lr\n",
            "50029/50029 [==============================] - 1s 18us/sample - loss: 0.0527\n",
            "Epoch 337/400\n",
            "49152/50029 [============================>.] - ETA: 0s - loss: 0.0537WARNING:tensorflow:Reduce LR on plateau conditioned on metric `val_loss` which is not available. Available metrics are: loss,lr\n",
            "50029/50029 [==============================] - 1s 18us/sample - loss: 0.0538\n",
            "Epoch 338/400\n",
            "49024/50029 [============================>.] - ETA: 0s - loss: 0.0533WARNING:tensorflow:Reduce LR on plateau conditioned on metric `val_loss` which is not available. Available metrics are: loss,lr\n",
            "50029/50029 [==============================] - 1s 19us/sample - loss: 0.0534\n",
            "Epoch 339/400\n",
            "48128/50029 [===========================>..] - ETA: 0s - loss: 0.0552WARNING:tensorflow:Reduce LR on plateau conditioned on metric `val_loss` which is not available. Available metrics are: loss,lr\n",
            "50029/50029 [==============================] - 1s 18us/sample - loss: 0.0551\n",
            "Epoch 340/400\n",
            "48128/50029 [===========================>..] - ETA: 0s - loss: 0.0528WARNING:tensorflow:Reduce LR on plateau conditioned on metric `val_loss` which is not available. Available metrics are: loss,lr\n",
            "50029/50029 [==============================] - 1s 17us/sample - loss: 0.0528\n",
            "Epoch 341/400\n",
            "48128/50029 [===========================>..] - ETA: 0s - loss: 0.0556WARNING:tensorflow:Reduce LR on plateau conditioned on metric `val_loss` which is not available. Available metrics are: loss,lr\n",
            "50029/50029 [==============================] - 1s 17us/sample - loss: 0.0555\n",
            "Epoch 342/400\n",
            "49280/50029 [============================>.] - ETA: 0s - loss: 0.0547WARNING:tensorflow:Reduce LR on plateau conditioned on metric `val_loss` which is not available. Available metrics are: loss,lr\n",
            "50029/50029 [==============================] - 1s 18us/sample - loss: 0.0547\n",
            "Epoch 343/400\n",
            "48896/50029 [============================>.] - ETA: 0s - loss: 0.0531WARNING:tensorflow:Reduce LR on plateau conditioned on metric `val_loss` which is not available. Available metrics are: loss,lr\n",
            "50029/50029 [==============================] - 1s 19us/sample - loss: 0.0532\n",
            "Epoch 344/400\n",
            "49408/50029 [============================>.] - ETA: 0s - loss: 0.0525WARNING:tensorflow:Reduce LR on plateau conditioned on metric `val_loss` which is not available. Available metrics are: loss,lr\n",
            "50029/50029 [==============================] - 1s 18us/sample - loss: 0.0525\n",
            "Epoch 345/400\n",
            "48896/50029 [============================>.] - ETA: 0s - loss: 0.0533WARNING:tensorflow:Reduce LR on plateau conditioned on metric `val_loss` which is not available. Available metrics are: loss,lr\n",
            "50029/50029 [==============================] - 1s 18us/sample - loss: 0.0533\n",
            "Epoch 346/400\n",
            "47872/50029 [===========================>..] - ETA: 0s - loss: 0.0521WARNING:tensorflow:Reduce LR on plateau conditioned on metric `val_loss` which is not available. Available metrics are: loss,lr\n",
            "50029/50029 [==============================] - 1s 18us/sample - loss: 0.0522\n",
            "Epoch 347/400\n",
            "48768/50029 [============================>.] - ETA: 0s - loss: 0.0531WARNING:tensorflow:Reduce LR on plateau conditioned on metric `val_loss` which is not available. Available metrics are: loss,lr\n",
            "50029/50029 [==============================] - 1s 18us/sample - loss: 0.0532\n",
            "Epoch 348/400\n",
            "49664/50029 [============================>.] - ETA: 0s - loss: 0.0537WARNING:tensorflow:Reduce LR on plateau conditioned on metric `val_loss` which is not available. Available metrics are: loss,lr\n",
            "50029/50029 [==============================] - 1s 18us/sample - loss: 0.0537\n",
            "Epoch 349/400\n",
            "47104/50029 [===========================>..] - ETA: 0s - loss: 0.0523WARNING:tensorflow:Reduce LR on plateau conditioned on metric `val_loss` which is not available. Available metrics are: loss,lr\n",
            "50029/50029 [==============================] - 1s 18us/sample - loss: 0.0525\n",
            "Epoch 350/400\n",
            "49280/50029 [============================>.] - ETA: 0s - loss: 0.0526WARNING:tensorflow:Reduce LR on plateau conditioned on metric `val_loss` which is not available. Available metrics are: loss,lr\n",
            "50029/50029 [==============================] - 1s 18us/sample - loss: 0.0526\n",
            "Epoch 351/400\n",
            "48512/50029 [============================>.] - ETA: 0s - loss: 0.0530WARNING:tensorflow:Reduce LR on plateau conditioned on metric `val_loss` which is not available. Available metrics are: loss,lr\n",
            "50029/50029 [==============================] - 1s 17us/sample - loss: 0.0531\n",
            "Epoch 352/400\n",
            "49536/50029 [============================>.] - ETA: 0s - loss: 0.0556WARNING:tensorflow:Reduce LR on plateau conditioned on metric `val_loss` which is not available. Available metrics are: loss,lr\n",
            "50029/50029 [==============================] - 1s 18us/sample - loss: 0.0556\n",
            "Epoch 353/400\n",
            "48000/50029 [===========================>..] - ETA: 0s - loss: 0.0520WARNING:tensorflow:Reduce LR on plateau conditioned on metric `val_loss` which is not available. Available metrics are: loss,lr\n",
            "50029/50029 [==============================] - 1s 17us/sample - loss: 0.0520\n",
            "Epoch 354/400\n",
            "47744/50029 [===========================>..] - ETA: 0s - loss: 0.0528WARNING:tensorflow:Reduce LR on plateau conditioned on metric `val_loss` which is not available. Available metrics are: loss,lr\n",
            "50029/50029 [==============================] - 1s 17us/sample - loss: 0.0529\n",
            "Epoch 355/400\n",
            "47488/50029 [===========================>..] - ETA: 0s - loss: 0.0520WARNING:tensorflow:Reduce LR on plateau conditioned on metric `val_loss` which is not available. Available metrics are: loss,lr\n",
            "50029/50029 [==============================] - 1s 17us/sample - loss: 0.0520\n",
            "Epoch 356/400\n",
            "47488/50029 [===========================>..] - ETA: 0s - loss: 0.0526WARNING:tensorflow:Reduce LR on plateau conditioned on metric `val_loss` which is not available. Available metrics are: loss,lr\n",
            "50029/50029 [==============================] - 1s 17us/sample - loss: 0.0524\n",
            "Epoch 357/400\n",
            "47744/50029 [===========================>..] - ETA: 0s - loss: 0.0525WARNING:tensorflow:Reduce LR on plateau conditioned on metric `val_loss` which is not available. Available metrics are: loss,lr\n",
            "50029/50029 [==============================] - 1s 17us/sample - loss: 0.0525\n",
            "Epoch 358/400\n",
            "49536/50029 [============================>.] - ETA: 0s - loss: 0.0527WARNING:tensorflow:Reduce LR on plateau conditioned on metric `val_loss` which is not available. Available metrics are: loss,lr\n",
            "50029/50029 [==============================] - 1s 18us/sample - loss: 0.0527\n",
            "Epoch 359/400\n",
            "47744/50029 [===========================>..] - ETA: 0s - loss: 0.0517WARNING:tensorflow:Reduce LR on plateau conditioned on metric `val_loss` which is not available. Available metrics are: loss,lr\n",
            "50029/50029 [==============================] - 1s 17us/sample - loss: 0.0517\n",
            "Epoch 360/400\n",
            "48000/50029 [===========================>..] - ETA: 0s - loss: 0.0531WARNING:tensorflow:Reduce LR on plateau conditioned on metric `val_loss` which is not available. Available metrics are: loss,lr\n",
            "50029/50029 [==============================] - 1s 18us/sample - loss: 0.0532\n",
            "Epoch 361/400\n",
            "47488/50029 [===========================>..] - ETA: 0s - loss: 0.0531WARNING:tensorflow:Reduce LR on plateau conditioned on metric `val_loss` which is not available. Available metrics are: loss,lr\n",
            "50029/50029 [==============================] - 1s 17us/sample - loss: 0.0530\n",
            "Epoch 362/400\n",
            "49920/50029 [============================>.] - ETA: 0s - loss: 0.0536WARNING:tensorflow:Reduce LR on plateau conditioned on metric `val_loss` which is not available. Available metrics are: loss,lr\n",
            "50029/50029 [==============================] - 1s 19us/sample - loss: 0.0536\n",
            "Epoch 363/400\n",
            "47488/50029 [===========================>..] - ETA: 0s - loss: 0.0527WARNING:tensorflow:Reduce LR on plateau conditioned on metric `val_loss` which is not available. Available metrics are: loss,lr\n",
            "50029/50029 [==============================] - 1s 17us/sample - loss: 0.0527\n",
            "Epoch 364/400\n",
            "49408/50029 [============================>.] - ETA: 0s - loss: 0.0516WARNING:tensorflow:Reduce LR on plateau conditioned on metric `val_loss` which is not available. Available metrics are: loss,lr\n",
            "50029/50029 [==============================] - 1s 18us/sample - loss: 0.0516\n",
            "Epoch 365/400\n",
            "47104/50029 [===========================>..] - ETA: 0s - loss: 0.0522WARNING:tensorflow:Reduce LR on plateau conditioned on metric `val_loss` which is not available. Available metrics are: loss,lr\n",
            "50029/50029 [==============================] - 1s 17us/sample - loss: 0.0522\n",
            "Epoch 366/400\n",
            "49408/50029 [============================>.] - ETA: 0s - loss: 0.0523WARNING:tensorflow:Reduce LR on plateau conditioned on metric `val_loss` which is not available. Available metrics are: loss,lr\n",
            "50029/50029 [==============================] - 1s 18us/sample - loss: 0.0523\n",
            "Epoch 367/400\n",
            "48384/50029 [============================>.] - ETA: 0s - loss: 0.0524WARNING:tensorflow:Reduce LR on plateau conditioned on metric `val_loss` which is not available. Available metrics are: loss,lr\n",
            "50029/50029 [==============================] - 1s 17us/sample - loss: 0.0527\n",
            "Epoch 368/400\n",
            "47616/50029 [===========================>..] - ETA: 0s - loss: 0.0529WARNING:tensorflow:Reduce LR on plateau conditioned on metric `val_loss` which is not available. Available metrics are: loss,lr\n",
            "50029/50029 [==============================] - 1s 17us/sample - loss: 0.0530\n",
            "Epoch 369/400\n",
            "47616/50029 [===========================>..] - ETA: 0s - loss: 0.0511WARNING:tensorflow:Reduce LR on plateau conditioned on metric `val_loss` which is not available. Available metrics are: loss,lr\n",
            "50029/50029 [==============================] - 1s 17us/sample - loss: 0.0512\n",
            "Epoch 370/400\n",
            "49920/50029 [============================>.] - ETA: 0s - loss: 0.0519WARNING:tensorflow:Reduce LR on plateau conditioned on metric `val_loss` which is not available. Available metrics are: loss,lr\n",
            "50029/50029 [==============================] - 1s 18us/sample - loss: 0.0519\n",
            "Epoch 371/400\n",
            "47488/50029 [===========================>..] - ETA: 0s - loss: 0.0535WARNING:tensorflow:Reduce LR on plateau conditioned on metric `val_loss` which is not available. Available metrics are: loss,lr\n",
            "50029/50029 [==============================] - 1s 17us/sample - loss: 0.0534\n",
            "Epoch 372/400\n",
            "48768/50029 [============================>.] - ETA: 0s - loss: 0.0520WARNING:tensorflow:Reduce LR on plateau conditioned on metric `val_loss` which is not available. Available metrics are: loss,lr\n",
            "50029/50029 [==============================] - 1s 18us/sample - loss: 0.0522\n",
            "Epoch 373/400\n",
            "47104/50029 [===========================>..] - ETA: 0s - loss: 0.0512WARNING:tensorflow:Reduce LR on plateau conditioned on metric `val_loss` which is not available. Available metrics are: loss,lr\n",
            "50029/50029 [==============================] - 1s 17us/sample - loss: 0.0511\n",
            "Epoch 374/400\n",
            "49536/50029 [============================>.] - ETA: 0s - loss: 0.0519WARNING:tensorflow:Reduce LR on plateau conditioned on metric `val_loss` which is not available. Available metrics are: loss,lr\n",
            "50029/50029 [==============================] - 1s 18us/sample - loss: 0.0520\n",
            "Epoch 375/400\n",
            "49024/50029 [============================>.] - ETA: 0s - loss: 0.0523WARNING:tensorflow:Reduce LR on plateau conditioned on metric `val_loss` which is not available. Available metrics are: loss,lr\n",
            "50029/50029 [==============================] - 1s 18us/sample - loss: 0.0523\n",
            "Epoch 376/400\n",
            "47872/50029 [===========================>..] - ETA: 0s - loss: 0.0527WARNING:tensorflow:Reduce LR on plateau conditioned on metric `val_loss` which is not available. Available metrics are: loss,lr\n",
            "50029/50029 [==============================] - 1s 17us/sample - loss: 0.0528\n",
            "Epoch 377/400\n",
            "48768/50029 [============================>.] - ETA: 0s - loss: 0.0523WARNING:tensorflow:Reduce LR on plateau conditioned on metric `val_loss` which is not available. Available metrics are: loss,lr\n",
            "50029/50029 [==============================] - 1s 18us/sample - loss: 0.0525\n",
            "Epoch 378/400\n",
            "48000/50029 [===========================>..] - ETA: 0s - loss: 0.0522WARNING:tensorflow:Reduce LR on plateau conditioned on metric `val_loss` which is not available. Available metrics are: loss,lr\n",
            "50029/50029 [==============================] - 1s 17us/sample - loss: 0.0521\n",
            "Epoch 379/400\n",
            "49024/50029 [============================>.] - ETA: 0s - loss: 0.0520WARNING:tensorflow:Reduce LR on plateau conditioned on metric `val_loss` which is not available. Available metrics are: loss,lr\n",
            "50029/50029 [==============================] - 1s 17us/sample - loss: 0.0521\n",
            "Epoch 380/400\n",
            "49408/50029 [============================>.] - ETA: 0s - loss: 0.0514WARNING:tensorflow:Reduce LR on plateau conditioned on metric `val_loss` which is not available. Available metrics are: loss,lr\n",
            "50029/50029 [==============================] - 1s 18us/sample - loss: 0.0513\n",
            "Epoch 381/400\n",
            "48000/50029 [===========================>..] - ETA: 0s - loss: 0.0516WARNING:tensorflow:Reduce LR on plateau conditioned on metric `val_loss` which is not available. Available metrics are: loss,lr\n",
            "50029/50029 [==============================] - 1s 17us/sample - loss: 0.0517\n",
            "Epoch 382/400\n",
            "47232/50029 [===========================>..] - ETA: 0s - loss: 0.0533WARNING:tensorflow:Reduce LR on plateau conditioned on metric `val_loss` which is not available. Available metrics are: loss,lr\n",
            "50029/50029 [==============================] - 1s 17us/sample - loss: 0.0531\n",
            "Epoch 383/400\n",
            "47232/50029 [===========================>..] - ETA: 0s - loss: 0.0520WARNING:tensorflow:Reduce LR on plateau conditioned on metric `val_loss` which is not available. Available metrics are: loss,lr\n",
            "50029/50029 [==============================] - 1s 17us/sample - loss: 0.0521\n",
            "Epoch 384/400\n",
            "47872/50029 [===========================>..] - ETA: 0s - loss: 0.0519WARNING:tensorflow:Reduce LR on plateau conditioned on metric `val_loss` which is not available. Available metrics are: loss,lr\n",
            "50029/50029 [==============================] - 1s 17us/sample - loss: 0.0519\n",
            "Epoch 385/400\n",
            "47744/50029 [===========================>..] - ETA: 0s - loss: 0.0509WARNING:tensorflow:Reduce LR on plateau conditioned on metric `val_loss` which is not available. Available metrics are: loss,lr\n",
            "50029/50029 [==============================] - 1s 17us/sample - loss: 0.0510\n",
            "Epoch 386/400\n",
            "49280/50029 [============================>.] - ETA: 0s - loss: 0.0527WARNING:tensorflow:Reduce LR on plateau conditioned on metric `val_loss` which is not available. Available metrics are: loss,lr\n",
            "50029/50029 [==============================] - 1s 18us/sample - loss: 0.0526\n",
            "Epoch 387/400\n",
            "48000/50029 [===========================>..] - ETA: 0s - loss: 0.0518WARNING:tensorflow:Reduce LR on plateau conditioned on metric `val_loss` which is not available. Available metrics are: loss,lr\n",
            "50029/50029 [==============================] - 1s 17us/sample - loss: 0.0519\n",
            "Epoch 388/400\n",
            "47488/50029 [===========================>..] - ETA: 0s - loss: 0.0517WARNING:tensorflow:Reduce LR on plateau conditioned on metric `val_loss` which is not available. Available metrics are: loss,lr\n",
            "50029/50029 [==============================] - 1s 17us/sample - loss: 0.0517\n",
            "Epoch 389/400\n",
            "48000/50029 [===========================>..] - ETA: 0s - loss: 0.0510WARNING:tensorflow:Reduce LR on plateau conditioned on metric `val_loss` which is not available. Available metrics are: loss,lr\n",
            "50029/50029 [==============================] - 1s 18us/sample - loss: 0.0510\n",
            "Epoch 390/400\n",
            "49920/50029 [============================>.] - ETA: 0s - loss: 0.0507WARNING:tensorflow:Reduce LR on plateau conditioned on metric `val_loss` which is not available. Available metrics are: loss,lr\n",
            "50029/50029 [==============================] - 1s 18us/sample - loss: 0.0507\n",
            "Epoch 391/400\n",
            "48128/50029 [===========================>..] - ETA: 0s - loss: 0.0511WARNING:tensorflow:Reduce LR on plateau conditioned on metric `val_loss` which is not available. Available metrics are: loss,lr\n",
            "50029/50029 [==============================] - 1s 17us/sample - loss: 0.0512\n",
            "Epoch 392/400\n",
            "47488/50029 [===========================>..] - ETA: 0s - loss: 0.0527WARNING:tensorflow:Reduce LR on plateau conditioned on metric `val_loss` which is not available. Available metrics are: loss,lr\n",
            "50029/50029 [==============================] - 1s 17us/sample - loss: 0.0526\n",
            "Epoch 393/400\n",
            "47872/50029 [===========================>..] - ETA: 0s - loss: 0.0516WARNING:tensorflow:Reduce LR on plateau conditioned on metric `val_loss` which is not available. Available metrics are: loss,lr\n",
            "50029/50029 [==============================] - 1s 17us/sample - loss: 0.0516\n",
            "Epoch 394/400\n",
            "49280/50029 [============================>.] - ETA: 0s - loss: 0.0520WARNING:tensorflow:Reduce LR on plateau conditioned on metric `val_loss` which is not available. Available metrics are: loss,lr\n",
            "50029/50029 [==============================] - 1s 18us/sample - loss: 0.0520\n",
            "Epoch 395/400\n",
            "47616/50029 [===========================>..] - ETA: 0s - loss: 0.0520WARNING:tensorflow:Reduce LR on plateau conditioned on metric `val_loss` which is not available. Available metrics are: loss,lr\n",
            "50029/50029 [==============================] - 1s 18us/sample - loss: 0.0521\n",
            "Epoch 396/400\n",
            "49280/50029 [============================>.] - ETA: 0s - loss: 0.0510WARNING:tensorflow:Reduce LR on plateau conditioned on metric `val_loss` which is not available. Available metrics are: loss,lr\n",
            "50029/50029 [==============================] - 1s 18us/sample - loss: 0.0511\n",
            "Epoch 397/400\n",
            "48128/50029 [===========================>..] - ETA: 0s - loss: 0.0517WARNING:tensorflow:Reduce LR on plateau conditioned on metric `val_loss` which is not available. Available metrics are: loss,lr\n",
            "50029/50029 [==============================] - 1s 17us/sample - loss: 0.0516\n",
            "Epoch 398/400\n",
            "47872/50029 [===========================>..] - ETA: 0s - loss: 0.0510WARNING:tensorflow:Reduce LR on plateau conditioned on metric `val_loss` which is not available. Available metrics are: loss,lr\n",
            "50029/50029 [==============================] - 1s 18us/sample - loss: 0.0514\n",
            "Epoch 399/400\n",
            "48256/50029 [===========================>..] - ETA: 0s - loss: 0.0512WARNING:tensorflow:Reduce LR on plateau conditioned on metric `val_loss` which is not available. Available metrics are: loss,lr\n",
            "50029/50029 [==============================] - 1s 17us/sample - loss: 0.0513\n",
            "Epoch 400/400\n",
            "48384/50029 [============================>.] - ETA: 0s - loss: 0.0508WARNING:tensorflow:Reduce LR on plateau conditioned on metric `val_loss` which is not available. Available metrics are: loss,lr\n",
            "50029/50029 [==============================] - 1s 17us/sample - loss: 0.0509\n"
          ],
          "name": "stdout"
        },
        {
          "output_type": "execute_result",
          "data": {
            "text/plain": [
              "<tensorflow.python.keras.callbacks.History at 0x7efbf11e50f0>"
            ]
          },
          "metadata": {
            "tags": []
          },
          "execution_count": 25
        }
      ]
    },
    {
      "cell_type": "code",
      "metadata": {
        "id": "dZ1W9CSCfa6j",
        "colab_type": "code",
        "outputId": "06618238-7b7a-469e-f090-04c147bad340",
        "colab": {
          "base_uri": "https://localhost:8080/",
          "height": 282
        }
      },
      "source": [
        "logp_pred_train = logp_model.predict(x_train_latent)\n",
        "logp_pred_test = logp_model.predict(x_latent)\n",
        "plt.scatter(logp, logp_pred_test, label=\"Test\")\n",
        "plt.scatter(logp_train, logp_pred_train, label=\"Train\")\n",
        "plt.legend()"
      ],
      "execution_count": 0,
      "outputs": [
        {
          "output_type": "execute_result",
          "data": {
            "text/plain": [
              "<matplotlib.legend.Legend at 0x7efbee94d9e8>"
            ]
          },
          "metadata": {
            "tags": []
          },
          "execution_count": 26
        },
        {
          "output_type": "display_data",
          "data": {
            "image/png": "[encoded data removed]",
            "text/plain": [
              "<Figure size 432x288 with 1 Axes>"
            ]
          },
          "metadata": {
            "tags": []
          }
        }
      ]
    },
    {
      "cell_type": "markdown",
      "metadata": {
        "id": "fLdQ1M5jeg1h",
        "colab_type": "text"
      },
      "source": [
        "모델링된 속성을 모델링할 때 훨씬 더 잘 맞을 것으로 예상된다."
      ]
    },
    {
      "cell_type": "markdown",
      "metadata": {
        "id": "fmRGT0t5elGx",
        "colab_type": "text"
      },
      "source": [
        "# From latent space to SMILES\n",
        "latent 공간을 샘플링하려면 두 단계가 필요하다. 먼저 latent_to_states_model을 사용하여 c 및 h 상태를 계산한 다음 디코더 LSTM 네트워크의 초기 상태를 설정한다. LSTM 네트워크에는 입력 문자 벡터가 입력되고 끝 문자 \"E\"가 나타날 때까지 다음 문자를 반복적으로 샘플링한다."
      ]
    },
    {
      "cell_type": "code",
      "metadata": {
        "id": "ZcifE6iaiuJ1",
        "colab_type": "code",
        "colab": {}
      },
      "source": [
        "def latent_to_smiles(latent):\n",
        "    #decode states and set Reset the LSTM cells with them\n",
        "    states = latent_to_states_model.predict(latent)\n",
        "    sample_model.layers[1].reset_states(states=[states[0],states[1]])\n",
        "    #Prepare the input char\n",
        "    startidx = char_to_int[\"!\"]\n",
        "    samplevec = np.zeros((1,1,22))\n",
        "    samplevec[0,0,startidx] = 1\n",
        "    smiles = \"\"\n",
        "    #Loop and predict next char\n",
        "    for i in range(28):\n",
        "        o = sample_model.predict(samplevec)\n",
        "        sampleidx = np.argmax(o)\n",
        "        samplechar = int_to_char[sampleidx]\n",
        "        if samplechar != \"E\":\n",
        "            smiles = smiles + int_to_char[sampleidx]\n",
        "            samplevec = np.zeros((1,1,22))\n",
        "            samplevec[0,0,sampleidx] = 1\n",
        "        else:\n",
        "            break\n",
        "    return smiles"
      ],
      "execution_count": 0,
      "outputs": []
    },
    {
      "cell_type": "code",
      "metadata": {
        "id": "B4aDG6UEiw-b",
        "colab_type": "code",
        "outputId": "0af7a242-eb97-476f-bdef-fe3d34cb477e",
        "colab": {
          "base_uri": "https://localhost:8080/",
          "height": 52
        }
      },
      "source": [
        "smiles = latent_to_smiles(x_latent[0:1])\n",
        "print (smiles)\n",
        "print (smiles_test.iloc[0])"
      ],
      "execution_count": 0,
      "outputs": [
        {
          "output_type": "stream",
          "text": [
            "NCCC1OC=NO1\n",
            "NCCC1OC=NO1\n"
          ],
          "name": "stdout"
        }
      ]
    },
    {
      "cell_type": "code",
      "metadata": {
        "id": "CSaU_M6tiyVr",
        "colab_type": "code",
        "outputId": "0d4032e8-28b6-49df-ba94-22612a7fdbd0",
        "colab": {
          "base_uri": "https://localhost:8080/",
          "height": 598
        }
      },
      "source": [
        "wrong = 0\n",
        "for i in range(1000):\n",
        "    smiles = latent_to_smiles(x_latent[i:i+1])\n",
        "    mol = Chem.MolFromSmiles(smiles)\n",
        "    if mol:\n",
        "        pass\n",
        "    else:\n",
        "        print (smiles)\n",
        "        wrong = wrong + 1\n",
        "print (\"%0.1F percent wrongly formatted smiles\"%(wrong/float(1000)*100))"
      ],
      "execution_count": 0,
      "outputs": [
        {
          "output_type": "stream",
          "text": [
            "RDKit ERROR: [11:25:09] SMILES Parse Error: unclosed ring for input: 'CC1C(CNN2)C=C1O'\n"
          ],
          "name": "stderr"
        },
        {
          "output_type": "stream",
          "text": [
            "CC1C(CNN2)C=C1O\n"
          ],
          "name": "stdout"
        },
        {
          "output_type": "stream",
          "text": [
            "RDKit ERROR: [11:25:10] Explicit valence for atom # 1 C, 6, is greater than permitted\n"
          ],
          "name": "stderr"
        },
        {
          "output_type": "stream",
          "text": [
            "CC(C)(CC=C)(=O)C\n"
          ],
          "name": "stdout"
        },
        {
          "output_type": "stream",
          "text": [
            "RDKit ERROR: [11:25:11] SMILES Parse Error: unclosed ring for input: 'c1[nH]cc2oc2nn12'\n"
          ],
          "name": "stderr"
        },
        {
          "output_type": "stream",
          "text": [
            "c1[nH]cc2oc2nn12\n"
          ],
          "name": "stdout"
        },
        {
          "output_type": "stream",
          "text": [
            "RDKit ERROR: [11:25:12] SMILES Parse Error: unclosed ring for input: 'C1C2OC1C(=O)C2C3'\n"
          ],
          "name": "stderr"
        },
        {
          "output_type": "stream",
          "text": [
            "C1C2OC1C(=O)C2C3\n"
          ],
          "name": "stdout"
        },
        {
          "output_type": "stream",
          "text": [
            "RDKit ERROR: [11:25:13] SMILES Parse Error: extra open parentheses for input: 'CC(=CC1ON1CC=N'\n"
          ],
          "name": "stderr"
        },
        {
          "output_type": "stream",
          "text": [
            "CC(=CC1ON1CC=N\n"
          ],
          "name": "stdout"
        },
        {
          "output_type": "stream",
          "text": [
            "RDKit ERROR: [11:25:15] SMILES Parse Error: extra close parentheses for input: 'NNC(CN)=CF)C'\n"
          ],
          "name": "stderr"
        },
        {
          "output_type": "stream",
          "text": [
            "NNC(CN)=CF)C\n"
          ],
          "name": "stdout"
        },
        {
          "output_type": "stream",
          "text": [
            "RDKit ERROR: [11:25:17] SMILES Parse Error: syntax error for input: 'CC(=C)C1CC(1)CN'\n"
          ],
          "name": "stderr"
        },
        {
          "output_type": "stream",
          "text": [
            "CC(=C)C1CC(1)CN\n",
            "FC1CN2C2NC=N1\n"
          ],
          "name": "stdout"
        },
        {
          "output_type": "stream",
          "text": [
            "RDKit ERROR: [11:25:19] \n",
            "RDKit ERROR: \n",
            "RDKit ERROR: ****\n",
            "RDKit ERROR: Pre-condition Violation\n",
            "RDKit ERROR: bond already exists\n",
            "RDKit ERROR: Violation occurred on line 350 in file /opt/conda/conda-bld/rdkit_1507355913765/work/Code/GraphMol/ROMol.cpp\n",
            "RDKit ERROR: Failed Expression: !(boost::edge(bond_pin->getBeginAtomIdx(), bond_pin->getEndAtomIdx(), d_graph).second)\n",
            "RDKit ERROR: ****\n",
            "RDKit ERROR: \n",
            "RDKit ERROR: [11:25:23] Can't kekulize mol.  Unkekulized atoms: 1 2 7\n",
            "RDKit ERROR: \n"
          ],
          "name": "stderr"
        },
        {
          "output_type": "stream",
          "text": [
            "Cc1non(C)=Cn1\n"
          ],
          "name": "stdout"
        },
        {
          "output_type": "stream",
          "text": [
            "RDKit ERROR: [11:25:30] SMILES Parse Error: extra open parentheses for input: 'O=C1C(CN2CO=C1F'\n"
          ],
          "name": "stderr"
        },
        {
          "output_type": "stream",
          "text": [
            "O=C1C(CN2CO=C1F\n"
          ],
          "name": "stdout"
        },
        {
          "output_type": "stream",
          "text": [
            "RDKit ERROR: [11:25:31] Can't kekulize mol.  Unkekulized atoms: 1 2 3\n",
            "RDKit ERROR: \n"
          ],
          "name": "stderr"
        },
        {
          "output_type": "stream",
          "text": [
            "Nc1cnc(=N)n1C\n",
            "1.1 percent wrongly formatted smiles\n"
          ],
          "name": "stdout"
        }
      ]
    },
    {
      "cell_type": "code",
      "metadata": {
        "id": "6HyzkEL_i2A7",
        "colab_type": "code",
        "outputId": "24d8a2ef-3570-4e3d-f024-f8554dc57e0d",
        "colab": {
          "base_uri": "https://localhost:8080/",
          "height": 1000
        }
      },
      "source": [
        "#Interpolation test in latent_space\n",
        "i = 0\n",
        "j= 2\n",
        "latent1 = x_latent[j:j+1]\n",
        "latent0 = x_latent[i:i+1]\n",
        "mols1 = []\n",
        "ratios = np.linspace(0,1,25)\n",
        "for r in ratios:\n",
        "    #print r\n",
        "    rlatent = (1.0-r)*latent0 + r*latent1\n",
        "    smiles  = latent_to_smiles(rlatent)\n",
        "    mol = Chem.MolFromSmiles(smiles)\n",
        "    if mol:\n",
        "        mols1.append(mol)\n",
        "    else:\n",
        "        print (smiles)\n",
        "Draw.MolsToGridImage(mols1, molsPerRow=5)"
      ],
      "execution_count": 0,
      "outputs": [
        {
          "output_type": "stream",
          "text": [
            "RDKit ERROR: [11:26:29] Explicit valence for atom # 4 O, 3, is greater than permitted\n",
            "RDKit ERROR: [11:26:29] Explicit valence for atom # 4 O, 3, is greater than permitted\n",
            "RDKit ERROR: [11:26:29] Explicit valence for atom # 4 O, 3, is greater than permitted\n",
            "RDKit ERROR: [11:26:29] Explicit valence for atom # 4 O, 3, is greater than permitted\n"
          ],
          "name": "stderr"
        },
        {
          "output_type": "stream",
          "text": [
            "NCCC1=ONCC1\n",
            "NCCC1=OCON1\n",
            "CNC1CO=CCO1\n",
            "CNC1C=OCCO1\n"
          ],
          "name": "stdout"
        },
        {
          "output_type": "stream",
          "text": [
            "RDKit ERROR: [11:26:29] Explicit valence for atom # 6 O, 3, is greater than permitted\n",
            "RDKit ERROR: [11:26:29] Explicit valence for atom # 6 O, 3, is greater than permitted\n",
            "RDKit ERROR: [11:26:30] SMILES Parse Error: unclosed ring for input: 'CC1=NOCCCC=N'\n",
            "RDKit ERROR: [11:26:30] SMILES Parse Error: unclosed ring for input: 'CC1=NOCCCC=N'\n"
          ],
          "name": "stderr"
        },
        {
          "output_type": "stream",
          "text": [
            "CN=CC1CCO1N\n",
            "CN=CC1CCO1N\n",
            "CC1=NOCCCC=N\n",
            "CC1=NOCCCC=N\n"
          ],
          "name": "stdout"
        },
        {
          "output_type": "execute_result",
          "data": {
            "image/png": "[encoded data removed]",
            "text/plain": [
              "<PIL.PngImagePlugin.PngImageFile image mode=RGB size=1000x800 at 0x7EFBEE877588>"
            ]
          },
          "metadata": {
            "tags": []
          },
          "execution_count": 30
        }
      ]
    },
    {
      "cell_type": "markdown",
      "metadata": {
        "id": "Ik0n4nmPe5L_",
        "colab_type": "text"
      },
      "source": [
        "25 개 분자 중 4 개를 파싱 할 수 없기 때문에 잘못된 샘플링이 더 높은 것 같다. interpolation(보간)은 또한 latent space의 약간 다른 영역에 대해 동일한 분자가 어떻게 생성되는지를 보여준다. 이것은 분자가 불연속적이고 latent space이 연속적이라는 것을 반영하며, 두 분자 사이의 경계에 있을 때 실패 할 가능성이 높다.\n",
        "검사해야 할 또 다른 흥미로운 특성은 기존 분자 벡터에 약간의 무작위성을 추가함으로써 리드 분자와 다소 유사한 신규 분자가 있을 수 있는지이다."
      ]
    },
    {
      "cell_type": "code",
      "metadata": {
        "id": "Myn7kbEgmHLf",
        "colab_type": "code",
        "outputId": "c3bf9d27-8663-45b8-a9b8-50cf058916d1",
        "colab": {
          "base_uri": "https://localhost:8080/",
          "height": 745
        }
      },
      "source": [
        "#Sample around the latent wector\n",
        "latent = x_latent[0:1]\n",
        "scale = 0.40\n",
        "mols = []\n",
        "for i in range(20):\n",
        "    latent_r = latent + scale*(np.random.randn(latent.shape[1])) #TODO, try with\n",
        "    smiles = latent_to_smiles(latent_r)\n",
        "    mol = Chem.MolFromSmiles(smiles)\n",
        "    if mol:\n",
        "        mols.append(mol)\n",
        "    else:\n",
        "        print (smiles)\n",
        "Draw.MolsToGridImage(mols, molsPerRow=5)"
      ],
      "execution_count": 0,
      "outputs": [
        {
          "output_type": "stream",
          "text": [
            "RDKit ERROR: [11:27:28] Explicit valence for atom # 6 O, 4, is greater than permitted\n",
            "RDKit ERROR: [11:27:28] Explicit valence for atom # 4 O, 3, is greater than permitted\n",
            "RDKit ERROR: [11:27:28] Explicit valence for atom # 7 O, 3, is greater than permitted\n",
            "RDKit ERROR: [11:27:28] SMILES Parse Error: unclosed ring for input: 'NCCOC=C1CO'\n",
            "RDKit ERROR: [11:27:28] Explicit valence for atom # 4 O, 3, is greater than permitted\n"
          ],
          "name": "stderr"
        },
        {
          "output_type": "stream",
          "text": [
            "NCCC1OCO1=O\n",
            "NCCC=ON1CC1\n",
            "NCCC1ON=C=O1\n",
            "NCCOC=C1CO\n",
            "NCCCO1C=OO1\n"
          ],
          "name": "stdout"
        },
        {
          "output_type": "stream",
          "text": [
            "RDKit ERROR: [11:27:28] SMILES Parse Error: unclosed ring for input: 'NCCC#COC1O'\n",
            "RDKit ERROR: [11:27:28] SMILES Parse Error: unclosed ring for input: 'NCCCC1=OOC'\n",
            "RDKit ERROR: [11:27:28] SMILES Parse Error: extra open parentheses for input: 'CNOC1(CCO1F'\n",
            "RDKit ERROR: [11:27:28] SMILES Parse Error: unclosed ring for input: 'NCCC1OC=NF'\n",
            "RDKit ERROR: [11:27:28] Explicit valence for atom # 6 O, 4, is greater than permitted\n",
            "RDKit ERROR: [11:27:28] SMILES Parse Error: unclosed ring for input: 'NCCCC1OCF'\n"
          ],
          "name": "stderr"
        },
        {
          "output_type": "stream",
          "text": [
            "NCCC#COC1O\n",
            "NCCCC1=OOC\n",
            "CNOC1(CCO1F\n",
            "NCCC1OC=NF\n",
            "NCCC1COO1=O\n",
            "NCCCC1OCF\n",
            "NCCCO1=OCn1\n",
            "NCCC=C1OO1C\n",
            "NCCCO=C1NN1\n",
            "NCCCN1=CNN1\n"
          ],
          "name": "stdout"
        },
        {
          "output_type": "stream",
          "text": [
            "RDKit ERROR: [11:27:28] Explicit valence for atom # 4 O, 4, is greater than permitted\n",
            "RDKit ERROR: [11:27:28] Explicit valence for atom # 6 O, 3, is greater than permitted\n",
            "RDKit ERROR: [11:27:28] Explicit valence for atom # 4 O, 3, is greater than permitted\n",
            "RDKit ERROR: [11:27:28] Explicit valence for atom # 4 N, 4, is greater than permitted\n"
          ],
          "name": "stderr"
        },
        {
          "output_type": "execute_result",
          "data": {
            "image/png": "[encoded data removed]",
            "text/plain": [
              "<PIL.PngImagePlugin.PngImageFile image mode=RGB size=1000x200 at 0x7EFBEE877B00>"
            ]
          },
          "metadata": {
            "tags": []
          },
          "execution_count": 31
        }
      ]
    },
    {
      "cell_type": "markdown",
      "metadata": {
        "id": "hwZZYxQifcnb",
        "colab_type": "text"
      },
      "source": [
        "여기서 우리는 실제로 많은 잘못된 SMILES가 생성되는 것을 보지만 그럼에도 불구하고 latent vector를 인코딩하는 데 사용된 것과 다소 유사할 수 있는 일부 분자를 볼 수 있다. (위 보간에서 첫 번째 분자와 비교). 스케일링을 조정하면 창의성을 튜닝할 수 있다."
      ]
    },
    {
      "cell_type": "markdown",
      "metadata": {
        "id": "9E3DSWj_fluE",
        "colab_type": "text"
      },
      "source": [
        "# **hetero encoding**"
      ]
    },
    {
      "cell_type": "markdown",
      "metadata": {
        "id": "gVYwB_bGcMoh",
        "colab_type": "text"
      },
      "source": [
        "#1.도입"
      ]
    },
    {
      "cell_type": "markdown",
      "metadata": {
        "id": "GeItja5YcoQz",
        "colab_type": "text"
      },
      "source": [
        "auto encoder는 분자를 latent space의 디코딩 및 샘플 영역뿐만 아니라 latent vector 표현으로 전환하기 위한 심층 학습 솔루션으로 등장하였다.   \n",
        "오토인코더는 입력 정보를 압축하여 코드 계층으로 변경하는 인코더와 압축 벡터 표현(잠재 공간 벡터)에서 원래의 입력을 재현하는 디코더 부분으로 구성된다.   \n",
        "훈련 후에, 인코더는 자동인코더에서 추출될 수 있고 분자의 벡터 표현을 계산하는 데 사용된다.    \n",
        "이것들은 분자의 화학적 공간을 위한 일종의 finger print나 GPS로 사용될 수 있다. 디코더는 훈련 중에 사용된 분자 표현에서 SMILES와 같은 분자 표현으로 되돌아가는 데 사용될 수 있다.   \n",
        "이것은 디코더의 확률 출력을 샘플링할 수 있기 때문에, 디코더를 분자 드 노보 생성을 위한 조종 방법으로 사용할 수 있게 하여, 새로운 분자를 만들 수 있지만 잠재된 공간의 포인트에 가까운 분자를 만든다. 또는 벡터에 적절한 양의 무작위 노이즈를 추가하여 근처의 latent space의 분자를 탐색할 수 있다."
      ]
    },
    {
      "cell_type": "markdown",
      "metadata": {
        "id": "i5GjGWYSd4N_",
        "colab_type": "text"
      },
      "source": [
        "다양한 인코더-디코더 아키텍처가 제안되었고 인코더 출력 기능은 가변 오토인코더 (variational autoencoders)와 적성 오토인코더(adversarial autoencoders) 를 사용하여 정규화 또는 조작되었다.    \n",
        "두 개의 합성곱 신경망(CNNs)과 T순환신경망(RNNs)은 모두 인코더 부분에 사용되어 왔으며, 디코더 부분은 대부분 게이트 반복 단위(GRU) 또는 장기 기억 세포(LSTM) 를 가진 RNN을 기반으로 하여 더 긴 시퀀스 메모리를 사용하였다.  "
      ]
    },
    {
      "cell_type": "markdown",
      "metadata": {
        "id": "yEZhF9cXfdxC",
        "colab_type": "text"
      },
      "source": [
        "---------"
      ]
    },
    {
      "cell_type": "markdown",
      "metadata": {
        "id": "sixJoMpWe74o",
        "colab_type": "text"
      },
      "source": [
        "**여기서 SMILES String에 기초한 오토엔코더는 동일한 근본적인 문제에 직면해 있다.   \n",
        "latent space는 분자를 나타내는 것인가 아니면 분자를 나타내는 SMILES string의 응축된 표현일까?**"
      ]
    },
    {
      "cell_type": "markdown",
      "metadata": {
        "id": "2oisPzMegmTe",
        "colab_type": "text"
      },
      "source": [
        "<그림1>"
      ]
    },
    {
      "cell_type": "markdown",
      "metadata": {
        "id": "yUbbB1JSYpkf",
        "colab_type": "text"
      },
      "source": [
        "![대체 텍스트](https://www.ncbi.nlm.nih.gov/pmc/articles/PMC6316879/bin/biomolecules-08-00131-g001.jpg)"
      ]
    },
    {
      "cell_type": "markdown",
      "metadata": {
        "id": "9nrBlJyofg6k",
        "colab_type": "text"
      },
      "source": [
        "SMILES 언어 규칙으로 인해 여러 개의 다른 SMILES가 동일한 분자를 나타낼 수 있다.\n",
        "  \n",
        "이는 SMILES 열거 기법으로 데이터 확대로 이용되었다. 동일한 분자의 서로 다른 SMILES 표현을 가진 간단한 challenge는 사용되는 특정 SMILES 형태 때문에 동일한 분자가 latent space의 다른 부분에 있게 된다는 것을 보여준다.\n",
        "\n",
        "  \n",
        " <그림 1>은 RNN 자동인코더에 RNN의 잠재 공간에 투영한 후 동일한 세 개의 분자를 보여준다. 분자의 서로 다른 SMILES 표시는 일부 군집화가 관찰될 수 있지만, 결국 latent space의 매우 다른 영역에 투영된다. 따라서 latent space는 특정 SMILES strings 에 대한 정보도 포함하고 있으며, 이전에 언급했던 분자뿐만 아니라 이 과제를 해결하는 한 가지 방법은 분자 생성을 위해 특수 엔지니어링된 네트워크와 그래프 기반 접근법을 사용하는 것이다.\n",
        "\n",
        " \n"
      ]
    },
    {
      "cell_type": "markdown",
      "metadata": {
        "id": "N31hJzbchND7",
        "colab_type": "text"
      },
      "source": [
        "**결과를 엔지니어링하기 위한 대안으로, SMILES enumeration 혹은 헤테로 인코더 (chemical heteroencoders)을 만들기 위한 화학적 이미지 임베딩( chemception image embedding)을 사용하는것이 가능하다고 제안 됐다.**"
      ]
    },
    {
      "cell_type": "markdown",
      "metadata": {
        "id": "b3-wghSCiQxO",
        "colab_type": "text"
      },
      "source": [
        "<그림2>"
      ]
    },
    {
      "cell_type": "markdown",
      "metadata": {
        "id": "jfs_x8bPiO6n",
        "colab_type": "text"
      },
      "source": [
        "![대체 텍스트](https://www.ncbi.nlm.nih.gov/pmc/articles/PMC6316879/bin/biomolecules-08-00131-g002.jpg)"
      ]
    },
    {
      "cell_type": "markdown",
      "metadata": {
        "id": "X5jIpTcUiaQP",
        "colab_type": "text"
      },
      "source": [
        "Chemical heteroencoders 는 오토엔코더(autoencoders)와 유사하지만 분자의 한 표현에서 다른 표현으로 번역된다.   \n",
        "톨루엔 분자는 서로 다른 canonocial(정규화된) SMILES 또는 2D 임베딩으로, enumerated(열거화된) SMILES 문자열로 나타낼 수 있다.  \n",
        " 오토엔코더는 canonical SMILES strings(정규화된 스마일 열들)을 잠재된 공간(latent space)으로 변환한다(파란색 화살표).   \n",
        "반면에, heteroencoders(녹색 화살표)에는 더 많은 가능성이 존재한다.  "
      ]
    },
    {
      "cell_type": "markdown",
      "metadata": {
        "id": "faFdeGQPjp1j",
        "colab_type": "text"
      },
      "source": [
        "#2.결과"
      ]
    },
    {
      "cell_type": "markdown",
      "metadata": {
        "id": "PHqD7Sdjj1kJ",
        "colab_type": "text"
      },
      "source": [
        "##2.1. GDB-8 Dataset Based Models"
      ]
    },
    {
      "cell_type": "markdown",
      "metadata": {
        "id": "FzHleYolomOb",
        "colab_type": "text"
      },
      "source": [
        "모든 모델은 full convergence를 위해 훈련되었고, 훈련과 테스트의 유사한 손실 함수 값을 얻었으며 이 값들은 아래  *Tabel 1* 에 나타나 있다.<br>\n",
        "열거된 SMILES output에 대해 훈련된 모델들은 최종 손실이 현저하게 크지만, 테스트 세트로부터 계산된 latent space 벡터를 샘플링할 때는 모두 낮은 수준의 잘못된 SMILES를 보인다."
      ]
    },
    {
      "cell_type": "markdown",
      "metadata": {
        "id": "oJKdbSl6ka02",
        "colab_type": "text"
      },
      "source": [
        "![대체 텍스트](https://github.com/JungMinNoh/capture/blob/master/1.PNG?raw=true)\n",
        "\n",
        "**GDB-8 데이터 세트의 서로 다른 입출력 표현에 대해 훈련된 모델의 속성**"
      ]
    },
    {
      "cell_type": "markdown",
      "metadata": {
        "id": "ntKoISvuosvO",
        "colab_type": "text"
      },
      "source": [
        "\n",
        "\n",
        "##2.1.1. Molecular and Sequence Similarity"
      ]
    },
    {
      "cell_type": "markdown",
      "metadata": {
        "id": "UvFKW_bpo1cM",
        "colab_type": "text"
      },
      "source": [
        "동일한 기준 분자를 사용하여 유사도를 계산한 후(테스트 세트의 latent space 벡터, Morgan fingerprint, 시퀀스 alignment scores를 기반으로) , 상관 계수($R^2$)를 계산했다.<br>\n",
        "\n",
        "두 개의 다른 배열의 SMILES의 예가 <그림 3>에 나타나 있다. <br>"
      ]
    },
    {
      "cell_type": "markdown",
      "metadata": {
        "id": "xp6HWNaKmxzO",
        "colab_type": "text"
      },
      "source": [
        "![대체 텍스트](https://github.com/JungMinNoh/capture/blob/master/%EC%BA%A1%EC%B2%982.PNG?raw=true)"
      ]
    },
    {
      "cell_type": "markdown",
      "metadata": {
        "id": "F2yD0qopf3JC",
        "colab_type": "text"
      },
      "source": [
        "<br>\n",
        "<그림 4> 는 테스트 세트에서 첫 번째 분자와 나머지 분자의 alignment scores와 latent space 유사성에 대한 산점도를 예시로 보여준다."
      ]
    },
    {
      "cell_type": "markdown",
      "metadata": {
        "id": "A70b04bZm61v",
        "colab_type": "text"
      },
      "source": [
        "![대체 텍스트](https://github.com/JungMinNoh/capture/blob/master/%EC%BA%A1%EC%B2%983.PNG?raw=true)"
      ]
    },
    {
      "cell_type": "markdown",
      "metadata": {
        "id": "kaG3g0M5fxbc",
        "colab_type": "text"
      },
      "source": [
        "<br>\n",
        "동일한 latent space의 유사성과 Morgan fingerprint 유사성 사이의 상관관계는 SMILES 문자열과 무관하며, 예시 산점도는 <그림 5> 와 같다."
      ]
    },
    {
      "cell_type": "markdown",
      "metadata": {
        "id": "jggD0uGjm_b8",
        "colab_type": "text"
      },
      "source": [
        "![대체 텍스트](https://github.com/JungMinNoh/capture/blob/master/%EC%BA%A1%EC%B2%984.PNG?raw=true)"
      ]
    },
    {
      "cell_type": "markdown",
      "metadata": {
        "id": "SHFYBLFqf_gf",
        "colab_type": "text"
      },
      "source": [
        "시퀀스 alignment score와 fingerprint 기반 유사성 둘 다 latent space 유사성과 상관관계를 가지고 있는데, 이는 latent space가 적어도 분자간 유사성에 대한 우리의 일반적인 이해와 어떻게든 관련이 있음을 보여준다.<br><br>\n",
        "GDB-8 데이터 세트에서 훈련된 모든 모델의 특성과 상관관계는 위의 <Table 1> 에 수록되어 있다.<br>\n",
        "\n",
        "표준 SMILES에 대해 훈련된 디코더가 있는 모델은 fingerprint 유사성과 latent space사이의 상관관계보다 latent space와 SMILES 시퀀스 유사성 메트릭 간의 상관관계가 현저하게 더 크다. 이와는 대조적으로 디코더를 열거된 SMILES를 사용하여 훈련할 때, fingerprint와 시퀀스 유사성은 latent space 유사성과 더 비슷한 수준에 있다. 분자의 이미지 embedding에 기초한 hetero encoder는 가장 낮은 연관성을 가지며, 현저하게 다른 latent space를 나타낸다."
      ]
    },
    {
      "cell_type": "markdown",
      "metadata": {
        "id": "eeXStKrKo40i",
        "colab_type": "text"
      },
      "source": [
        "아래의 그림 두 개는 쿼리 분자를 사용하여 테스트 세트의 latent space에서 유사성을 찾아낸 결과를 나타낸다.<br>\n",
        "can2enum 모델<그림 7>의 분자들은 can2can 모델<그림 6> latent space의 분자들보다 더 유사해 보인다. 두 세트 사이에 겹치는 부분이 있기 때문에, 어떤 부분에서는 두 latent space가 연관되어 있다."
      ]
    },
    {
      "cell_type": "markdown",
      "metadata": {
        "id": "DddT7bsYnHRj",
        "colab_type": "text"
      },
      "source": [
        "![대체 텍스트](https://github.com/JungMinNoh/capture/blob/master/%EC%BA%A1%EC%B2%985.PNG?raw=true)"
      ]
    },
    {
      "cell_type": "markdown",
      "metadata": {
        "id": "o6ffBoJsnMHl",
        "colab_type": "text"
      },
      "source": [
        "![대체 텍스트](https://github.com/JungMinNoh/capture/blob/master/%EC%BA%A1%EC%B2%986.PNG?raw=true)"
      ]
    },
    {
      "cell_type": "markdown",
      "metadata": {
        "id": "JbtWqDCko_-B",
        "colab_type": "text"
      },
      "source": [
        "##2.1.2. Error Analysis"
      ]
    },
    {
      "cell_type": "markdown",
      "metadata": {
        "id": "1Okn-571pEEz",
        "colab_type": "text"
      },
      "source": [
        "일반적으로 모델은 큰 비율의 유효 SMILES를 만든다<Table 1>.\n",
        "그러나 입력과 출력에 열거값을 사용하면 디코딩된 분자가 인코딩된 분자와 같지 않은 출력의 비율이 크게 증가한다.<br>\n",
        "<그림 8>은 can2enum 모델에 대한 오류 유형과 중첩을 보여준다.\n",
        "<br>\n",
        "테스트에 사용된 1000개 중 494개의 분자는 유효한 SMILES였지만 입력 분자와는 동일하지 않았다. 또한 220개의 scaffold, 42개의 화학식 총합, 14개의 결합형태나 결합 수가 잘못되었다. 대다수(251개)는 맞는 scaffold, 맞는 원자와 정확한 결합을 가지고 있지만, 겉보기에는 분자를 잘못된 순서로 합한 것처럼 보였다. 결합 형태와 원자는 원칙적으로 SMILES의 독립적 작업이며, 모델들은 SMILES 배열의 영향을 받는 scaffold 재현과 원자 순서에 더 많은 어려움을 겪는다. 다른 hetero encoder 모델들의 결과도 유사하다."
      ]
    },
    {
      "cell_type": "markdown",
      "metadata": {
        "id": "xpB8FDXpnRC4",
        "colab_type": "text"
      },
      "source": [
        "![대체 텍스트](https://github.com/JungMinNoh/capture/blob/master/%EC%BA%A1%EC%B2%987.PNG?raw=true)"
      ]
    },
    {
      "cell_type": "markdown",
      "metadata": {
        "id": "Ne2oFrpUpGO5",
        "colab_type": "text"
      },
      "source": [
        "##2.1.3. Enumeration Challenge"
      ]
    },
    {
      "cell_type": "markdown",
      "metadata": {
        "id": "Hi3uSNGspJjD",
        "colab_type": "text"
      },
      "source": [
        "인코더가 같은 분자의 서로 다른 SMILES를 처리하는 기능은 PCA 감소에 대해서 latent space를 나타내어 테스트했다(c.f. 그림 1).<br>\n",
        "\n",
        "<그림 9>는 인코더와 디코더 중 하나에 대해 SMILES를 사용하여 hetero encoder를 훈련시킴으로써 향상되는 것을 보여준다. \n",
        "SMILES strings를 사용하여 인코더를 훈련시키면 가장 엄격한 클러스터링(enum2can)이 주어지며, 인코더가 SMILES string의 실제 직렬화(객체를 데이터 스트림으로)과정에서 독립적으로 동일한 분자를 인식하는 법을 배웠음을 알 수 있다. 훈련 과정 중 인코더에 여러개의 다른 SMILES string을 보여줌으로써, 인코더는 인코더에 표시된 SMILES 형태에 관계 없이 디코더의 SMILES 형태를 재현하는 데 가장 적합한 latent space 좌표를 생성할 수 있다. enum2enum 모델도 유사하다.<br>\n",
        "또한 can2enum 모델은 <그림 1>의 can2can 모델보다 더 빽빽한 클러스터링을 보여주는데, 이는 인코더 자체는 서로 다른 SMILES 형태로 훈련되지 않았지만 heteroencoding 자체가 latent space를 변경한다는 것을 보여준다. 그 대신에 이 모델은 더 복잡한 작업을 수행하고 있다."
      ]
    },
    {
      "cell_type": "markdown",
      "metadata": {
        "id": "tqBSISf5nUxH",
        "colab_type": "text"
      },
      "source": [
        "![대체 텍스트](https://github.com/JungMinNoh/capture/blob/master/%EC%BA%A1%EC%B2%988.PNG?raw=true)"
      ]
    },
    {
      "cell_type": "markdown",
      "metadata": {
        "id": "9g8EhpSBpNEZ",
        "colab_type": "text"
      },
      "source": [
        "##2.1.4. Sampling Using Probability Distribution"
      ]
    },
    {
      "cell_type": "markdown",
      "metadata": {
        "id": "kGVhwaAFpRL_",
        "colab_type": "text"
      },
      "source": [
        "<그림 10>은 can2can과 can2enum 모델의 샘플링 차이를 보여준다. 디코더는 각 단계에서 확률 분포를 출력하며, 확률에 따라 무작위로 샘플링할 수 있다(다항 샘플링).<br>\n",
        "can2can 모델의 경우, 이 샘플링 전략과 가장 확률이 높은 다음 문자 선택 사이에는 거의 차이가 없다. <br>\n",
        "can2enum 모델은 샘플링 시작 시 다음 문자에 훨씬 더 큰 불확실성을 보여준다. 첫 번째 문자는 \"C\"일 가능성이 가장 높지만 \"N\"과 \"F\"도 가능하다. 모델이 \"C\"를 샘플링할 때, 다음 문자는 분기(branching)의 \"C\", \"(\", 또는 고리 시작의 \"1\"이다. 그 다음에 \"C\"를 샘플링하기 때문에, 다음에 고리의 시작을 선택해야 한다. 샘플링이 끝날때쯤, 디코더는 앞에 샘플링된 것들로 분자를 완성할 수 있는 유일한 방법이 있기 때문에 마지막 여섯 문자로 완전히 정확해진다.<br>"
      ]
    },
    {
      "cell_type": "markdown",
      "metadata": {
        "id": "-Xtn_yX5ncN3",
        "colab_type": "text"
      },
      "source": [
        "![대체 텍스트](https://github.com/JungMinNoh/capture/blob/master/%EC%BA%A1%EC%B2%989.PNG?raw=true)"
      ]
    },
    {
      "cell_type": "markdown",
      "metadata": {
        "id": "gBEM2Ezcwgux",
        "colab_type": "text"
      },
      "source": [
        "*Table 2* 는 단일 분자의 latent 좌표를 이용해 샘플링된 분자에 대한 몇 가지 통계를 보여준다. <br>\n",
        "인코더와 디코더 모두에서 정규화된 SMILES에 대해 훈련된 모델은 하나의 SMILES 형태와 하나의 분자가 샘플링되기 때문에, 재생성하고자 하는 SMILES에 매우 정확하다.<br>\n",
        "이와는 대조적으로 열거된 SMILES로 훈련된 디코더는 같은 분자의 다른 SMILES 형태를 생성하지만 다른 분자도 생성한다.<br>"
      ]
    },
    {
      "cell_type": "markdown",
      "metadata": {
        "id": "rtV53bJtnhkD",
        "colab_type": "text"
      },
      "source": [
        "![대체 텍스트](https://github.com/JungMinNoh/capture/blob/master/%EC%BA%A1%EC%B2%9811.PNG?raw=true)"
      ]
    },
    {
      "cell_type": "markdown",
      "metadata": {
        "id": "fmSZvofLwz3c",
        "colab_type": "text"
      },
      "source": [
        "2개의 LSTM 레이어가 있는 보다 복잡한 모델은 단일 레이어 버전보다 작업을 조금 더 잘 처리한다. 2층 모델에서 샘플링된 분자의 예는 <그림 11>에 나타나 있다."
      ]
    },
    {
      "cell_type": "markdown",
      "metadata": {
        "id": "7ZGzHiW4nl8K",
        "colab_type": "text"
      },
      "source": [
        "\n",
        "\n",
        "![대체 텍스트](https://github.com/JungMinNoh/capture/blob/master/%EC%BA%A1%EC%B2%9810.PNG?raw=true)"
      ]
    },
    {
      "cell_type": "markdown",
      "metadata": {
        "id": "pQrm4i1lpT1e",
        "colab_type": "text"
      },
      "source": [
        "##2.2. QSAR Modelling Using ChEMBL Trained Heteroencoders"
      ]
    },
    {
      "cell_type": "markdown",
      "metadata": {
        "id": "jzrVadSMpYbh",
        "colab_type": "text"
      },
      "source": [
        "QSAR 모델을 만들기 위한 전체 단계는 <그림 12>에 나타나 있다. ChEMBL 데이터 세트에 사용된 인코더-디코더 모델의 훈련으로, 훈련 세트의 can2can, enum2enum 및 enum2enum 대해 각각 약 0.001, 0.01, 0.10, 0.11의 최종 손실이 발생했다.<br>"
      ]
    },
    {
      "cell_type": "markdown",
      "metadata": {
        "id": "nj36mHwwnr-p",
        "colab_type": "text"
      },
      "source": [
        "![대체 텍스트](https://github.com/JungMinNoh/capture/blob/master/%EC%BA%A1%EC%B2%9812.PNG?raw=true)"
      ]
    },
    {
      "cell_type": "markdown",
      "metadata": {
        "id": "8IdUlQ_zyeue",
        "colab_type": "text"
      },
      "source": [
        "다양한 인코더/디코더 구성의 재구성 성능은 *Table 3* 에 제시되어 있다.<br>\n",
        "ECFP4 fingerprint와 세 개의 서로 다른 신경망 모델의 코드 층에서 얻은 다른 벡터들에 기초하여 수행된 QSAR 모델링의 성능은 *Table 4* 와 같다.<br><br>\n",
        "\n",
        "ECFP 기반 베이스라인 모델에서 can2can 벡터 기반 모델로의 약간의 개선이 있으며, hetero encoder로 인코딩된 latent 벡터에 기초한 모델에 대한 추가 개선도 있다. \n",
        "세 개의 서로 다른 hetero encoder들은 QSAR 모델링에서 서로 매우 유사한 latent 벡터를 생성하는 것처럼 보이며, 평균 성능은 can2can에서 enum2enum으로 상승하는 경향이 있다."
      ]
    },
    {
      "cell_type": "markdown",
      "metadata": {
        "id": "Cnq6NTpkn0WK",
        "colab_type": "text"
      },
      "source": [
        "![대체 텍스트](https://github.com/JungMinNoh/capture/blob/master/%EC%BA%A1%EC%B2%9813.PNG?raw=true)"
      ]
    },
    {
      "cell_type": "markdown",
      "metadata": {
        "id": "COYMujsen3bw",
        "colab_type": "text"
      },
      "source": [
        "![대체 텍스트](https://github.com/JungMinNoh/capture/blob/master/%EC%BA%A1%EC%B2%9814.PNG?raw=true)"
      ]
    },
    {
      "cell_type": "markdown",
      "metadata": {
        "id": "caLMvHq9pbyO",
        "colab_type": "text"
      },
      "source": [
        "흥미로운 점은 각 구성에 대한 코드층의 뉴런의 약 40%가 활성화되지 않는다는 것이다. 이는 ReLU 활성화함수의 사용과 관련이 있을 수 있으며, 코드 층을 줄이거나 늘리면 거의 같은 비율의 비활성 뉴런이 발생한다. 그러므로 latent 벡터는 선택된 수의 뉴런보다 더 빽빽하다."
      ]
    },
    {
      "cell_type": "markdown",
      "metadata": {
        "id": "rtd1FSFDXnV5",
        "colab_type": "text"
      },
      "source": [
        "# Transformer"
      ]
    },
    {
      "cell_type": "markdown",
      "metadata": {
        "id": "F189zx9fXyPu",
        "colab_type": "text"
      },
      "source": [
        "기존 인코더 디코더 모델을 발전시킨 모델\n",
        "가장큰 차이점은 RNN을 사용하지 않는다\n",
        "트랜스 포머는 기존 RNN\n",
        "기반 인코더 디코더보다 학습속도와 정화도 부분에서 뛰어나 관심을 많이 끌었다.\n",
        "\n",
        "트랜스 포머가 빠른이유가 무엇인가. 바로 트랜스포머는 RNN을 사용하지 않는데에 있다. = 병렬화\n",
        "RNN이 처음 입력된 단어를 시작하여 하나하나 계산하여서 하는방면 트랜스포머는 한번에 처리한다.\n",
        "\n",
        "아래는 전통적인 RNN 기반 인코더 디코더"
      ]
    },
    {
      "cell_type": "markdown",
      "metadata": {
        "id": "G0lx4ASYWXhA",
        "colab_type": "text"
      },
      "source": [
        "![대체 텍스트](https://github.com/dockhs1313/19-lab/blob/master/%EA%B3%B5%EC%A0%84%EC%9D%91%20%EA%B8%B0%EB%A7%90%20%ED%8C%80%ED%94%8C/%EC%82%AC%EC%A7%84/1.PNG?raw=true)"
      ]
    },
    {
      "cell_type": "markdown",
      "metadata": {
        "id": "XYtPHLLtX9vL",
        "colab_type": "text"
      },
      "source": [
        "트랜스포머는 한번의 연산으로 각 단어의 중요 정보들을 인코딩을 하게 됩니다.\n",
        "디코더부분에서는 'start' 부터 'end'까지 순차적으로 디코딩을 하고있다. 이를 보면\n",
        "기존에 전통적인 인코더 디코더의 컨셉을 간직하고 있다."
      ]
    },
    {
      "cell_type": "markdown",
      "metadata": {
        "id": "l4YrLVclWl5J",
        "colab_type": "text"
      },
      "source": [
        "![대체 텍스트](https://github.com/dockhs1313/19-lab/blob/master/%EA%B3%B5%EC%A0%84%EC%9D%91%20%EA%B8%B0%EB%A7%90%20%ED%8C%80%ED%94%8C/%EC%82%AC%EC%A7%84/2.PNG?raw=true)"
      ]
    },
    {
      "cell_type": "markdown",
      "metadata": {
        "id": "D5_erDeRWl2j",
        "colab_type": "text"
      },
      "source": [
        "![대체 텍스트](https://github.com/dockhs1313/19-lab/blob/master/%EA%B3%B5%EC%A0%84%EC%9D%91%20%EA%B8%B0%EB%A7%90%20%ED%8C%80%ED%94%8C/%EC%82%AC%EC%A7%84/3.PNG?raw=true)"
      ]
    },
    {
      "cell_type": "markdown",
      "metadata": {
        "id": "hCy02aS1YHg_",
        "colab_type": "text"
      },
      "source": [
        "자연어 처리에서 문장을 처리할때 실제 단어의 위치 및 순서는 상당히 중요하다\n",
        "\n",
        "RNN이 단어의 위치와 순서정보를 잘 활용하는건데 없다면 어떻게 될까?"
      ]
    },
    {
      "cell_type": "markdown",
      "metadata": {
        "id": "oCiVSG9NWlz_",
        "colab_type": "text"
      },
      "source": [
        "![대체 텍스트](https://github.com/dockhs1313/19-lab/blob/master/%EA%B3%B5%EC%A0%84%EC%9D%91%20%EA%B8%B0%EB%A7%90%20%ED%8C%80%ED%94%8C/%EC%82%AC%EC%A7%84/4.PNG?raw=true)"
      ]
    },
    {
      "cell_type": "markdown",
      "metadata": {
        "id": "2dn5DCVrYK-G",
        "colab_type": "text"
      },
      "source": [
        "정답은 포지션널 인코딩이다. 이는 인코더와 디코더의 값마다 상대적인 위치 정보를 더해주는 기술이다.\n",
        "포지셔널 인코딩은 사인 코사인을 이용한다. 장점은 \n",
        "1. 항상 -1~1사이의 값이 나온다. \n",
        "2. 학습중인 길이의 정보보다 더 긴 정보가 들어와도 에러없이 상대적인 인코딩 값을 준다."
      ]
    },
    {
      "cell_type": "markdown",
      "metadata": {
        "id": "Q1E9EcAKs7QK",
        "colab_type": "text"
      },
      "source": [
        "##Positional Encoding"
      ]
    },
    {
      "cell_type": "markdown",
      "metadata": {
        "id": "-kIaiA4AtKvh",
        "colab_type": "text"
      },
      "source": [
        "![대체 텍스트](https://miro.medium.com/max/262/1*yWGV9ck-0ltfV2wscUeo7Q.png)\n",
        "![대체 텍스트](https://miro.medium.com/max/282/1*SgNlyFaHH8ljBbpCupDhSQ.png)"
      ]
    },
    {
      "cell_type": "markdown",
      "metadata": {
        "id": "1AgwPwiiWlx_",
        "colab_type": "text"
      },
      "source": [
        "![대체 텍스트](https://github.com/dockhs1313/19-lab/blob/master/%EA%B3%B5%EC%A0%84%EC%9D%91%20%EA%B8%B0%EB%A7%90%20%ED%8C%80%ED%94%8C/%EC%82%AC%EC%A7%84/5.PNG?raw=true)"
      ]
    },
    {
      "cell_type": "markdown",
      "metadata": {
        "id": "fcrWHqkrYPj4",
        "colab_type": "text"
      },
      "source": [
        "## Self attention"
      ]
    },
    {
      "cell_type": "markdown",
      "metadata": {
        "id": "oVWFMrV0YWfp",
        "colab_type": "text"
      },
      "source": [
        "Query, Key, Value는 행렬의 곱으로 한번에 구할수 있으며 벡터의 형태이다.\n",
        "\n",
        "어떤 단어와의 상관관계를 구할때 Query에 Key 값을 곱해준다.\n",
        "\n",
        "Query와 Key를 곱한 값은 어텐션 스코어라고 한다.\n",
        "\n",
        "이숫자가 높을수록 연관성이 높다. 이를 소프트맥스를 적용한다."
      ]
    },
    {
      "cell_type": "markdown",
      "metadata": {
        "id": "B1-knPgPWlwF",
        "colab_type": "text"
      },
      "source": [
        "![대체 텍스트](https://github.com/dockhs1313/19-lab/blob/master/%EA%B3%B5%EC%A0%84%EC%9D%91%20%EA%B8%B0%EB%A7%90%20%ED%8C%80%ED%94%8C/%EC%82%AC%EC%A7%84/6.PNG?raw=true)"
      ]
    },
    {
      "cell_type": "markdown",
      "metadata": {
        "id": "1jq4rI4CWluR",
        "colab_type": "text"
      },
      "source": [
        "![대체 텍스트](https://github.com/dockhs1313/19-lab/blob/master/%EA%B3%B5%EC%A0%84%EC%9D%91%20%EA%B8%B0%EB%A7%90%20%ED%8C%80%ED%94%8C/%EC%82%AC%EC%A7%84/7.PNG?raw=true)"
      ]
    },
    {
      "cell_type": "markdown",
      "metadata": {
        "id": "Qg0G-N6zYbax",
        "colab_type": "text"
      },
      "source": [
        "이 스코어와 Value값을 곱해준다. 값이 낮을 수록 희미해짐을 볼 수 있는데 이는 연관성이 떨어짐을 의미한다.\n",
        "이를 다 더하면 하나의 값이 나오는데 이 값은 단어 'I'가 아닌 이 문장 속에서 단어 'I'가 지닌 전체적인 의미를 지닌 벡터이다.\n",
        "단어 임베딩은 벡터이므로 행렬로 표시할 수가 있다. 단어 Query, Key, Value 가 모두 행렬이므로 어텐션 연산은 한번 연산으로 계산할 수 있다."
      ]
    },
    {
      "cell_type": "markdown",
      "metadata": {
        "id": "_4A5ekEhWlsH",
        "colab_type": "text"
      },
      "source": [
        "![대체 텍스트](https://github.com/dockhs1313/19-lab/blob/master/%EA%B3%B5%EC%A0%84%EC%9D%91%20%EA%B8%B0%EB%A7%90%20%ED%8C%80%ED%94%8C/%EC%82%AC%EC%A7%84/8.PNG?raw=true)"
      ]
    },
    {
      "cell_type": "markdown",
      "metadata": {
        "id": "MUImjKU4Yegk",
        "colab_type": "text"
      },
      "source": [
        "트랜스 포머는 attention layer를 한번에 6개를 수행하는 Multi-head attention이다. 그림에서는 간단히 3개를 표시했다.\n",
        "이 multu head attention을 수행하면서 얻는 이점은 무엇일까? 유명한 예제를 참고해보자"
      ]
    },
    {
      "cell_type": "markdown",
      "metadata": {
        "id": "h4lfObg1WloL",
        "colab_type": "text"
      },
      "source": [
        "![대체 텍스트](https://github.com/dockhs1313/19-lab/blob/master/%EA%B3%B5%EC%A0%84%EC%9D%91%20%EA%B8%B0%EB%A7%90%20%ED%8C%80%ED%94%8C/%EC%82%AC%EC%A7%84/9.PNG?raw=true)"
      ]
    },
    {
      "cell_type": "markdown",
      "metadata": {
        "id": "BcQjceTUYg0x",
        "colab_type": "text"
      },
      "source": [
        "이러한 문장이 있다 The animal didn't cross the street because it was too tired. 여기서 it은 무엇을 의미할까\n",
        "이 애매한 문장에서 2개의 다른 attention이 it 하고 연관이 있는 단어에 포커싱을 하고있다.\n",
        "첫번째 attention은 animal에 포커싱을 맞추었고 다른하나는 tired 에 포커싱을 맞추었다.\n",
        "이런 모호한 문장을 여러 attention을 사용하여 문제점을 보완해 나가는게 multi head attention의 장점이다."
      ]
    },
    {
      "cell_type": "markdown",
      "metadata": {
        "id": "TkeNZmB6Wll8",
        "colab_type": "text"
      },
      "source": [
        "![대체 텍스트](https://github.com/dockhs1313/19-lab/blob/master/%EA%B3%B5%EC%A0%84%EC%9D%91%20%EA%B8%B0%EB%A7%90%20%ED%8C%80%ED%94%8C/%EC%82%AC%EC%A7%84/10.PNG?raw=true)"
      ]
    },
    {
      "cell_type": "markdown",
      "metadata": {
        "id": "DgUBo6y4YjTv",
        "colab_type": "text"
      },
      "source": [
        "인코더의 전반적인 구조를 살펴보면 multi head attention을 통해 나온 벡터들을 이어붙여 새로운 벡터와 곱해져\n",
        "기존 워드 임베딩과 같은 차원을 갖는 벡터로 출력이 된다. 각각의 벡터는 Fullyconnected vector를 통해 입력과 동일한 벡터로 출력된다."
      ]
    },
    {
      "cell_type": "markdown",
      "metadata": {
        "id": "r0fL-b__WlkD",
        "colab_type": "text"
      },
      "source": [
        "![대체 텍스트](https://github.com/dockhs1313/19-lab/blob/master/%EA%B3%B5%EC%A0%84%EC%9D%91%20%EA%B8%B0%EB%A7%90%20%ED%8C%80%ED%94%8C/%EC%82%AC%EC%A7%84/11.PNG?raw=true)"
      ]
    },
    {
      "cell_type": "markdown",
      "metadata": {
        "id": "MN3A0oT6Ytec",
        "colab_type": "text"
      },
      "source": [
        "워드 임베딩에 포지셔널 어텐션을 더해주는데 역전파에 의해 이 포지셔널 인코딩이 많이 손실될 수가 있다.\n",
        "이를 보완하기 위해 residual connection으로 입력된 값을 다시한번 더해준다.\n",
        "\n",
        "이게바로 인코더 블럭인데 입력 값과 출력 값이 같다보니 인코더 레여를 여러개 붙여서 사용할 수있다.\n",
        "실제 트랜스포머 인코더는 6개를 이어붙인 구조인데 각각의 인코더는 서로의 가중치를 공유하지 않고 따로 학습 시킨다."
      ]
    },
    {
      "cell_type": "markdown",
      "metadata": {
        "id": "Q04Qkm5SWlgK",
        "colab_type": "text"
      },
      "source": [
        "![대체 텍스트](https://github.com/dockhs1313/19-lab/blob/master/%EA%B3%B5%EC%A0%84%EC%9D%91%20%EA%B8%B0%EB%A7%90%20%ED%8C%80%ED%94%8C/%EC%82%AC%EC%A7%84/12.PNG?raw=true)"
      ]
    },
    {
      "cell_type": "markdown",
      "metadata": {
        "id": "3cC-Px-1Y9wS",
        "colab_type": "text"
      },
      "source": [
        "인코더와 상당히 유사하게 생겼다. 첫 단어부터 끝 단어까지 순차적으로 번역한다. \n",
        "디코더는 인코더에서와 같이 병렬 어텐션 구조를 적극 활용한다."
      ]
    },
    {
      "cell_type": "markdown",
      "metadata": {
        "id": "9FWXVAArWleJ",
        "colab_type": "text"
      },
      "source": [
        "![대체 텍스트](https://github.com/dockhs1313/19-lab/blob/master/%EA%B3%B5%EC%A0%84%EC%9D%91%20%EA%B8%B0%EB%A7%90%20%ED%8C%80%ED%94%8C/%EC%82%AC%EC%A7%84/13.PNG?raw=true)"
      ]
    },
    {
      "cell_type": "markdown",
      "metadata": {
        "id": "E3oCpmSNY8YZ",
        "colab_type": "text"
      },
      "source": [
        ""
      ]
    },
    {
      "cell_type": "markdown",
      "metadata": {
        "id": "AOU-0YEQWlRI",
        "colab_type": "text"
      },
      "source": [
        "![대체 텍스트](https://github.com/dockhs1313/19-lab/blob/master/%EA%B3%B5%EC%A0%84%EC%9D%91%20%EA%B8%B0%EB%A7%90%20%ED%8C%80%ED%94%8C/%EC%82%AC%EC%A7%84/14.PNG?raw=true)"
      ]
    },
    {
      "cell_type": "markdown",
      "metadata": {
        "id": "o7stDRQ_Y3_M",
        "colab_type": "text"
      },
      "source": [
        "인코더에는 multi head attention, feed forward layer, residual connection 디코더는 인코더와 상당히 유사한 구조를 지니고있지만\n",
        "몇가지 차이점이 있다.\n",
        "1. Masked Multi head attention - masked(지금까지 출력된 값에만 attention을 적용하기 위하여 붙여짐)\n",
        "2. Multi head attention - 인코더와 같이 key, value, query값을 사용하나 디코더의 입력값을 query로 사용하고 인코더의 최종 출력값을 key와 query로 사용한다.\n",
        "3. feed forward를 통해서 값을 출력한다."
      ]
    },
    {
      "cell_type": "markdown",
      "metadata": {
        "id": "mhDYrwMzXfqF",
        "colab_type": "text"
      },
      "source": [
        "![대체 텍스트](https://github.com/dockhs1313/19-lab/blob/master/%EA%B3%B5%EC%A0%84%EC%9D%91%20%EA%B8%B0%EB%A7%90%20%ED%8C%80%ED%94%8C/%EC%82%AC%EC%A7%84/15.PNG?raw=true)"
      ]
    },
    {
      "cell_type": "markdown",
      "metadata": {
        "id": "QJBl0n_LY2cJ",
        "colab_type": "text"
      },
      "source": [
        "Linear layer은 softmax 입력값으로 들어갈 logit을 생성한다. Softmax는 이를 확률로 바꾸어준다.\n",
        "트랜스포머는 마지막에 Label Smoothing이라는 기술을 사용해 모델의 퍼포먼스를 한단계 업그레이드 시킨다.\n",
        "보통 딥러닝 모델을 소프트맥스로 학습할 경우에는 레이블을 원핫인코딩으로 전환해주는데 0이 아니지만 0에 가깝고 1에 가깝지만 1이아닌 값으로 변환시켜준다.\n",
        "모델이 학습시 모델이 너무 학습데이터에 치중하지 못하도록 방지하는 기술이다. 예를들어 Thank you가 있을 때 '고마워' 와 '감사합니다'로 번역이 될 수 있는데\n",
        "원핫인코딩을 하게 되면 이 상이한 벡터들의 연관성을 찾지 못하고 결국 학습을 잘 하지 못하게 된다."
      ]
    },
    {
      "cell_type": "markdown",
      "metadata": {
        "id": "A9Xiqp4tXhUL",
        "colab_type": "text"
      },
      "source": [
        "![대체 텍스트](https://github.com/dockhs1313/19-lab/blob/master/%EA%B3%B5%EC%A0%84%EC%9D%91%20%EA%B8%B0%EB%A7%90%20%ED%8C%80%ED%94%8C/%EC%82%AC%EC%A7%84/16.PNG?raw=true)"
      ]
    },
    {
      "cell_type": "markdown",
      "metadata": {
        "id": "Bey_-rgXn_v_",
        "colab_type": "text"
      },
      "source": [
        "#참고 문헌"
      ]
    },
    {
      "cell_type": "markdown",
      "metadata": {
        "id": "MsuudKRyoDlR",
        "colab_type": "text"
      },
      "source": [
        "Improving Chemical Autoencoder Latent Space and Molecular De Novo Generation Diversity with Heteroencoders - Esben Jannik Bjerrum1,* and Boris Sattarov2\n",
        "\n",
        "https://www.ncbi.nlm.nih.gov/pmc/articles/PMC6316879/#B1-biomolecules-08-00131\n"
      ]
    },
    {
      "cell_type": "markdown",
      "metadata": {
        "id": "JrQw1HhzoZAz",
        "colab_type": "text"
      },
      "source": [
        "https://www.wildcardconsulting.dk/master-your-molecule-generator-seq2seq-rnn-models-with-smiles-in-keras/"
      ]
    },
    {
      "cell_type": "markdown",
      "metadata": {
        "id": "EGeVZ4BzuLsA",
        "colab_type": "text"
      },
      "source": [
        "https://arxiv.org/pdf/1911.04738.pdf"
      ]
    },
    {
      "cell_type": "code",
      "metadata": {
        "id": "njDEOeKzuL8f",
        "colab_type": "code",
        "colab": {}
      },
      "source": [
        ""
      ],
      "execution_count": 0,
      "outputs": []
    }
  ]
}