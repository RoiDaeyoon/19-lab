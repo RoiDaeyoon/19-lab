{
  "nbformat": 4,
  "nbformat_minor": 0,
  "metadata": {
    "colab": {
      "name": "jtp_Ch02.연습문제.ipynb",
      "provenance": [],
      "include_colab_link": true
    },
    "kernelspec": {
      "name": "python3",
      "display_name": "Python 3"
    }
  },
  "cells": [
    {
      "cell_type": "markdown",
      "metadata": {
        "id": "view-in-github",
        "colab_type": "text"
      },
      "source": [
        "<a href=\"https://colab.research.google.com/github/leegyuhi/19-lab/blob/master/jtp_Ch02_%EC%97%B0%EC%8A%B5%EB%AC%B8%EC%A0%9C.ipynb\" target=\"_parent\"><img src=\"https://colab.research.google.com/assets/colab-badge.svg\" alt=\"Open In Colab\"/></a>"
      ]
    },
    {
      "cell_type": "markdown",
      "metadata": {
        "id": "6TjTEQQk6Tns",
        "colab_type": "text"
      },
      "source": [
        "# 02장 파이썬 프로그래밍의 기초, 자료형\n",
        "\n",
        "### Q1 \n",
        "홍길동 씨의 과목별 점수는 다음과 같다. 홍길동 씨의 평균 점수를 구해 보자."
      ]
    },
    {
      "cell_type": "markdown",
      "metadata": {
        "id": "gNXUVyc98j6x",
        "colab_type": "text"
      },
      "source": [
        "|과목|점수|\n",
        "|----|----|\n",
        "|국어| 80 |\n",
        "|영어| 75 |\n",
        "|수학| 55 |"
      ]
    },
    {
      "cell_type": "code",
      "metadata": {
        "id": "gOuNmgF56b2s",
        "colab_type": "code",
        "outputId": "20a5e843-eb04-44fa-b56e-40b2fa4a981a",
        "colab": {
          "base_uri": "https://localhost:8080/",
          "height": 35
        }
      },
      "source": [
        "a=80\n",
        "b=75\n",
        "c=55\n",
        "(a+b+c)/3"
      ],
      "execution_count": 0,
      "outputs": [
        {
          "output_type": "execute_result",
          "data": {
            "text/plain": [
              "70.0"
            ]
          },
          "metadata": {
            "tags": []
          },
          "execution_count": 7
        }
      ]
    },
    {
      "cell_type": "markdown",
      "metadata": {
        "id": "eM_5_EPJ6vs8",
        "colab_type": "text"
      },
      "source": [
        "### Q2 \n",
        "자연수 13이 홀수인지 짝수인지 판별할 수 있는 방법에 대해 말해 보자."
      ]
    },
    {
      "cell_type": "markdown",
      "metadata": {
        "id": "NofGNXPz85Gp",
        "colab_type": "text"
      },
      "source": [
        "나머지 연산자를 사용하면 자연수의 홀수, 짝수를 쉽게 판별할 수 있다"
      ]
    },
    {
      "cell_type": "code",
      "metadata": {
        "id": "pw20azcS6tN_",
        "colab_type": "code",
        "outputId": "b7a48775-c7c8-4119-8133-0576b5fe7367",
        "colab": {
          "base_uri": "https://localhost:8080/",
          "height": 35
        }
      },
      "source": [
        "13%2"
      ],
      "execution_count": 0,
      "outputs": [
        {
          "output_type": "execute_result",
          "data": {
            "text/plain": [
              "1"
            ]
          },
          "metadata": {
            "tags": []
          },
          "execution_count": 15
        }
      ]
    },
    {
      "cell_type": "markdown",
      "metadata": {
        "id": "e-h_wjmZ7sCS",
        "colab_type": "text"
      },
      "source": [
        "### Q3 \n",
        "홍길동 씨의 주민등록번호는 881120-1068234이다. 홍길동 씨의 주민등록번호를 연월일(YYYYMMDD) 부분과 그 뒤의 숫자 부분으로 나누어 출력해 보자."
      ]
    },
    {
      "cell_type": "markdown",
      "metadata": {
        "id": "IN_8tejD9EHw",
        "colab_type": "text"
      },
      "source": [
        "※ 문자열 슬라이싱 기법을 사용해 보자."
      ]
    },
    {
      "cell_type": "code",
      "metadata": {
        "id": "jJICx5n8661y",
        "colab_type": "code",
        "outputId": "644b352a-1178-4e40-87e1-f64c1f6a18d8",
        "colab": {
          "base_uri": "https://localhost:8080/",
          "height": 53
        }
      },
      "source": [
        "pin = \"881120-1068234\"\n",
        "yyyymmdd = pin[:6]\n",
        "num = pin[7:]\n",
        "print(yyyymmdd)\n",
        "print(num)"
      ],
      "execution_count": 0,
      "outputs": [
        {
          "output_type": "stream",
          "text": [
            "881120\n",
            "1068234\n"
          ],
          "name": "stdout"
        }
      ]
    },
    {
      "cell_type": "markdown",
      "metadata": {
        "id": "Smvv8QB071rL",
        "colab_type": "text"
      },
      "source": [
        "### Q4 \n",
        "주민등록번호 뒷자리의 맨 첫 번째 숫자는 성별을 나타낸다. 주민등록번호에서 성별을 나타내는 숫자를 출력해 보자.\n"
      ]
    },
    {
      "cell_type": "code",
      "metadata": {
        "id": "cJiQx9Di9VKw",
        "colab_type": "code",
        "colab": {}
      },
      "source": [
        "pin = \"881120-1068234\""
      ],
      "execution_count": 0,
      "outputs": []
    },
    {
      "cell_type": "markdown",
      "metadata": {
        "id": "A9eiSb2W9cxw",
        "colab_type": "text"
      },
      "source": [
        "※ 문자열 인덱싱을 사용해 보자."
      ]
    },
    {
      "cell_type": "code",
      "metadata": {
        "id": "-4PSwuVO7VwC",
        "colab_type": "code",
        "outputId": "3bb885ae-10ee-474a-9588-3f18ae1f4a31",
        "colab": {
          "base_uri": "https://localhost:8080/",
          "height": 35
        }
      },
      "source": [
        "print(pin[7])    # 1이면 남자, 2이면 여자"
      ],
      "execution_count": 0,
      "outputs": [
        {
          "output_type": "stream",
          "text": [
            "1\n"
          ],
          "name": "stdout"
        }
      ]
    },
    {
      "cell_type": "markdown",
      "metadata": {
        "id": "_x_kHSP9AxlX",
        "colab_type": "text"
      },
      "source": [
        "성별을 나타내는 숫자는 하이픈을 포함하여 8번째 숫자이므로 8번째 자리를 인덱싱한다."
      ]
    },
    {
      "cell_type": "markdown",
      "metadata": {
        "id": "GfjjMQYe75XO",
        "colab_type": "text"
      },
      "source": [
        "### Q5 \n",
        "다음과 같은 문자열 a:b:c:d가 있다. 문자열의 replace 함수를 사용하여 a#b#c#d로 바꿔서 출력해 보자."
      ]
    },
    {
      "cell_type": "code",
      "metadata": {
        "id": "Avyl2Qj87qT5",
        "colab_type": "code",
        "colab": {}
      },
      "source": [
        "a = \"a:b:c:d\""
      ],
      "execution_count": 0,
      "outputs": []
    },
    {
      "cell_type": "code",
      "metadata": {
        "id": "RYmfumVYAgdn",
        "colab_type": "code",
        "outputId": "de4dab82-cc8e-49e1-ea02-44709b11a59d",
        "colab": {
          "base_uri": "https://localhost:8080/",
          "height": 35
        }
      },
      "source": [
        "a = \"a:b:c:d\"\n",
        "b = a.replace(\":\", \"#\")\n",
        "print(b)"
      ],
      "execution_count": 0,
      "outputs": [
        {
          "output_type": "stream",
          "text": [
            "a#b#c#d\n"
          ],
          "name": "stdout"
        }
      ]
    },
    {
      "cell_type": "markdown",
      "metadata": {
        "id": "oldzLNRh9jRd",
        "colab_type": "text"
      },
      "source": [
        "### Q6 \n",
        "[1, 3, 5, 4, 2] 리스트를 [5, 4, 3, 2, 1]로 만들어 보자.\n",
        "\n",
        "※ 리스트의 내장 함수를 사용해 보자.\n",
        "\n"
      ]
    },
    {
      "cell_type": "code",
      "metadata": {
        "id": "tW6XJ1PY9p-d",
        "colab_type": "code",
        "outputId": "6444daf4-a47f-48e9-f35e-827fd73e44d8",
        "colab": {
          "base_uri": "https://localhost:8080/",
          "height": 35
        }
      },
      "source": [
        "a = [1, 3, 5, 4, 2]\n",
        "a.sort( )\n",
        "a.reverse( )\n",
        "print(a)"
      ],
      "execution_count": 0,
      "outputs": [
        {
          "output_type": "stream",
          "text": [
            "[5, 4, 3, 2, 1]\n"
          ],
          "name": "stdout"
        }
      ]
    },
    {
      "cell_type": "markdown",
      "metadata": {
        "id": "bgJiSmQLA2gP",
        "colab_type": "text"
      },
      "source": [
        "리스트의 내장 함수인 sort를 사용하여 리스트 값들을 먼저 정렬한 후 reverse 함수를 사용하여 순서를 뒤집는다."
      ]
    },
    {
      "cell_type": "markdown",
      "metadata": {
        "id": "IG12e1rs9rsA",
        "colab_type": "text"
      },
      "source": [
        "### Q7 \n",
        "['Life', 'is', 'too', 'short'] 리스트를 Life is too short 문자열로 만들어 출력해 보자.\n",
        "\n",
        "※ 문자열의 join 함수를 사용하면 리스트를 문자열로 쉽게 만들 수 있다.\n",
        "\n"
      ]
    },
    {
      "cell_type": "code",
      "metadata": {
        "id": "6odgCd2-91Sn",
        "colab_type": "code",
        "outputId": "68fec6ba-0c14-4112-b206-1c5d8d086147",
        "colab": {
          "base_uri": "https://localhost:8080/",
          "height": 35
        }
      },
      "source": [
        "a = ['Life', 'is', 'too', 'short']\n",
        "result = \" \".join(a)\n",
        "print(result)"
      ],
      "execution_count": 0,
      "outputs": [
        {
          "output_type": "stream",
          "text": [
            "Life is too short\n"
          ],
          "name": "stdout"
        }
      ]
    },
    {
      "cell_type": "markdown",
      "metadata": {
        "id": "D_dy1A2DA5Uu",
        "colab_type": "text"
      },
      "source": [
        "a 리스트의 각 단어들을 한 문장으로 조립할 때 단어들 사이마다 공백을 넣어 주어야 한다. 1개의 공백문자(\" \")를 사용하여 join한다."
      ]
    },
    {
      "cell_type": "markdown",
      "metadata": {
        "id": "_fo8Mt3892tI",
        "colab_type": "text"
      },
      "source": [
        "### Q8 \n",
        "(1,2,3) 튜플에 값 4를 추가하여 (1,2,3,4)를 만들어 출력해 보자.\n",
        "\n",
        "※ 더하기(+)를 사용해 보자.\n",
        "\n"
      ]
    },
    {
      "cell_type": "code",
      "metadata": {
        "id": "BGJio46T98lB",
        "colab_type": "code",
        "outputId": "27b42360-0899-44e7-b1a3-f126731d32cf",
        "colab": {
          "base_uri": "https://localhost:8080/",
          "height": 35
        }
      },
      "source": [
        "a = (1, 2, 3)\n",
        "a = a + (4,)\n",
        "print(a)"
      ],
      "execution_count": 0,
      "outputs": [
        {
          "output_type": "stream",
          "text": [
            "(1, 2, 3, 4)\n"
          ],
          "name": "stdout"
        }
      ]
    },
    {
      "cell_type": "markdown",
      "metadata": {
        "id": "3KaABDwxA_i2",
        "colab_type": "text"
      },
      "source": [
        "a 튜플에 (4, )라는 튜플을 더하면 된다. 단, 이때 만들어지는 a + (4, )의 결과는 a 값이 변경되는 것이 아니라(튜플은 그 값을 변경할 수 없다) 새로운 튜플이 생성되고 그 값이 a 변수에 대입되는 것임에 유념하자.\n",
        "\n",
        "다음 코드를 실행해 보면 a의 고유 주소 값이 변경됨을 확인할 수 있다."
      ]
    },
    {
      "cell_type": "code",
      "metadata": {
        "id": "t-vTPkilBCSe",
        "colab_type": "code",
        "outputId": "4ccd08de-5038-4813-81e9-d39385651286",
        "colab": {
          "base_uri": "https://localhost:8080/",
          "height": 71
        }
      },
      "source": [
        "a = (1, 2, 3)\n",
        "print (id(a))   \n",
        "a = a + (4,)\n",
        "print(a)\n",
        "print (id(a))"
      ],
      "execution_count": 0,
      "outputs": [
        {
          "output_type": "stream",
          "text": [
            "140299468209320\n",
            "(1, 2, 3, 4)\n",
            "140299459314216\n"
          ],
          "name": "stdout"
        }
      ]
    },
    {
      "cell_type": "markdown",
      "metadata": {
        "id": "nT3-jIpm92vQ",
        "colab_type": "text"
      },
      "source": [
        "### Q9 \n",
        "다음과 같은 딕셔너리 a가 있다."
      ]
    },
    {
      "cell_type": "code",
      "metadata": {
        "id": "_21wG5jQ-As_",
        "colab_type": "code",
        "outputId": "85eac121-2feb-4452-84a5-cab2128121ed",
        "colab": {
          "base_uri": "https://localhost:8080/",
          "height": 35
        }
      },
      "source": [
        "a = dict()\n",
        "a"
      ],
      "execution_count": 0,
      "outputs": [
        {
          "output_type": "execute_result",
          "data": {
            "text/plain": [
              "{}"
            ]
          },
          "metadata": {
            "tags": []
          },
          "execution_count": 25
        }
      ]
    },
    {
      "cell_type": "markdown",
      "metadata": {
        "id": "eGmguM4g-EeH",
        "colab_type": "text"
      },
      "source": [
        "다음 중 오류가 발생하는 경우를 고르고, 그 이유를 설명해 보자.\n",
        "\n",
        "1. a['name'] = 'python'\n",
        "2. a[('a',)] = 'python'\n",
        "3. a[[1]] = 'python'\n",
        "4. a[250] = 'python'"
      ]
    },
    {
      "cell_type": "markdown",
      "metadata": {
        "id": "Qgtux2rOBLaQ",
        "colab_type": "text"
      },
      "source": [
        "3번째 예를 실행하면 다음과 같은 오류가 발생한다.\n",
        "\n"
      ]
    },
    {
      "cell_type": "code",
      "metadata": {
        "id": "bArPgGVV-LQG",
        "colab_type": "code",
        "outputId": "f76332f4-fb14-433b-d48b-09ac9225e715",
        "colab": {
          "base_uri": "https://localhost:8080/",
          "height": 172
        }
      },
      "source": [
        "a[[1]] = 'python'"
      ],
      "execution_count": 0,
      "outputs": [
        {
          "output_type": "error",
          "ename": "TypeError",
          "evalue": "ignored",
          "traceback": [
            "\u001b[0;31m---------------------------------------------------------------------------\u001b[0m",
            "\u001b[0;31mTypeError\u001b[0m                                 Traceback (most recent call last)",
            "\u001b[0;32m<ipython-input-26-3976fbf303e6>\u001b[0m in \u001b[0;36m<module>\u001b[0;34m()\u001b[0m\n\u001b[0;32m----> 1\u001b[0;31m \u001b[0ma\u001b[0m\u001b[0;34m[\u001b[0m\u001b[0;34m[\u001b[0m\u001b[0;36m1\u001b[0m\u001b[0;34m]\u001b[0m\u001b[0;34m]\u001b[0m \u001b[0;34m=\u001b[0m \u001b[0;34m'python'\u001b[0m\u001b[0;34m\u001b[0m\u001b[0;34m\u001b[0m\u001b[0m\n\u001b[0m",
            "\u001b[0;31mTypeError\u001b[0m: unhashable type: 'list'"
          ]
        }
      ]
    },
    {
      "cell_type": "markdown",
      "metadata": {
        "id": "M7Zu6rmS-Pt_",
        "colab_type": "text"
      },
      "source": [
        "### Q10 \n",
        "딕셔너리 a에서 'B'에 해당되는 값을 추출해 보자.\n",
        "\n"
      ]
    },
    {
      "cell_type": "code",
      "metadata": {
        "id": "r8TqAlm5-VBe",
        "colab_type": "code",
        "colab": {}
      },
      "source": [
        "a = {'A':90, 'B':80, 'C':70}"
      ],
      "execution_count": 0,
      "outputs": []
    },
    {
      "cell_type": "markdown",
      "metadata": {
        "id": "LQc-KXvN-W4I",
        "colab_type": "text"
      },
      "source": [
        "※ 딕셔너리의 pop 함수를 사용해 보자.\n",
        "\n"
      ]
    },
    {
      "cell_type": "code",
      "metadata": {
        "id": "O4QKmRMG-WR3",
        "colab_type": "code",
        "outputId": "ce5d699e-2a4b-49c4-ca50-947147471adc",
        "colab": {
          "base_uri": "https://localhost:8080/",
          "height": 53
        }
      },
      "source": [
        "a = {'A':90, 'B':80, 'C':70}\n",
        "result = a.pop('B')\n",
        "print(a)        \n",
        "print(result) "
      ],
      "execution_count": 0,
      "outputs": [
        {
          "output_type": "stream",
          "text": [
            "{'A': 90, 'C': 70}\n",
            "80\n"
          ],
          "name": "stdout"
        }
      ]
    },
    {
      "cell_type": "markdown",
      "metadata": {
        "id": "NVpwQmzx-YZ_",
        "colab_type": "text"
      },
      "source": [
        "### Q11 \n",
        "a 리스트에서 중복 숫자를 제거해 보자.\n",
        "\n"
      ]
    },
    {
      "cell_type": "code",
      "metadata": {
        "id": "4D3KC79c-b9P",
        "colab_type": "code",
        "colab": {}
      },
      "source": [
        "a = [1, 1, 1, 2, 2, 3, 3, 3, 4, 4, 5]"
      ],
      "execution_count": 0,
      "outputs": []
    },
    {
      "cell_type": "markdown",
      "metadata": {
        "id": "aHxhVcbc-eZK",
        "colab_type": "text"
      },
      "source": [
        "※ 집합 자료형의 요솟값이 중복될 수 없다는 특징을 사용해 보자.\n",
        "\n"
      ]
    },
    {
      "cell_type": "code",
      "metadata": {
        "id": "6C-f8VAj-dI_",
        "colab_type": "code",
        "outputId": "cb252d89-d555-4b4f-b0cb-426b43672f99",
        "colab": {
          "base_uri": "https://localhost:8080/",
          "height": 35
        }
      },
      "source": [
        "a = [1, 1, 1, 2, 2, 3, 3, 3, 4, 4, 5]\n",
        "aSet = set(a)   \n",
        "b = list(aSet)   \n",
        "print(b) "
      ],
      "execution_count": 0,
      "outputs": [
        {
          "output_type": "stream",
          "text": [
            "[1, 2, 3, 4, 5]\n"
          ],
          "name": "stdout"
        }
      ]
    },
    {
      "cell_type": "markdown",
      "metadata": {
        "id": "F0snLA_qBlsP",
        "colab_type": "text"
      },
      "source": [
        "리스트 자료형이 집합 자료형으로 변환되면서 중복된 값들은 사라지게 된다. 이와 같은 성질을 사용하면 리스트 내에 중 복된 값을 쉽게 제거할 수 있다."
      ]
    },
    {
      "cell_type": "markdown",
      "metadata": {
        "id": "XPoIHyZN-ndx",
        "colab_type": "text"
      },
      "source": [
        "### Q12 \n",
        "파이썬은 다음처럼 동일한 값에 여러 개의 변수를 선언할 수 있다. 다음과 같이 a, b 변수를 선언한 후 a의 두 번째 요솟값을 변경하면 b 값은 어떻게 될까? 그리고 이런 결과가 오는 이유에 대해 설명해 보자."
      ]
    },
    {
      "cell_type": "code",
      "metadata": {
        "id": "qaAq4Dz_-qNH",
        "colab_type": "code",
        "outputId": "190ac900-6d10-4c0c-bff8-59d1d4223985",
        "colab": {
          "base_uri": "https://localhost:8080/",
          "height": 35
        }
      },
      "source": [
        "a = b = [1, 2, 3]\n",
        "a[1] = 4\n",
        "print(b)"
      ],
      "execution_count": 0,
      "outputs": [
        {
          "output_type": "stream",
          "text": [
            "[1, 4, 3]\n"
          ],
          "name": "stdout"
        }
      ]
    },
    {
      "cell_type": "markdown",
      "metadata": {
        "id": "h_xK_MvOBow_",
        "colab_type": "text"
      },
      "source": [
        "[1, 4, 3]이 출력된다. a와 b 변수는 모두 동일한 [1, 2, 3]이라는 리스트 객체를 가리키고 있기 때문이다."
      ]
    },
    {
      "cell_type": "markdown",
      "metadata": {
        "id": "UBXexfcj_BkA",
        "colab_type": "text"
      },
      "source": [
        "# 03장 프로그램의 구조를 쌓는다! 제어문"
      ]
    },
    {
      "cell_type": "markdown",
      "metadata": {
        "id": "v7Peww3PItmp",
        "colab_type": "text"
      },
      "source": [
        "### Q1\n",
        "다음 코드의 결괏값은 무엇일까?\n",
        "\n"
      ]
    },
    {
      "cell_type": "code",
      "metadata": {
        "id": "UijBPta8I7vx",
        "colab_type": "code",
        "colab": {
          "base_uri": "https://localhost:8080/",
          "height": 35
        },
        "outputId": "b18a31a8-b677-4f8f-ae68-c78eaaefa486"
      },
      "source": [
        "a = \"Life is too short, you need python\"\n",
        "\n",
        "if \"wife\" in a: print(\"wife\")\n",
        "elif \"python\" in a and \"you\" not in a: print(\"python\")\n",
        "elif \"shirt\" not in a: print(\"shirt\")\n",
        "elif \"need\" in a: print(\"need\")\n",
        "else: print(\"none\")"
      ],
      "execution_count": 1,
      "outputs": [
        {
          "output_type": "stream",
          "text": [
            "shirt\n"
          ],
          "name": "stdout"
        }
      ]
    },
    {
      "cell_type": "markdown",
      "metadata": {
        "id": "qp7K7iJiJaqT",
        "colab_type": "text"
      },
      "source": [
        "결괏값으로 shirt 가 출력된다.\n",
        "\n",
        "1. 첫 번째 조건: \"wife\"라는 단어는 a 문자열에 없으므로 거짓이다.\n",
        "2. 두 번째 조건: \"python\"이라는 단어는 a 문자열에 있지만 \"you\" 역시 a 문자열에 있으므로 거짓이다.\n",
        "3. 세 번째 조건: \"shirt\"라는 단어가 a 문자열에 없으므로 참이다.\n",
        "4. 네 번째 조건: \"need\"라는 단어가 a 문자열에 있으므로 참이다.\n",
        "가장 먼저 참이 되는 것이 세 번째 조건이므로 \"shirt\"가 출력된다."
      ]
    },
    {
      "cell_type": "markdown",
      "metadata": {
        "id": "Gfe_gmPqItsU",
        "colab_type": "text"
      },
      "source": [
        "### Q2\n",
        "while문을 사용해 1부터 1000까지의 자연수 중 3의 배수의 합을 구해 보자.\n",
        "\n"
      ]
    },
    {
      "cell_type": "markdown",
      "metadata": {
        "id": "dCybJ7WdJhlF",
        "colab_type": "text"
      },
      "source": [
        "3의 배수는 3으로 나누어 떨어지는 수이다. 이러한 아이디어를 기반으로 한 파이썬 코드는 다음과 같다.\n",
        "\n"
      ]
    },
    {
      "cell_type": "code",
      "metadata": {
        "id": "K-cHHezXJiHi",
        "colab_type": "code",
        "colab": {
          "base_uri": "https://localhost:8080/",
          "height": 35
        },
        "outputId": "563b8b6d-ddba-4381-ee14-44797e073646"
      },
      "source": [
        "result = 0\n",
        "i = 1\n",
        "while i <= 1000:\n",
        "  if i % 3 == 0:\n",
        "    result += i\n",
        "  i += 1\n",
        "print(result)"
      ],
      "execution_count": 2,
      "outputs": [
        {
          "output_type": "stream",
          "text": [
            "166833\n"
          ],
          "name": "stdout"
        }
      ]
    },
    {
      "cell_type": "markdown",
      "metadata": {
        "id": "RnpfPYthItwa",
        "colab_type": "text"
      },
      "source": [
        "### Q3\n",
        "while문을 사용하여 다음과 같이 별(*)을 표시하는 프로그램을 작성해 보자.\n",
        "\n"
      ]
    },
    {
      "cell_type": "code",
      "metadata": {
        "id": "AAdIiXGHJK_1",
        "colab_type": "code",
        "colab": {}
      },
      "source": [
        "*\n",
        "**\n",
        "***\n",
        "****\n",
        "*****"
      ],
      "execution_count": 0,
      "outputs": []
    },
    {
      "cell_type": "code",
      "metadata": {
        "id": "D0UzpUV1J0DY",
        "colab_type": "code",
        "colab": {
          "base_uri": "https://localhost:8080/",
          "height": 107
        },
        "outputId": "1959608b-63a9-4b3c-81f1-4079bd38e0b4"
      },
      "source": [
        "i = 0\n",
        "while True:\n",
        "  i += 1\n",
        "  if i > 5 : break\n",
        "  print('*' * i)"
      ],
      "execution_count": 4,
      "outputs": [
        {
          "output_type": "stream",
          "text": [
            "*\n",
            "**\n",
            "***\n",
            "****\n",
            "*****\n"
          ],
          "name": "stdout"
        }
      ]
    },
    {
      "cell_type": "markdown",
      "metadata": {
        "id": "0kncEfOfN56g",
        "colab_type": "text"
      },
      "source": [
        "while문을 수행할 때마다 i 값을 증가시킨다. 별 모양을 5번 출력해야 하므로 i 값이 5 이상일 경우 while문을 벗어나도록 한다. 별 모양을 i 값 만큼 출력하기 위해서 문자열 곱하기 기능을 사용한다."
      ]
    },
    {
      "cell_type": "markdown",
      "metadata": {
        "id": "i5pbXqACIt3b",
        "colab_type": "text"
      },
      "source": [
        "### Q4\n",
        "for문을 사용해 1부터 100까지의 숫자를 출력해 보자.\n",
        "\n"
      ]
    },
    {
      "cell_type": "code",
      "metadata": {
        "id": "zNK_GHEcN7ax",
        "colab_type": "code",
        "colab": {
          "base_uri": "https://localhost:8080/",
          "height": 55
        },
        "outputId": "9b9f04a9-3a6c-421d-d4e6-d07b6aef524e"
      },
      "source": [
        "for i in range(1,101):\n",
        "  print(i, end=' ')"
      ],
      "execution_count": 6,
      "outputs": [
        {
          "output_type": "stream",
          "text": [
            "1 2 3 4 5 6 7 8 9 10 11 12 13 14 15 16 17 18 19 20 21 22 23 24 25 26 27 28 29 30 31 32 33 34 35 36 37 38 39 40 41 42 43 44 45 46 47 48 49 50 51 52 53 54 55 56 57 58 59 60 61 62 63 64 65 66 67 68 69 70 71 72 73 74 75 76 77 78 79 80 81 82 83 84 85 86 87 88 89 90 91 92 93 94 95 96 97 98 99 100 "
          ],
          "name": "stdout"
        }
      ]
    },
    {
      "cell_type": "markdown",
      "metadata": {
        "id": "MgId2MxOIt9Q",
        "colab_type": "text"
      },
      "source": [
        "### Q5\n",
        "A 학급에 총 10명의 학생이 있다. 이 학생들의 중간고사 점수는 다음과 같다.\n",
        "\n",
        "[70, 60, 55, 75, 95, 90, 80, 80, 85, 100]\n",
        "\n",
        "for문을 사용하여 A 학급의 평균 점수를 구해 보자."
      ]
    },
    {
      "cell_type": "code",
      "metadata": {
        "id": "xEQs68hIOUAo",
        "colab_type": "code",
        "colab": {
          "base_uri": "https://localhost:8080/",
          "height": 35
        },
        "outputId": "1ac58a64-c382-45ab-cc46-78c22a034742"
      },
      "source": [
        "A = [70, 60, 55, 75, 95, 90, 80, 80, 85, 100]\n",
        "total = 0\n",
        "\n",
        "for score in A:\n",
        "  total += score\n",
        "  \n",
        "average = total / len(A)\n",
        "print(average)"
      ],
      "execution_count": 7,
      "outputs": [
        {
          "output_type": "stream",
          "text": [
            "79.0\n"
          ],
          "name": "stdout"
        }
      ]
    },
    {
      "cell_type": "markdown",
      "metadata": {
        "id": "k9Dzr_WrOml0",
        "colab_type": "text"
      },
      "source": [
        "for문을 사용하여 먼저 총 점수를 구한 후 총 점수를 총 학생 수로 나누어 평균 점수를 구한다.\n",
        "\n"
      ]
    },
    {
      "cell_type": "markdown",
      "metadata": {
        "id": "52wnL4hCIt0E",
        "colab_type": "text"
      },
      "source": [
        "### Q6\n",
        "리스트 중에서 홀수에만 2를 곱하여 저장하는 다음 코드가 있다.\n",
        "\n"
      ]
    },
    {
      "cell_type": "code",
      "metadata": {
        "id": "rTAP-1sLJSGb",
        "colab_type": "code",
        "colab": {}
      },
      "source": [
        "numbers = [1, 2, 3, 4, 5]\n",
        "result = []\n",
        "for n in numbers:\n",
        "    if n % 2 == 1:\n",
        "        result.append(n*2)"
      ],
      "execution_count": 0,
      "outputs": []
    },
    {
      "cell_type": "markdown",
      "metadata": {
        "id": "JvrwNKvnJTmz",
        "colab_type": "text"
      },
      "source": [
        "위 코드를 리스트 내포(list comprehension)를 사용하여 표현해 보자."
      ]
    },
    {
      "cell_type": "code",
      "metadata": {
        "id": "vfmNG6ux_HUH",
        "colab_type": "code",
        "colab": {
          "base_uri": "https://localhost:8080/",
          "height": 35
        },
        "outputId": "a5517a05-0b4f-4b6c-f872-1ab6b5ecc772"
      },
      "source": [
        "numbers = [1, 2, 3, 4, 5]\n",
        "result = [n*2 for n in numbers if n%2==1]\n",
        "print(result)"
      ],
      "execution_count": 8,
      "outputs": [
        {
          "output_type": "stream",
          "text": [
            "[2, 6, 10]\n"
          ],
          "name": "stdout"
        }
      ]
    }
  ]
}