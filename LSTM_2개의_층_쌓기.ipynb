{
  "nbformat": 4,
  "nbformat_minor": 0,
  "metadata": {
    "colab": {
      "name": "LSTM 2개의 층 쌓기",
      "provenance": [],
      "collapsed_sections": [],
      "include_colab_link": true
    },
    "kernelspec": {
      "name": "python3",
      "display_name": "Python 3"
    }
  },
  "cells": [
    {
      "cell_type": "markdown",
      "metadata": {
        "id": "view-in-github",
        "colab_type": "text"
      },
      "source": [
        "<a href=\"https://colab.research.google.com/github/dockhs1313/19-lab/blob/master/LSTM_2%EA%B0%9C%EC%9D%98_%EC%B8%B5_%EC%8C%93%EA%B8%B0.ipynb\" target=\"_parent\"><img src=\"https://colab.research.google.com/assets/colab-badge.svg\" alt=\"Open In Colab\"/></a>"
      ]
    },
    {
      "cell_type": "code",
      "metadata": {
        "id": "xvyByzZRXXcw",
        "colab_type": "code",
        "colab": {
          "base_uri": "https://localhost:8080/",
          "height": 105
        },
        "outputId": "24dcb638-0dbc-43a5-977e-18d2a9170230"
      },
      "source": [
        "try:\n",
        "\n",
        "    %tensorflow_version 2.x  # %tensorflow_version only exists in Colab\n",
        "\n",
        "except Exception:\n",
        "\n",
        "    pass"
      ],
      "execution_count": 1,
      "outputs": [
        {
          "output_type": "stream",
          "text": [
            "`%tensorflow_version` only switches the major version: `1.x` or `2.x`.\n",
            "You set: `2.x  # %tensorflow_version only exists in Colab`. This will be interpreted as: `2.x`.\n",
            "\n",
            "\n",
            "TensorFlow 2.x selected.\n"
          ],
          "name": "stdout"
        }
      ]
    },
    {
      "cell_type": "code",
      "metadata": {
        "id": "KNF_8z2mXZEs",
        "colab_type": "code",
        "colab": {
          "base_uri": "https://localhost:8080/",
          "height": 34
        },
        "outputId": "decd0040-aefa-4204-de2e-237ee3980d15"
      },
      "source": [
        "import tensorflow as tf\n",
        "tf.__version__"
      ],
      "execution_count": 2,
      "outputs": [
        {
          "output_type": "execute_result",
          "data": {
            "text/plain": [
              "'2.0.0'"
            ]
          },
          "metadata": {
            "tags": []
          },
          "execution_count": 2
        }
      ]
    },
    {
      "cell_type": "markdown",
      "metadata": {
        "id": "S-sRfj7dXhkv",
        "colab_type": "text"
      },
      "source": [
        "## 텐서플로로 LSTM 순환 신경망 만들기"
      ]
    },
    {
      "cell_type": "markdown",
      "metadata": {
        "id": "BbSzmeyBXlk9",
        "colab_type": "text"
      },
      "source": [
        "#### 비교를 위한 기존 LSTM 신경망 구축하기\n",
        "\n",
        "책에서와 같이 LSTM 순환 신경망을 구현해 본다."
      ]
    },
    {
      "cell_type": "code",
      "metadata": {
        "id": "wAgkDkElXbJw",
        "colab_type": "code",
        "colab": {
          "base_uri": "https://localhost:8080/",
          "height": 263
        },
        "outputId": "a172c351-df0b-4154-c44b-d4cba6ee23fd"
      },
      "source": [
        "from tensorflow.keras.models import Sequential\n",
        "from tensorflow.keras.layers import Embedding\n",
        "from tensorflow.keras.layers import Dense\n",
        "from tensorflow.keras.layers import LSTM\n",
        "\n",
        "model_lstm = Sequential()\n",
        "\n",
        "model_lstm.add(Embedding(1000,32))\n",
        "model_lstm.add(LSTM(8))\n",
        "model_lstm.add(Dense(1, activation='sigmoid'))\n",
        "\n",
        "model_lstm.summary()"
      ],
      "execution_count": 4,
      "outputs": [
        {
          "output_type": "stream",
          "text": [
            "Model: \"sequential\"\n",
            "_________________________________________________________________\n",
            "Layer (type)                 Output Shape              Param #   \n",
            "=================================================================\n",
            "embedding (Embedding)        (None, None, 32)          32000     \n",
            "_________________________________________________________________\n",
            "lstm (LSTM)                  (None, 8)                 1312      \n",
            "_________________________________________________________________\n",
            "dense (Dense)                (None, 1)                 9         \n",
            "=================================================================\n",
            "Total params: 33,321\n",
            "Trainable params: 33,321\n",
            "Non-trainable params: 0\n",
            "_________________________________________________________________\n"
          ],
          "name": "stdout"
        }
      ]
    },
    {
      "cell_type": "code",
      "metadata": {
        "id": "JJ9QjHZZXgcM",
        "colab_type": "code",
        "colab": {
          "base_uri": "https://localhost:8080/",
          "height": 52
        },
        "outputId": "170c6fc3-a6f2-4ee4-f445-a3d65a289c5f"
      },
      "source": [
        "from tensorflow.keras.datasets import imdb\n",
        "(x_train_all, y_train_all), (x_test, y_test)=imdb.load_data(skip_top=20, num_words=1000)\n",
        "# 앞과 마찬가지로 단어 1000개\n",
        "\n",
        "for i in range(len(x_train_all)):\n",
        "  x_train_all[i]=[w for w in x_train_all[i] if w>2]\n",
        "\n",
        "import numpy as np\n",
        "np.random.seed(42)\n",
        "random_index=np.random.permutation(25000)\n",
        "\n",
        "x_train=x_train_all[random_index[:20000]]\n",
        "y_train=y_train_all[random_index[:20000]]\n",
        "x_val=x_train_all[random_index[20000:]]\n",
        "y_val=y_train_all[random_index[20000:]]"
      ],
      "execution_count": 5,
      "outputs": [
        {
          "output_type": "stream",
          "text": [
            "Downloading data from https://storage.googleapis.com/tensorflow/tf-keras-datasets/imdb.npz\n",
            "17465344/17464789 [==============================] - 0s 0us/step\n"
          ],
          "name": "stdout"
        }
      ]
    },
    {
      "cell_type": "markdown",
      "metadata": {
        "id": "I-ydeG8rZA5R",
        "colab_type": "text"
      },
      "source": [
        "LSTM을 한층만 쌓고 10번의 에포크 동안 Adam 옵티마이저를 사용한다."
      ]
    },
    {
      "cell_type": "code",
      "metadata": {
        "id": "svEFP2NgXwkz",
        "colab_type": "code",
        "colab": {}
      },
      "source": [
        "from tensorflow.keras.preprocessing import sequence\n",
        "\n",
        "maxlen=100\n",
        "x_train_seq = sequence.pad_sequences(x_train, maxlen=maxlen)\n",
        "x_val_seq = sequence.pad_sequences(x_val, maxlen=maxlen)"
      ],
      "execution_count": 0,
      "outputs": []
    },
    {
      "cell_type": "code",
      "metadata": {
        "id": "KaV7t87mXzLv",
        "colab_type": "code",
        "colab": {
          "base_uri": "https://localhost:8080/",
          "height": 404
        },
        "outputId": "4fff1792-46fc-4837-8bcb-51556d9beccb"
      },
      "source": [
        "model_lstm.compile(optimizer='adam', loss='binary_crossentropy', metrics=['accuracy'])\n",
        "history=model_lstm.fit(x_train_seq, y_train, epochs=10, batch_size=32, validation_data=(x_val_seq, y_val))\n",
        "\n",
        "loss, accuracy = model_lstm.evaluate(x_val_seq, y_val, verbose=0)\n",
        "print(accuracy)"
      ],
      "execution_count": 7,
      "outputs": [
        {
          "output_type": "stream",
          "text": [
            "Train on 20000 samples, validate on 5000 samples\n",
            "Epoch 1/10\n",
            "20000/20000 [==============================] - 29s 1ms/sample - loss: 0.4576 - accuracy: 0.7964 - val_loss: 0.3788 - val_accuracy: 0.8380\n",
            "Epoch 2/10\n",
            "20000/20000 [==============================] - 26s 1ms/sample - loss: 0.3365 - accuracy: 0.8593 - val_loss: 0.3754 - val_accuracy: 0.8338\n",
            "Epoch 3/10\n",
            "20000/20000 [==============================] - 26s 1ms/sample - loss: 0.3092 - accuracy: 0.8712 - val_loss: 0.3662 - val_accuracy: 0.8430\n",
            "Epoch 4/10\n",
            "20000/20000 [==============================] - 27s 1ms/sample - loss: 0.2922 - accuracy: 0.8781 - val_loss: 0.3679 - val_accuracy: 0.8424\n",
            "Epoch 5/10\n",
            "20000/20000 [==============================] - 28s 1ms/sample - loss: 0.2758 - accuracy: 0.8853 - val_loss: 0.3727 - val_accuracy: 0.8420\n",
            "Epoch 6/10\n",
            "20000/20000 [==============================] - 27s 1ms/sample - loss: 0.2616 - accuracy: 0.8902 - val_loss: 0.3901 - val_accuracy: 0.8424\n",
            "Epoch 7/10\n",
            "20000/20000 [==============================] - 28s 1ms/sample - loss: 0.2513 - accuracy: 0.8964 - val_loss: 0.3934 - val_accuracy: 0.8378\n",
            "Epoch 8/10\n",
            "20000/20000 [==============================] - 28s 1ms/sample - loss: 0.2418 - accuracy: 0.8999 - val_loss: 0.4198 - val_accuracy: 0.8270\n",
            "Epoch 9/10\n",
            "20000/20000 [==============================] - 27s 1ms/sample - loss: 0.2335 - accuracy: 0.9054 - val_loss: 0.4135 - val_accuracy: 0.8312\n",
            "Epoch 10/10\n",
            "20000/20000 [==============================] - 28s 1ms/sample - loss: 0.2225 - accuracy: 0.9097 - val_loss: 0.4186 - val_accuracy: 0.8324\n",
            "0.8324\n"
          ],
          "name": "stdout"
        }
      ]
    },
    {
      "cell_type": "markdown",
      "metadata": {
        "id": "eIvG5hJgZLZV",
        "colab_type": "text"
      },
      "source": [
        "LSTM 한층으로 구현했을 때에는 83.24% 정확도가 나온다."
      ]
    },
    {
      "cell_type": "markdown",
      "metadata": {
        "id": "y7t5XX1mZ4yb",
        "colab_type": "text"
      },
      "source": [
        "### LSTM 2개의 층으로 비교하기"
      ]
    },
    {
      "cell_type": "markdown",
      "metadata": {
        "id": "_n7wAmtWaF7Q",
        "colab_type": "text"
      },
      "source": [
        "return_sequences로 2개의 층을 구현한다.\n",
        "\n",
        "LSTM 레이어는 return_sequences 인자에 따라 마지막 시퀀스에서 한 번만 출력할 수 있고 각 시퀀스에서 출력을 할 수 있다. many to many 문제를 풀거나 LSTM 레이어를 여러개로 쌓아올릴 때는 return_sequence=True 옵션을 사용한다. 왼쪽은 return_sequences=False일 때, 오른쪽은 return_sequence=True일 때의 형상이다."
      ]
    },
    {
      "cell_type": "code",
      "metadata": {
        "id": "hOl6HcgLX8Wx",
        "colab_type": "code",
        "colab": {
          "base_uri": "https://localhost:8080/",
          "height": 298
        },
        "outputId": "9ee9b1ed-4054-41a6-a6bb-0c409cd51583"
      },
      "source": [
        "from tensorflow.keras.models import Sequential\n",
        "from tensorflow.keras.layers import Embedding\n",
        "from tensorflow.keras.layers import Dense\n",
        "from tensorflow.keras.layers import LSTM\n",
        "\n",
        "model_lstm = Sequential()\n",
        "model_lstm.add(Embedding(1000,32))\n",
        "model_lstm.add(LSTM(8, return_sequences=True))\n",
        "model_lstm.add(LSTM(4,return_sequences=False))\n",
        "model_lstm.add(Dense(1, activation='sigmoid'))\n",
        "\n",
        "model_lstm.summary()"
      ],
      "execution_count": 3,
      "outputs": [
        {
          "output_type": "stream",
          "text": [
            "Model: \"sequential\"\n",
            "_________________________________________________________________\n",
            "Layer (type)                 Output Shape              Param #   \n",
            "=================================================================\n",
            "embedding (Embedding)        (None, None, 32)          32000     \n",
            "_________________________________________________________________\n",
            "lstm (LSTM)                  (None, None, 8)           1312      \n",
            "_________________________________________________________________\n",
            "lstm_1 (LSTM)                (None, 4)                 208       \n",
            "_________________________________________________________________\n",
            "dense (Dense)                (None, 1)                 5         \n",
            "=================================================================\n",
            "Total params: 33,525\n",
            "Trainable params: 33,525\n",
            "Non-trainable params: 0\n",
            "_________________________________________________________________\n"
          ],
          "name": "stdout"
        }
      ]
    },
    {
      "cell_type": "code",
      "metadata": {
        "id": "4156BIM3X_Vq",
        "colab_type": "code",
        "colab": {
          "base_uri": "https://localhost:8080/",
          "height": 52
        },
        "outputId": "5b400b2a-c7ec-4909-9f46-ed106e591c21"
      },
      "source": [
        "from tensorflow.keras.datasets import imdb\n",
        "(x_train_all, y_train_all), (x_test, y_test)=imdb.load_data(skip_top=20, num_words=1000)\n",
        "# 앞과 마찬가지로 단어 1000개\n",
        "\n",
        "for i in range(len(x_train_all)):\n",
        "  x_train_all[i]=[w for w in x_train_all[i] if w>2]\n",
        "\n",
        "import numpy as np\n",
        "np.random.seed(42)\n",
        "random_index=np.random.permutation(25000)\n",
        "\n",
        "x_train=x_train_all[random_index[:20000]]\n",
        "y_train=y_train_all[random_index[:20000]]\n",
        "x_val=x_train_all[random_index[20000:]]\n",
        "y_val=y_train_all[random_index[20000:]]"
      ],
      "execution_count": 4,
      "outputs": [
        {
          "output_type": "stream",
          "text": [
            "Downloading data from https://storage.googleapis.com/tensorflow/tf-keras-datasets/imdb.npz\n",
            "17465344/17464789 [==============================] - 0s 0us/step\n"
          ],
          "name": "stdout"
        }
      ]
    },
    {
      "cell_type": "code",
      "metadata": {
        "id": "yAOzz4sEYBos",
        "colab_type": "code",
        "colab": {}
      },
      "source": [
        "from tensorflow.keras.preprocessing import sequence\n",
        "\n",
        "maxlen=100\n",
        "x_train_seq = sequence.pad_sequences(x_train, maxlen=maxlen)\n",
        "x_val_seq = sequence.pad_sequences(x_val, maxlen=maxlen)"
      ],
      "execution_count": 0,
      "outputs": []
    },
    {
      "cell_type": "code",
      "metadata": {
        "id": "VDl_-htqYDVV",
        "colab_type": "code",
        "colab": {
          "base_uri": "https://localhost:8080/",
          "height": 404
        },
        "outputId": "5d889a9a-40a7-4f41-805d-6ee9424ca53e"
      },
      "source": [
        "model_lstm.compile(optimizer='adam', loss='binary_crossentropy', metrics=['accuracy'])\n",
        "history=model_lstm.fit(x_train_seq, y_train, epochs=10, batch_size=32, validation_data=(x_val_seq, y_val))\n",
        "\n",
        "loss, accuracy = model_lstm.evaluate(x_val_seq, y_val, verbose=0)\n",
        "print(accuracy)"
      ],
      "execution_count": 6,
      "outputs": [
        {
          "output_type": "stream",
          "text": [
            "Train on 20000 samples, validate on 5000 samples\n",
            "Epoch 1/10\n",
            "20000/20000 [==============================] - 49s 2ms/sample - loss: 0.4562 - accuracy: 0.7885 - val_loss: 0.3835 - val_accuracy: 0.8310\n",
            "Epoch 2/10\n",
            "20000/20000 [==============================] - 43s 2ms/sample - loss: 0.3434 - accuracy: 0.8559 - val_loss: 0.3588 - val_accuracy: 0.8452\n",
            "Epoch 3/10\n",
            "20000/20000 [==============================] - 45s 2ms/sample - loss: 0.3175 - accuracy: 0.8673 - val_loss: 0.3553 - val_accuracy: 0.8480\n",
            "Epoch 4/10\n",
            "20000/20000 [==============================] - 44s 2ms/sample - loss: 0.3003 - accuracy: 0.8751 - val_loss: 0.3535 - val_accuracy: 0.8468\n",
            "Epoch 5/10\n",
            "20000/20000 [==============================] - 44s 2ms/sample - loss: 0.2855 - accuracy: 0.8801 - val_loss: 0.3704 - val_accuracy: 0.8404\n",
            "Epoch 6/10\n",
            "20000/20000 [==============================] - 45s 2ms/sample - loss: 0.2687 - accuracy: 0.8875 - val_loss: 0.3829 - val_accuracy: 0.8432\n",
            "Epoch 7/10\n",
            "20000/20000 [==============================] - 49s 2ms/sample - loss: 0.2530 - accuracy: 0.8950 - val_loss: 0.3824 - val_accuracy: 0.8416\n",
            "Epoch 8/10\n",
            "20000/20000 [==============================] - 49s 2ms/sample - loss: 0.2410 - accuracy: 0.9011 - val_loss: 0.3952 - val_accuracy: 0.8374\n",
            "Epoch 9/10\n",
            "20000/20000 [==============================] - 49s 2ms/sample - loss: 0.2284 - accuracy: 0.9075 - val_loss: 0.3967 - val_accuracy: 0.8370\n",
            "Epoch 10/10\n",
            "20000/20000 [==============================] - 49s 2ms/sample - loss: 0.2123 - accuracy: 0.9168 - val_loss: 0.4117 - val_accuracy: 0.8368\n",
            "0.8368\n"
          ],
          "name": "stdout"
        }
      ]
    },
    {
      "cell_type": "markdown",
      "metadata": {
        "id": "Te9pH9GwaoPH",
        "colab_type": "text"
      },
      "source": [
        "LSTM 한개의 층(83.24%)과 비교하여 두개의 층(83.68%)에서는 약 0.44% 정도 증가함을 볼 수 있다. 첫번째 실행했을때 83.34%로 나왔다가 한번 더 실행해 봤더니 83.68%의 정확도가 나왔다."
      ]
    },
    {
      "cell_type": "code",
      "metadata": {
        "id": "3tM_xPSYZZaC",
        "colab_type": "code",
        "colab": {}
      },
      "source": [
        ""
      ],
      "execution_count": 0,
      "outputs": []
    }
  ]
}